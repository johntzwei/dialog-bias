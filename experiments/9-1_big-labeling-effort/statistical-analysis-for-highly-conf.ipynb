{
 "cells": [
  {
   "cell_type": "code",
   "execution_count": 32,
   "metadata": {},
   "outputs": [],
   "source": [
    "import pandas as pd\n",
    "import numpy as np\n",
    "import seaborn as sns\n",
    "sns.set()\n",
    "import matplotlib.pyplot as plt"
   ]
  },
  {
   "cell_type": "code",
   "execution_count": 33,
   "metadata": {
    "scrolled": true
   },
   "outputs": [
    {
     "data": {
      "text/html": [
       "<div>\n",
       "<style scoped>\n",
       "    .dataframe tbody tr th:only-of-type {\n",
       "        vertical-align: middle;\n",
       "    }\n",
       "\n",
       "    .dataframe tbody tr th {\n",
       "        vertical-align: top;\n",
       "    }\n",
       "\n",
       "    .dataframe thead th {\n",
       "        text-align: right;\n",
       "    }\n",
       "</style>\n",
       "<table border=\"1\" class=\"dataframe\">\n",
       "  <thead>\n",
       "    <tr style=\"text-align: right;\">\n",
       "      <th></th>\n",
       "      <th>index</th>\n",
       "      <th>text</th>\n",
       "      <th>label</th>\n",
       "      <th>gender</th>\n",
       "    </tr>\n",
       "  </thead>\n",
       "  <tbody>\n",
       "    <tr>\n",
       "      <th>0</th>\n",
       "      <td>0</td>\n",
       "      <td>[CLS] do you want a gaming PC? [SEP] Yes, yes ...</td>\n",
       "      <td>n</td>\n",
       "      <td>M</td>\n",
       "    </tr>\n",
       "  </tbody>\n",
       "</table>\n",
       "</div>"
      ],
      "text/plain": [
       "  index                                               text label gender\n",
       "0     0  [CLS] do you want a gaming PC? [SEP] Yes, yes ...     n      M"
      ]
     },
     "execution_count": 33,
     "metadata": {},
     "output_type": "execute_result"
    }
   ],
   "source": [
    "df = pd.read_csv('./highly_conf.csv')\n",
    "df.columns = ['index', 'text', 'label', 'gender']\n",
    "df.head(1)"
   ]
  },
  {
   "cell_type": "code",
   "execution_count": 34,
   "metadata": {},
   "outputs": [],
   "source": [
    "df['predictions'] = [ i.strip() for i in open('predictions_highly_conf.txt', 'rt')][1:]"
   ]
  },
  {
   "cell_type": "code",
   "execution_count": 35,
   "metadata": {},
   "outputs": [
    {
     "data": {
      "text/html": [
       "<div>\n",
       "<style scoped>\n",
       "    .dataframe tbody tr th:only-of-type {\n",
       "        vertical-align: middle;\n",
       "    }\n",
       "\n",
       "    .dataframe tbody tr th {\n",
       "        vertical-align: top;\n",
       "    }\n",
       "\n",
       "    .dataframe thead th {\n",
       "        text-align: right;\n",
       "    }\n",
       "</style>\n",
       "<table border=\"1\" class=\"dataframe\">\n",
       "  <thead>\n",
       "    <tr style=\"text-align: right;\">\n",
       "      <th></th>\n",
       "      <th>index</th>\n",
       "      <th>text</th>\n",
       "      <th>label</th>\n",
       "      <th>predictions</th>\n",
       "    </tr>\n",
       "    <tr>\n",
       "      <th>gender</th>\n",
       "      <th></th>\n",
       "      <th></th>\n",
       "      <th></th>\n",
       "      <th></th>\n",
       "    </tr>\n",
       "  </thead>\n",
       "  <tbody>\n",
       "    <tr>\n",
       "      <th>M</th>\n",
       "      <td>7702</td>\n",
       "      <td>7702</td>\n",
       "      <td>6768</td>\n",
       "      <td>7702</td>\n",
       "    </tr>\n",
       "    <tr>\n",
       "      <th>W</th>\n",
       "      <td>6000</td>\n",
       "      <td>6000</td>\n",
       "      <td>0</td>\n",
       "      <td>6000</td>\n",
       "    </tr>\n",
       "  </tbody>\n",
       "</table>\n",
       "</div>"
      ],
      "text/plain": [
       "        index  text  label  predictions\n",
       "gender                                 \n",
       "M        7702  7702   6768         7702\n",
       "W        6000  6000      0         6000"
      ]
     },
     "execution_count": 35,
     "metadata": {},
     "output_type": "execute_result"
    }
   ],
   "source": [
    "df.groupby('gender').count()"
   ]
  },
  {
   "cell_type": "code",
   "execution_count": 55,
   "metadata": {},
   "outputs": [
    {
     "data": {
      "text/html": [
       "<div>\n",
       "<style scoped>\n",
       "    .dataframe tbody tr th:only-of-type {\n",
       "        vertical-align: middle;\n",
       "    }\n",
       "\n",
       "    .dataframe tbody tr th {\n",
       "        vertical-align: top;\n",
       "    }\n",
       "\n",
       "    .dataframe thead th {\n",
       "        text-align: right;\n",
       "    }\n",
       "</style>\n",
       "<table border=\"1\" class=\"dataframe\">\n",
       "  <thead>\n",
       "    <tr style=\"text-align: right;\">\n",
       "      <th></th>\n",
       "      <th>index</th>\n",
       "      <th>text</th>\n",
       "      <th>label</th>\n",
       "      <th>predictions</th>\n",
       "    </tr>\n",
       "    <tr>\n",
       "      <th>gender</th>\n",
       "      <th></th>\n",
       "      <th></th>\n",
       "      <th></th>\n",
       "      <th></th>\n",
       "    </tr>\n",
       "  </thead>\n",
       "  <tbody>\n",
       "    <tr>\n",
       "      <th>M</th>\n",
       "      <td>250</td>\n",
       "      <td>250</td>\n",
       "      <td>226</td>\n",
       "      <td>250</td>\n",
       "    </tr>\n",
       "    <tr>\n",
       "      <th>W</th>\n",
       "      <td>250</td>\n",
       "      <td>250</td>\n",
       "      <td>0</td>\n",
       "      <td>250</td>\n",
       "    </tr>\n",
       "  </tbody>\n",
       "</table>\n",
       "</div>"
      ],
      "text/plain": [
       "        index  text  label  predictions\n",
       "gender                                 \n",
       "M         250   250    226          250\n",
       "W         250   250      0          250"
      ]
     },
     "execution_count": 55,
     "metadata": {},
     "output_type": "execute_result"
    }
   ],
   "source": [
    "balanced = pd.concat([df[df.gender == 'M'].sample(250), df[df.gender == 'W'].sample(250)])\n",
    "balanced.groupby('gender').count()"
   ]
  },
  {
   "cell_type": "code",
   "execution_count": 56,
   "metadata": {},
   "outputs": [
    {
     "data": {
      "text/html": [
       "<div>\n",
       "<style scoped>\n",
       "    .dataframe tbody tr th:only-of-type {\n",
       "        vertical-align: middle;\n",
       "    }\n",
       "\n",
       "    .dataframe tbody tr th {\n",
       "        vertical-align: top;\n",
       "    }\n",
       "\n",
       "    .dataframe thead th {\n",
       "        text-align: right;\n",
       "    }\n",
       "</style>\n",
       "<table border=\"1\" class=\"dataframe\">\n",
       "  <thead>\n",
       "    <tr style=\"text-align: right;\">\n",
       "      <th></th>\n",
       "      <th>index</th>\n",
       "      <th>text</th>\n",
       "      <th>label</th>\n",
       "      <th>gender</th>\n",
       "      <th>predictions</th>\n",
       "    </tr>\n",
       "  </thead>\n",
       "  <tbody>\n",
       "    <tr>\n",
       "      <th>6020</th>\n",
       "      <td>6020</td>\n",
       "      <td>[CLS] Does anybody else hate the trend of all ...</td>\n",
       "      <td>n</td>\n",
       "      <td>M</td>\n",
       "      <td>f</td>\n",
       "    </tr>\n",
       "    <tr>\n",
       "      <th>1326</th>\n",
       "      <td>1326</td>\n",
       "      <td>[CLS] Isnt Hillary the exact opposite of what ...</td>\n",
       "      <td>n</td>\n",
       "      <td>M</td>\n",
       "      <td>n</td>\n",
       "    </tr>\n",
       "    <tr>\n",
       "      <th>4659</th>\n",
       "      <td>4659</td>\n",
       "      <td>[CLS] Do I want Trump as president? [SEP] You ...</td>\n",
       "      <td>n</td>\n",
       "      <td>M</td>\n",
       "      <td>n</td>\n",
       "    </tr>\n",
       "    <tr>\n",
       "      <th>3001</th>\n",
       "      <td>3001</td>\n",
       "      <td>[CLS] Dont you guys already have a way to capt...</td>\n",
       "      <td>n</td>\n",
       "      <td>M</td>\n",
       "      <td>n</td>\n",
       "    </tr>\n",
       "    <tr>\n",
       "      <th>5955</th>\n",
       "      <td>5955</td>\n",
       "      <td>[CLS] Does the player development engine take ...</td>\n",
       "      <td>n</td>\n",
       "      <td>M</td>\n",
       "      <td>f</td>\n",
       "    </tr>\n",
       "    <tr>\n",
       "      <th>...</th>\n",
       "      <td>...</td>\n",
       "      <td>...</td>\n",
       "      <td>...</td>\n",
       "      <td>...</td>\n",
       "      <td>...</td>\n",
       "    </tr>\n",
       "    <tr>\n",
       "      <th>11256</th>\n",
       "      <td>11294</td>\n",
       "      <td>[CLS] Are you seriously arguing the National L...</td>\n",
       "      <td>NaN</td>\n",
       "      <td>W</td>\n",
       "      <td>n</td>\n",
       "    </tr>\n",
       "    <tr>\n",
       "      <th>9855</th>\n",
       "      <td>9893</td>\n",
       "      <td>[CLS] Do you remember that thing you said on y...</td>\n",
       "      <td>NaN</td>\n",
       "      <td>W</td>\n",
       "      <td>n</td>\n",
       "    </tr>\n",
       "    <tr>\n",
       "      <th>8463</th>\n",
       "      <td>8501</td>\n",
       "      <td>[CLS] Do you happen to live in a cat tv drama?...</td>\n",
       "      <td>NaN</td>\n",
       "      <td>W</td>\n",
       "      <td>f</td>\n",
       "    </tr>\n",
       "    <tr>\n",
       "      <th>8156</th>\n",
       "      <td>8194</td>\n",
       "      <td>[CLS] Dont you think things would have turned ...</td>\n",
       "      <td>NaN</td>\n",
       "      <td>W</td>\n",
       "      <td>n</td>\n",
       "    </tr>\n",
       "    <tr>\n",
       "      <th>11266</th>\n",
       "      <td>11304</td>\n",
       "      <td>[CLS] Does the UK want a million old people co...</td>\n",
       "      <td>NaN</td>\n",
       "      <td>W</td>\n",
       "      <td>f</td>\n",
       "    </tr>\n",
       "  </tbody>\n",
       "</table>\n",
       "<p>500 rows × 5 columns</p>\n",
       "</div>"
      ],
      "text/plain": [
       "       index                                               text label gender  \\\n",
       "6020    6020  [CLS] Does anybody else hate the trend of all ...     n      M   \n",
       "1326    1326  [CLS] Isnt Hillary the exact opposite of what ...     n      M   \n",
       "4659    4659  [CLS] Do I want Trump as president? [SEP] You ...     n      M   \n",
       "3001    3001  [CLS] Dont you guys already have a way to capt...     n      M   \n",
       "5955    5955  [CLS] Does the player development engine take ...     n      M   \n",
       "...      ...                                                ...   ...    ...   \n",
       "11256  11294  [CLS] Are you seriously arguing the National L...   NaN      W   \n",
       "9855    9893  [CLS] Do you remember that thing you said on y...   NaN      W   \n",
       "8463    8501  [CLS] Do you happen to live in a cat tv drama?...   NaN      W   \n",
       "8156    8194  [CLS] Dont you think things would have turned ...   NaN      W   \n",
       "11266  11304  [CLS] Does the UK want a million old people co...   NaN      W   \n",
       "\n",
       "      predictions  \n",
       "6020            f  \n",
       "1326            n  \n",
       "4659            n  \n",
       "3001            n  \n",
       "5955            f  \n",
       "...           ...  \n",
       "11256           n  \n",
       "9855            n  \n",
       "8463            f  \n",
       "8156            n  \n",
       "11266           f  \n",
       "\n",
       "[500 rows x 5 columns]"
      ]
     },
     "execution_count": 56,
     "metadata": {},
     "output_type": "execute_result"
    }
   ],
   "source": [
    "balanced"
   ]
  },
  {
   "cell_type": "code",
   "execution_count": 59,
   "metadata": {},
   "outputs": [
    {
     "data": {
      "text/html": [
       "<div>\n",
       "<style scoped>\n",
       "    .dataframe tbody tr th:only-of-type {\n",
       "        vertical-align: middle;\n",
       "    }\n",
       "\n",
       "    .dataframe tbody tr th {\n",
       "        vertical-align: top;\n",
       "    }\n",
       "\n",
       "    .dataframe thead th {\n",
       "        text-align: right;\n",
       "    }\n",
       "</style>\n",
       "<table border=\"1\" class=\"dataframe\">\n",
       "  <thead>\n",
       "    <tr style=\"text-align: right;\">\n",
       "      <th></th>\n",
       "      <th>question</th>\n",
       "      <th>response</th>\n",
       "      <th>gender</th>\n",
       "      <th>predictions</th>\n",
       "    </tr>\n",
       "  </thead>\n",
       "  <tbody>\n",
       "    <tr>\n",
       "      <th>6020</th>\n",
       "      <td>Does anybody else hate the trend of all these...</td>\n",
       "      <td>Why no?</td>\n",
       "      <td>M</td>\n",
       "      <td>f</td>\n",
       "    </tr>\n",
       "    <tr>\n",
       "      <th>1326</th>\n",
       "      <td>Isnt Hillary the exact opposite of what Sande...</td>\n",
       "      <td>This guy has been a troll for a month now.</td>\n",
       "      <td>M</td>\n",
       "      <td>n</td>\n",
       "    </tr>\n",
       "    <tr>\n",
       "      <th>4659</th>\n",
       "      <td>Do I want Trump as president?</td>\n",
       "      <td>You think your country voted for him?</td>\n",
       "      <td>M</td>\n",
       "      <td>n</td>\n",
       "    </tr>\n",
       "    <tr>\n",
       "      <th>3001</th>\n",
       "      <td>Dont you guys already have a way to capture c...</td>\n",
       "      <td>Not the Xbox ones, since it's not up yet. Not ...</td>\n",
       "      <td>M</td>\n",
       "      <td>n</td>\n",
       "    </tr>\n",
       "    <tr>\n",
       "      <th>5955</th>\n",
       "      <td>Does the player development engine take into ...</td>\n",
       "      <td>We hope so as that is probably what makes the ...</td>\n",
       "      <td>M</td>\n",
       "      <td>f</td>\n",
       "    </tr>\n",
       "    <tr>\n",
       "      <th>...</th>\n",
       "      <td>...</td>\n",
       "      <td>...</td>\n",
       "      <td>...</td>\n",
       "      <td>...</td>\n",
       "    </tr>\n",
       "    <tr>\n",
       "      <th>11256</th>\n",
       "      <td>Are you seriously arguing the National Librar...</td>\n",
       "      <td>You have a right to your opinion, and I've nev...</td>\n",
       "      <td>W</td>\n",
       "      <td>n</td>\n",
       "    </tr>\n",
       "    <tr>\n",
       "      <th>9855</th>\n",
       "      <td>Do you remember that thing you said on your w...</td>\n",
       "      <td>I don't even think I remember that lol</td>\n",
       "      <td>W</td>\n",
       "      <td>n</td>\n",
       "    </tr>\n",
       "    <tr>\n",
       "      <th>8463</th>\n",
       "      <td>Do you happen to live in a cat tv drama?</td>\n",
       "      <td>I do!</td>\n",
       "      <td>W</td>\n",
       "      <td>f</td>\n",
       "    </tr>\n",
       "    <tr>\n",
       "      <th>8156</th>\n",
       "      <td>Dont you think things would have turned out d...</td>\n",
       "      <td>I would like to see why you think that. But I ...</td>\n",
       "      <td>W</td>\n",
       "      <td>n</td>\n",
       "    </tr>\n",
       "    <tr>\n",
       "      <th>11266</th>\n",
       "      <td>Does the UK want a million old people coming ...</td>\n",
       "      <td>Sure I do.</td>\n",
       "      <td>W</td>\n",
       "      <td>f</td>\n",
       "    </tr>\n",
       "  </tbody>\n",
       "</table>\n",
       "<p>500 rows × 4 columns</p>\n",
       "</div>"
      ],
      "text/plain": [
       "                                                question  \\\n",
       "6020    Does anybody else hate the trend of all these...   \n",
       "1326    Isnt Hillary the exact opposite of what Sande...   \n",
       "4659                      Do I want Trump as president?    \n",
       "3001    Dont you guys already have a way to capture c...   \n",
       "5955    Does the player development engine take into ...   \n",
       "...                                                  ...   \n",
       "11256   Are you seriously arguing the National Librar...   \n",
       "9855    Do you remember that thing you said on your w...   \n",
       "8463           Do you happen to live in a cat tv drama?    \n",
       "8156    Dont you think things would have turned out d...   \n",
       "11266   Does the UK want a million old people coming ...   \n",
       "\n",
       "                                                response gender predictions  \n",
       "6020                                             Why no?      M           f  \n",
       "1326          This guy has been a troll for a month now.      M           n  \n",
       "4659               You think your country voted for him?      M           n  \n",
       "3001   Not the Xbox ones, since it's not up yet. Not ...      M           n  \n",
       "5955   We hope so as that is probably what makes the ...      M           f  \n",
       "...                                                  ...    ...         ...  \n",
       "11256  You have a right to your opinion, and I've nev...      W           n  \n",
       "9855              I don't even think I remember that lol      W           n  \n",
       "8463                                               I do!      W           f  \n",
       "8156   I would like to see why you think that. But I ...      W           n  \n",
       "11266                                         Sure I do.      W           f  \n",
       "\n",
       "[500 rows x 4 columns]"
      ]
     },
     "execution_count": 59,
     "metadata": {},
     "output_type": "execute_result"
    }
   ],
   "source": [
    "balanced['question'] = balanced.text.apply(lambda x: x[5:x.index('[SEP]')])\n",
    "balanced['response'] = balanced.text.apply(lambda x: x[x.index('[SEP]')+6:-6])\n",
    "balanced[['question', 'response', 'gender', 'predictions']]"
   ]
  },
  {
   "cell_type": "code",
   "execution_count": 61,
   "metadata": {},
   "outputs": [],
   "source": [
    "balanced[['question', 'response', 'gender', 'predictions']].to_csv('highly_conf_balanced.csv', sep='\\t', index=False)"
   ]
  },
  {
   "cell_type": "markdown",
   "metadata": {},
   "source": [
    "### Statistical test"
   ]
  },
  {
   "cell_type": "code",
   "execution_count": 27,
   "metadata": {
    "scrolled": true
   },
   "outputs": [
    {
     "name": "stdout",
     "output_type": "stream",
     "text": [
      "M\n",
      "n    314\n",
      "f    171\n",
      "p     15\n",
      "Name: predictions, dtype: int64\n",
      "W\n",
      "n    283\n",
      "f    214\n",
      "p      3\n",
      "Name: predictions, dtype: int64\n"
     ]
    }
   ],
   "source": [
    "for i, group in balanced.groupby('gender'):\n",
    "    print(i)\n",
    "    print(group['predictions'].value_counts())"
   ]
  },
  {
   "cell_type": "code",
   "execution_count": 31,
   "metadata": {
    "scrolled": true
   },
   "outputs": [
    {
     "name": "stdout",
     "output_type": "stream",
     "text": [
      "-43\n"
     ]
    },
    {
     "data": {
      "text/plain": [
       "<matplotlib.collections.LineCollection at 0x7efc5c41f710>"
      ]
     },
     "execution_count": 31,
     "metadata": {},
     "output_type": "execute_result"
    },
    {
     "data": {
      "image/png": "[encoded data removed]",
      "text/plain": [
       "<Figure size 432x288 with 1 Axes>"
      ]
     },
     "metadata": {},
     "output_type": "display_data"
    }
   ],
   "source": [
    "trials = 1000\n",
    "\n",
    "test_statistic = len(balanced[(balanced.gender == 'M') & (balanced['predictions'] == 'f')]) - len(balanced[(balanced.gender == 'W') & (balanced['predictions'] == 'f')])\n",
    "print(test_statistic)\n",
    "\n",
    "v = []\n",
    "for i in range(0, trials):\n",
    "    balanced['label'] = np.random.permutation(balanced['gender'].tolist())\n",
    "    statistic = len(balanced[(balanced.label == 'M') & (balanced['predictions'] == 'f')]) - len(balanced[(balanced.label == 'W') & (balanced['predictions'] == 'f')])\n",
    "    v.append(statistic)\n",
    "    \n",
    "diffs = np.array(v)\n",
    "p_value = sum(np.abs(diffs) > test_statistic) / trials\n",
    "    \n",
    "plt.figure()\n",
    "plt.title('Difference in full responses, p:%f' % (p_value))\n",
    "ax = sns.distplot(diffs)\n",
    "ymin, ymax = ax.get_ylim()\n",
    "ax.vlines(test_statistic, ymin, ymax, linestyle='--')"
   ]
  }
 ],
 "metadata": {
  "kernelspec": {
   "display_name": "Python 3",
   "language": "python",
   "name": "python3"
  },
  "language_info": {
   "codemirror_mode": {
    "name": "ipython",
    "version": 3
   },
   "file_extension": ".py",
   "mimetype": "text/x-python",
   "name": "python",
   "nbconvert_exporter": "python",
   "pygments_lexer": "ipython3",
   "version": "3.7.7"
  }
 },
 "nbformat": 4,
 "nbformat_minor": 4
}
