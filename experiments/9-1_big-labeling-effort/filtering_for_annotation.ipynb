{
 "cells": [
  {
   "cell_type": "code",
   "execution_count": 41,
   "metadata": {},
   "outputs": [],
   "source": [
    "import random\n",
    "random.seed(119)\n",
    "import pandas as pd"
   ]
  },
  {
   "cell_type": "code",
   "execution_count": 42,
   "metadata": {},
   "outputs": [],
   "source": [
    "def read(fn):\n",
    "    fh = open(fn, 'rt')\n",
    "    data = []\n",
    "    for line in fh:\n",
    "        line = line.split('\\t')\n",
    "        label = line[0].strip('!')\n",
    "        temp = line[1].strip('!').split('<|endoftext|>')\n",
    "        question, response = temp[0], temp[1]\n",
    "        data.append((label, question, response))\n",
    "    return data"
   ]
  },
  {
   "cell_type": "code",
   "execution_count": 43,
   "metadata": {},
   "outputs": [],
   "source": [
    "men_data = read('../8-28_annotations-and-classifiers/vanilla_sample_random_equal_t1.csv')\n",
    "men_data = pd.DataFrame(men_data)\n",
    "men_data.columns = ['gender', 'question', 'response']"
   ]
  },
  {
   "cell_type": "code",
   "execution_count": 53,
   "metadata": {},
   "outputs": [],
   "source": [
    "def pronouns(x):\n",
    "    keywords = [' he ', ' him ', ' she ', 'her', ' they ', ' them ', ' it ', 'is that', ' this ']\n",
    "    return any(i in x.lower() for i in keywords)\n",
    "\n",
    "def has_or(x):\n",
    "    return 'or' in x.lower()\n",
    "\n",
    "def rhetoric(x):\n",
    "    keywords = ['shouldn\\'t', 'wouldn\\'t', 'couldn\\'t']\n",
    "    return any(x.lower().startswith(i) for i in keywords)\n",
    "\n",
    "def too_short(x):\n",
    "    return len(x.split(' ')) <= 5"
   ]
  },
  {
   "cell_type": "code",
   "execution_count": 45,
   "metadata": {},
   "outputs": [
    {
     "data": {
      "text/html": [
       "<div>\n",
       "<style scoped>\n",
       "    .dataframe tbody tr th:only-of-type {\n",
       "        vertical-align: middle;\n",
       "    }\n",
       "\n",
       "    .dataframe tbody tr th {\n",
       "        vertical-align: top;\n",
       "    }\n",
       "\n",
       "    .dataframe thead th {\n",
       "        text-align: right;\n",
       "    }\n",
       "</style>\n",
       "<table border=\"1\" class=\"dataframe\">\n",
       "  <thead>\n",
       "    <tr style=\"text-align: right;\">\n",
       "      <th></th>\n",
       "      <th>gender</th>\n",
       "      <th>question</th>\n",
       "      <th>response</th>\n",
       "    </tr>\n",
       "  </thead>\n",
       "  <tbody>\n",
       "    <tr>\n",
       "      <th>0</th>\n",
       "      <td>M</td>\n",
       "      <td>do?</td>\n",
       "      <td>:p I got downvoted too</td>\n",
       "    </tr>\n",
       "    <tr>\n",
       "      <th>1</th>\n",
       "      <td>M</td>\n",
       "      <td>was?</td>\n",
       "      <td>is now dead in flames</td>\n",
       "    </tr>\n",
       "    <tr>\n",
       "      <th>2</th>\n",
       "      <td>W</td>\n",
       "      <td>Doug?</td>\n",
       "      <td>You got the wrong number!</td>\n",
       "    </tr>\n",
       "    <tr>\n",
       "      <th>3</th>\n",
       "      <td>W</td>\n",
       "      <td>Is it?</td>\n",
       "      <td>Of course. He was one of the first.</td>\n",
       "    </tr>\n",
       "    <tr>\n",
       "      <th>4</th>\n",
       "      <td>W</td>\n",
       "      <td>is it?</td>\n",
       "      <td>Is it an American accent?</td>\n",
       "    </tr>\n",
       "    <tr>\n",
       "      <th>...</th>\n",
       "      <td>...</td>\n",
       "      <td>...</td>\n",
       "      <td>...</td>\n",
       "    </tr>\n",
       "    <tr>\n",
       "      <th>59995</th>\n",
       "      <td>W</td>\n",
       "      <td>Did you seriously downvote me because I cried ...</td>\n",
       "      <td>yes i did, just have to type</td>\n",
       "    </tr>\n",
       "    <tr>\n",
       "      <th>59996</th>\n",
       "      <td>M</td>\n",
       "      <td>Do they understand that the bad attitudes they...</td>\n",
       "      <td>The worst?</td>\n",
       "    </tr>\n",
       "    <tr>\n",
       "      <th>59997</th>\n",
       "      <td>M</td>\n",
       "      <td>Dollars to donuts Target has a procedure for h...</td>\n",
       "      <td>This was in 2010, so maybe.</td>\n",
       "    </tr>\n",
       "    <tr>\n",
       "      <th>59998</th>\n",
       "      <td>W</td>\n",
       "      <td>Do we deride the person who calls themself ath...</td>\n",
       "      <td>I do. And i just finished a</td>\n",
       "    </tr>\n",
       "    <tr>\n",
       "      <th>59999</th>\n",
       "      <td>W</td>\n",
       "      <td>Do you miss any of the following: Thundercats,...</td>\n",
       "      <td>No, not really. I'm gonna</td>\n",
       "    </tr>\n",
       "  </tbody>\n",
       "</table>\n",
       "<p>60000 rows × 3 columns</p>\n",
       "</div>"
      ],
      "text/plain": [
       "      gender                                           question  \\\n",
       "0          M                                                do?   \n",
       "1          M                                               was?   \n",
       "2          W                                              Doug?   \n",
       "3          W                                             Is it?   \n",
       "4          W                                             is it?   \n",
       "...      ...                                                ...   \n",
       "59995      W  Did you seriously downvote me because I cried ...   \n",
       "59996      M  Do they understand that the bad attitudes they...   \n",
       "59997      M  Dollars to donuts Target has a procedure for h...   \n",
       "59998      W  Do we deride the person who calls themself ath...   \n",
       "59999      W  Do you miss any of the following: Thundercats,...   \n",
       "\n",
       "                                  response  \n",
       "0                   :p I got downvoted too  \n",
       "1                    is now dead in flames  \n",
       "2                You got the wrong number!  \n",
       "3      Of course. He was one of the first.  \n",
       "4                Is it an American accent?  \n",
       "...                                    ...  \n",
       "59995         yes i did, just have to type  \n",
       "59996                           The worst?  \n",
       "59997          This was in 2010, so maybe.  \n",
       "59998          I do. And i just finished a  \n",
       "59999            No, not really. I'm gonna  \n",
       "\n",
       "[60000 rows x 3 columns]"
      ]
     },
     "execution_count": 45,
     "metadata": {},
     "output_type": "execute_result"
    }
   ],
   "source": [
    "men_data"
   ]
  },
  {
   "cell_type": "code",
   "execution_count": 46,
   "metadata": {},
   "outputs": [],
   "source": [
    "men_data['q_pronoun'] = men_data.question.apply(pronouns)\n",
    "men_data['q_has_or'] = men_data.question.apply(has_or)\n",
    "men_data['q_rhetoric'] = men_data.question.apply(rhetoric)\n",
    "men_data['q_too_short'] = men_data.question.apply(too_short)"
   ]
  },
  {
   "cell_type": "code",
   "execution_count": 47,
   "metadata": {},
   "outputs": [
    {
     "data": {
      "text/html": [
       "<div>\n",
       "<style scoped>\n",
       "    .dataframe tbody tr th:only-of-type {\n",
       "        vertical-align: middle;\n",
       "    }\n",
       "\n",
       "    .dataframe tbody tr th {\n",
       "        vertical-align: top;\n",
       "    }\n",
       "\n",
       "    .dataframe thead th {\n",
       "        text-align: right;\n",
       "    }\n",
       "</style>\n",
       "<table border=\"1\" class=\"dataframe\">\n",
       "  <thead>\n",
       "    <tr style=\"text-align: right;\">\n",
       "      <th></th>\n",
       "      <th>gender</th>\n",
       "      <th>question</th>\n",
       "      <th>response</th>\n",
       "      <th>q_pronoun</th>\n",
       "      <th>q_has_or</th>\n",
       "      <th>q_rhetoric</th>\n",
       "      <th>q_too_short</th>\n",
       "    </tr>\n",
       "  </thead>\n",
       "  <tbody>\n",
       "    <tr>\n",
       "      <th>786</th>\n",
       "      <td>M</td>\n",
       "      <td>Do you mean a U lock?</td>\n",
       "      <td>Nope. There's no lockup.</td>\n",
       "      <td>False</td>\n",
       "      <td>False</td>\n",
       "      <td>False</td>\n",
       "      <td>False</td>\n",
       "    </tr>\n",
       "    <tr>\n",
       "      <th>857</th>\n",
       "      <td>W</td>\n",
       "      <td>Are you cool if I ask?</td>\n",
       "      <td>I'm okay :p</td>\n",
       "      <td>False</td>\n",
       "      <td>False</td>\n",
       "      <td>False</td>\n",
       "      <td>False</td>\n",
       "    </tr>\n",
       "    <tr>\n",
       "      <th>894</th>\n",
       "      <td>W</td>\n",
       "      <td>Are you a guy as well?</td>\n",
       "      <td>If you're not, you're just a bro in disguise.</td>\n",
       "      <td>False</td>\n",
       "      <td>False</td>\n",
       "      <td>False</td>\n",
       "      <td>False</td>\n",
       "    </tr>\n",
       "    <tr>\n",
       "      <th>962</th>\n",
       "      <td>W</td>\n",
       "      <td>Do I live under a rock?</td>\n",
       "      <td>No, i live on earth</td>\n",
       "      <td>False</td>\n",
       "      <td>False</td>\n",
       "      <td>False</td>\n",
       "      <td>False</td>\n",
       "    </tr>\n",
       "    <tr>\n",
       "      <th>965</th>\n",
       "      <td>W</td>\n",
       "      <td>Do you want my SSN too?</td>\n",
       "      <td>I've never had that happen in real life...</td>\n",
       "      <td>False</td>\n",
       "      <td>False</td>\n",
       "      <td>False</td>\n",
       "      <td>False</td>\n",
       "    </tr>\n",
       "    <tr>\n",
       "      <th>...</th>\n",
       "      <td>...</td>\n",
       "      <td>...</td>\n",
       "      <td>...</td>\n",
       "      <td>...</td>\n",
       "      <td>...</td>\n",
       "      <td>...</td>\n",
       "      <td>...</td>\n",
       "    </tr>\n",
       "    <tr>\n",
       "      <th>59869</th>\n",
       "      <td>M</td>\n",
       "      <td>Do you think that septum shaming in that scena...</td>\n",
       "      <td>They can't shame him because he is the only me...</td>\n",
       "      <td>False</td>\n",
       "      <td>False</td>\n",
       "      <td>False</td>\n",
       "      <td>False</td>\n",
       "    </tr>\n",
       "    <tr>\n",
       "      <th>59898</th>\n",
       "      <td>M</td>\n",
       "      <td>Didnt a recent study conclude that the demogra...</td>\n",
       "      <td>This is pretty accurate. They showed that the ...</td>\n",
       "      <td>False</td>\n",
       "      <td>False</td>\n",
       "      <td>False</td>\n",
       "      <td>False</td>\n",
       "    </tr>\n",
       "    <tr>\n",
       "      <th>59919</th>\n",
       "      <td>M</td>\n",
       "      <td>Was that grown man being paid to broadcast his...</td>\n",
       "      <td>That would be pretty unethical to tell other p...</td>\n",
       "      <td>False</td>\n",
       "      <td>False</td>\n",
       "      <td>False</td>\n",
       "      <td>False</td>\n",
       "    </tr>\n",
       "    <tr>\n",
       "      <th>59963</th>\n",
       "      <td>W</td>\n",
       "      <td>Do you want to put your son through the possib...</td>\n",
       "      <td>Oh god, it just seems like that</td>\n",
       "      <td>False</td>\n",
       "      <td>False</td>\n",
       "      <td>False</td>\n",
       "      <td>False</td>\n",
       "    </tr>\n",
       "    <tr>\n",
       "      <th>59986</th>\n",
       "      <td>M</td>\n",
       "      <td>do you think that the tax-free compounding of ...</td>\n",
       "      <td>Interest offset is a business expense.</td>\n",
       "      <td>False</td>\n",
       "      <td>False</td>\n",
       "      <td>False</td>\n",
       "      <td>False</td>\n",
       "    </tr>\n",
       "  </tbody>\n",
       "</table>\n",
       "<p>14170 rows × 7 columns</p>\n",
       "</div>"
      ],
      "text/plain": [
       "      gender                                           question  \\\n",
       "786        M                              Do you mean a U lock?   \n",
       "857        W                             Are you cool if I ask?   \n",
       "894        W                             Are you a guy as well?   \n",
       "962        W                            Do I live under a rock?   \n",
       "965        W                            Do you want my SSN too?   \n",
       "...      ...                                                ...   \n",
       "59869      M  Do you think that septum shaming in that scena...   \n",
       "59898      M  Didnt a recent study conclude that the demogra...   \n",
       "59919      M  Was that grown man being paid to broadcast his...   \n",
       "59963      W  Do you want to put your son through the possib...   \n",
       "59986      M  do you think that the tax-free compounding of ...   \n",
       "\n",
       "                                                response  q_pronoun  q_has_or  \\\n",
       "786                             Nope. There's no lockup.      False     False   \n",
       "857                                          I'm okay :p      False     False   \n",
       "894        If you're not, you're just a bro in disguise.      False     False   \n",
       "962                                  No, i live on earth      False     False   \n",
       "965           I've never had that happen in real life...      False     False   \n",
       "...                                                  ...        ...       ...   \n",
       "59869  They can't shame him because he is the only me...      False     False   \n",
       "59898  This is pretty accurate. They showed that the ...      False     False   \n",
       "59919  That would be pretty unethical to tell other p...      False     False   \n",
       "59963                    Oh god, it just seems like that      False     False   \n",
       "59986             Interest offset is a business expense.      False     False   \n",
       "\n",
       "       q_rhetoric  q_too_short  \n",
       "786         False        False  \n",
       "857         False        False  \n",
       "894         False        False  \n",
       "962         False        False  \n",
       "965         False        False  \n",
       "...           ...          ...  \n",
       "59869       False        False  \n",
       "59898       False        False  \n",
       "59919       False        False  \n",
       "59963       False        False  \n",
       "59986       False        False  \n",
       "\n",
       "[14170 rows x 7 columns]"
      ]
     },
     "execution_count": 47,
     "metadata": {},
     "output_type": "execute_result"
    }
   ],
   "source": [
    "good_qs = men_data[~men_data.q_pronoun & ~men_data.q_has_or & ~men_data.q_rhetoric & ~men_data.q_too_short]\n",
    "good_qs"
   ]
  },
  {
   "cell_type": "code",
   "execution_count": 48,
   "metadata": {},
   "outputs": [
    {
     "data": {
      "text/plain": [
       "0.24196306429548564"
      ]
     },
     "execution_count": 48,
     "metadata": {},
     "output_type": "execute_result"
    }
   ],
   "source": [
    "len(good_qs.question.unique()) / len(men_data.question.unique())"
   ]
  },
  {
   "cell_type": "code",
   "execution_count": 49,
   "metadata": {},
   "outputs": [
    {
     "data": {
      "text/plain": [
       "1415"
      ]
     },
     "execution_count": 49,
     "metadata": {},
     "output_type": "execute_result"
    }
   ],
   "source": [
    "len(good_qs.question.unique())"
   ]
  },
  {
   "cell_type": "code",
   "execution_count": 50,
   "metadata": {},
   "outputs": [
    {
     "data": {
      "text/plain": [
       "W    7210\n",
       "M    6960\n",
       "Name: gender, dtype: int64"
      ]
     },
     "execution_count": 50,
     "metadata": {},
     "output_type": "execute_result"
    }
   ],
   "source": [
    "good_qs.gender.value_counts()"
   ]
  },
  {
   "cell_type": "code",
   "execution_count": 51,
   "metadata": {},
   "outputs": [],
   "source": [
    "m_good_qs = good_qs[good_qs.gender == 'M'].sample(500)\n",
    "w_good_qs = good_qs[good_qs.gender == 'W'].sample(500)"
   ]
  },
  {
   "cell_type": "code",
   "execution_count": 52,
   "metadata": {},
   "outputs": [],
   "source": [
    "m_good_qs[['gender', 'question', 'response']].to_csv('men_responses.tsv', sep='\\t', index=False)\n",
    "w_good_qs[['gender', 'question', 'response']].to_csv('women_responses.tsv', sep='\\t', index=False)"
   ]
  }
 ],
 "metadata": {
  "kernelspec": {
   "display_name": "Python 3",
   "language": "python",
   "name": "python3"
  },
  "language_info": {
   "codemirror_mode": {
    "name": "ipython",
    "version": 3
   },
   "file_extension": ".py",
   "mimetype": "text/x-python",
   "name": "python",
   "nbconvert_exporter": "python",
   "pygments_lexer": "ipython3",
   "version": "3.7.7"
  }
 },
 "nbformat": 4,
 "nbformat_minor": 4
}
