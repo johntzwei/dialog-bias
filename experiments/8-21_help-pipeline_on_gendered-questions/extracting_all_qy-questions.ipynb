{
 "cells": [
  {
   "cell_type": "code",
   "execution_count": 95,
   "metadata": {},
   "outputs": [],
   "source": [
    "import pandas as pd\n",
    "pd.options.display.max_colwidth = 100\n",
    "import nltk\n",
    "import numpy as np"
   ]
  },
  {
   "cell_type": "markdown",
   "metadata": {},
   "source": [
    "### Data"
   ]
  },
  {
   "cell_type": "code",
   "execution_count": 44,
   "metadata": {},
   "outputs": [],
   "source": [
    "reddit_posts = pd.read_csv('/nas/home/jwei/biases/rtgender/reddit_posts.csv')\n",
    "facebook_public_figures = pd.read_csv('/nas/home/jwei/biases/rtgender/facebook_wiki_posts.csv')\n",
    "facebook_politicians = pd.read_csv('/nas/home/jwei/biases/rtgender/facebook_congress_posts.csv')\n",
    "fitocracy_posts = pd.read_csv('/nas/home/jwei/biases/rtgender/fitocracy_posts.csv')"
   ]
  },
  {
   "cell_type": "markdown",
   "metadata": {},
   "source": [
    "### Precision qy"
   ]
  },
  {
   "cell_type": "code",
   "execution_count": 45,
   "metadata": {},
   "outputs": [],
   "source": [
    "def rule_2(sentence):\n",
    "    keywords = ['do', 'does', 'did', 'are', 'is', 'was', 'should']\n",
    "    startswith = any(sentence.lower().startswith(i) for i in keywords)\n",
    "    return startswith and sentence.endswith('?')"
   ]
  },
  {
   "cell_type": "code",
   "execution_count": 46,
   "metadata": {},
   "outputs": [],
   "source": [
    "sent_detector = nltk.data.load('tokenizers/punkt/english.pickle')\n",
    "\n",
    "def first_satisfies_rule2(x):\n",
    "    for x in sent_detector.tokenize(x):\n",
    "        if rule_2(x):\n",
    "            return x\n",
    "    return None"
   ]
  },
  {
   "cell_type": "code",
   "execution_count": 47,
   "metadata": {},
   "outputs": [],
   "source": [
    "reddit_posts['qy'] = reddit_posts.post_text.apply(first_satisfies_rule2)\n",
    "reddit_posts['has_qy'] = ~reddit_posts.qy.isna()"
   ]
  },
  {
   "cell_type": "code",
   "execution_count": 49,
   "metadata": {},
   "outputs": [
    {
     "data": {
      "text/html": [
       "<div>\n",
       "<style scoped>\n",
       "    .dataframe tbody tr th:only-of-type {\n",
       "        vertical-align: middle;\n",
       "    }\n",
       "\n",
       "    .dataframe tbody tr th {\n",
       "        vertical-align: top;\n",
       "    }\n",
       "\n",
       "    .dataframe thead th {\n",
       "        text-align: right;\n",
       "    }\n",
       "</style>\n",
       "<table border=\"1\" class=\"dataframe\">\n",
       "  <thead>\n",
       "    <tr style=\"text-align: right;\">\n",
       "      <th></th>\n",
       "      <th>op_id</th>\n",
       "      <th>op_gender</th>\n",
       "      <th>post_id</th>\n",
       "      <th>post_text</th>\n",
       "      <th>subreddit</th>\n",
       "      <th>op_gender_visible</th>\n",
       "      <th>qy</th>\n",
       "      <th>has_qy</th>\n",
       "    </tr>\n",
       "  </thead>\n",
       "  <tbody>\n",
       "    <tr>\n",
       "      <th>5</th>\n",
       "      <td>SlayerMaster</td>\n",
       "      <td>M</td>\n",
       "      <td>5</td>\n",
       "      <td>Are they giving it to everyone for free at the...</td>\n",
       "      <td>2007scape</td>\n",
       "      <td>False</td>\n",
       "      <td>Are they giving it to everyone for free at the...</td>\n",
       "      <td>True</td>\n",
       "    </tr>\n",
       "    <tr>\n",
       "      <th>12</th>\n",
       "      <td>Kastoli</td>\n",
       "      <td>M</td>\n",
       "      <td>12</td>\n",
       "      <td>Are blues still the most expensive, or are pur...</td>\n",
       "      <td>2007scape</td>\n",
       "      <td>False</td>\n",
       "      <td>Are blues still the most expensive, or are pur...</td>\n",
       "      <td>True</td>\n",
       "    </tr>\n",
       "    <tr>\n",
       "      <th>31</th>\n",
       "      <td>SlayerMaster</td>\n",
       "      <td>M</td>\n",
       "      <td>31</td>\n",
       "      <td>Are steel drags pretty good money?</td>\n",
       "      <td>2007scape</td>\n",
       "      <td>False</td>\n",
       "      <td>Are steel drags pretty good money?</td>\n",
       "      <td>True</td>\n",
       "    </tr>\n",
       "  </tbody>\n",
       "</table>\n",
       "</div>"
      ],
      "text/plain": [
       "           op_id op_gender  post_id  \\\n",
       "5   SlayerMaster         M        5   \n",
       "12       Kastoli         M       12   \n",
       "31  SlayerMaster         M       31   \n",
       "\n",
       "                                            post_text  subreddit  \\\n",
       "5   Are they giving it to everyone for free at the...  2007scape   \n",
       "12  Are blues still the most expensive, or are pur...  2007scape   \n",
       "31                 Are steel drags pretty good money?  2007scape   \n",
       "\n",
       "    op_gender_visible                                                 qy  \\\n",
       "5               False  Are they giving it to everyone for free at the...   \n",
       "12              False  Are blues still the most expensive, or are pur...   \n",
       "31              False                 Are steel drags pretty good money?   \n",
       "\n",
       "    has_qy  \n",
       "5     True  \n",
       "12    True  \n",
       "31    True  "
      ]
     },
     "execution_count": 49,
     "metadata": {},
     "output_type": "execute_result"
    }
   ],
   "source": [
    "reddit_posts[reddit_posts.has_qy].head(3)"
   ]
  },
  {
   "cell_type": "code",
   "execution_count": 51,
   "metadata": {},
   "outputs": [
    {
     "data": {
      "text/plain": [
       "M    0.771802\n",
       "W    0.228198\n",
       "Name: op_gender, dtype: float64"
      ]
     },
     "execution_count": 51,
     "metadata": {},
     "output_type": "execute_result"
    }
   ],
   "source": [
    "reddit_posts[reddit_posts.has_qy].op_gender.value_counts('op_gender')"
   ]
  },
  {
   "cell_type": "markdown",
   "metadata": {},
   "source": [
    "### Rank qy"
   ]
  },
  {
   "cell_type": "code",
   "execution_count": 52,
   "metadata": {},
   "outputs": [],
   "source": [
    "from sklearn.feature_extraction.text import CountVectorizer\n",
    "from sklearn.model_selection import train_test_split\n",
    "from sklearn.linear_model import LogisticRegression"
   ]
  },
  {
   "cell_type": "code",
   "execution_count": 81,
   "metadata": {},
   "outputs": [
    {
     "data": {
      "text/plain": [
       "0.7718015992003998"
      ]
     },
     "execution_count": 81,
     "metadata": {},
     "output_type": "execute_result"
    }
   ],
   "source": [
    "reddit_qys = reddit_posts[reddit_posts.has_qy].copy()\n",
    "text = reddit_qys['qy']\n",
    "genders = reddit_qys['op_gender'] == 'M'\n",
    "np.mean(genders)"
   ]
  },
  {
   "cell_type": "code",
   "execution_count": 82,
   "metadata": {},
   "outputs": [],
   "source": [
    "vectorizer = CountVectorizer(max_features=10000, min_df=10, binary=True)\n",
    "X = vectorizer.fit_transform(text)\n",
    "y = genders\n",
    "X_train, X_test, y_train, y_test = train_test_split(X, y, test_size=0.2, random_state=0)"
   ]
  },
  {
   "cell_type": "code",
   "execution_count": 83,
   "metadata": {},
   "outputs": [
    {
     "name": "stderr",
     "output_type": "stream",
     "text": [
      "/nas/home/jwei/anaconda3/envs/biases/lib/python3.7/site-packages/sklearn/linear_model/logistic.py:432: FutureWarning: Default solver will be changed to 'lbfgs' in 0.22. Specify a solver to silence this warning.\n",
      "  FutureWarning)\n"
     ]
    }
   ],
   "source": [
    "lr = LogisticRegression().fit(X_train, y_train)"
   ]
  },
  {
   "cell_type": "code",
   "execution_count": 84,
   "metadata": {},
   "outputs": [
    {
     "data": {
      "text/plain": [
       "0.758881861482002"
      ]
     },
     "execution_count": 84,
     "metadata": {},
     "output_type": "execute_result"
    }
   ],
   "source": [
    "# test set accuracy\n",
    "np.mean(lr.predict(X_test) == y_test)"
   ]
  },
  {
   "cell_type": "code",
   "execution_count": 85,
   "metadata": {},
   "outputs": [
    {
     "name": "stdout",
     "output_type": "stream",
     "text": [
      "Female:\n",
      "[(-1.7408111063838958, 'comfort'), (-1.5480281914473364, 'frequently'), (-1.53385533246326, 'apartment'), (-1.5311280043360171, 'penises'), (-1.51676075097512, 'therapy'), (-1.477753920661345, 'lips'), (-1.4395560917112706, 'volunteer'), (-1.431799697333022, 'wedding'), (-1.3640081851581358, 'orders'), (-1.3618311201093258, 'feeds'), (-1.3400268623421676, 'advice'), (-1.3044269933286, 'anal'), (-1.2960153947384943, 'turkey'), (-1.269356207459313, 'calls'), (-1.268732206171965, 'publicly'), (-1.2384475123897651, 'flowers'), (-1.2227580146389017, 'consequences'), (-1.2042028142595465, 'mothers'), (-1.1821604190781054, 'vagina'), (-1.1727750303359112, 'paul')]\n",
      "Male:\n",
      "[(1.2400484815084851, 'citizen'), (1.2487812944082428, 'meal'), (1.2491706152225248, 'logical'), (1.2675785229232932, 'team'), (1.2721304102205777, 'rub'), (1.2828602954044828, 'killer'), (1.2927325961045428, 'lucky'), (1.2949014359309388, 'forgetting'), (1.341129971333667, 'bench'), (1.3782669575806241, 'winning'), (1.389799559068684, 'cpu'), (1.39794006562799, 'restaurant'), (1.4037396706673588, 'candidate'), (1.4114553041138245, 'agreed'), (1.4145713777589344, 'manage'), (1.4243350631130458, 'contract'), (1.433062564313994, 'deck'), (1.4387541640038148, 'battle'), (1.4424182231607854, 'troll'), (1.4427139351551361, 'convince')]\n"
     ]
    }
   ],
   "source": [
    "reddit_features = sorted(list(zip([i for i in lr.coef_[0]], vectorizer.get_feature_names())), key=lambda x: x[0])\n",
    "print('Female:')\n",
    "print(reddit_features[:20])\n",
    "print('Male:')\n",
    "print(reddit_features[-20:])"
   ]
  },
  {
   "cell_type": "code",
   "execution_count": 89,
   "metadata": {},
   "outputs": [],
   "source": [
    "X = vectorizer.transform(reddit_qys.qy)\n",
    "y = lr.predict_proba(X)\n",
    "reddit_qys['score'] = y"
   ]
  },
  {
   "cell_type": "code",
   "execution_count": 97,
   "metadata": {},
   "outputs": [
    {
     "data": {
      "text/html": [
       "<div>\n",
       "<style scoped>\n",
       "    .dataframe tbody tr th:only-of-type {\n",
       "        vertical-align: middle;\n",
       "    }\n",
       "\n",
       "    .dataframe tbody tr th {\n",
       "        vertical-align: top;\n",
       "    }\n",
       "\n",
       "    .dataframe thead th {\n",
       "        text-align: right;\n",
       "    }\n",
       "</style>\n",
       "<table border=\"1\" class=\"dataframe\">\n",
       "  <thead>\n",
       "    <tr style=\"text-align: right;\">\n",
       "      <th></th>\n",
       "      <th>qy</th>\n",
       "      <th>score</th>\n",
       "    </tr>\n",
       "  </thead>\n",
       "  <tbody>\n",
       "    <tr>\n",
       "      <th>945014</th>\n",
       "      <td>Do the Lakers really have a chance at winning a championship if they gave Kobe the big contract ...</td>\n",
       "      <td>0.001539</td>\n",
       "    </tr>\n",
       "    <tr>\n",
       "      <th>1006080</th>\n",
       "      <td>Do you realize that by using TDs and ignoring the differences in the talent surrounding them.......</td>\n",
       "      <td>0.001642</td>\n",
       "    </tr>\n",
       "    <tr>\n",
       "      <th>679834</th>\n",
       "      <td>Do you want to know how it works on a mechanical level (transistors, and so), how its built (the...</td>\n",
       "      <td>0.001699</td>\n",
       "    </tr>\n",
       "    <tr>\n",
       "      <th>366908</th>\n",
       "      <td>Do you specifically mean internet acronyms, or does it bother you when someone talks about laser...</td>\n",
       "      <td>0.001894</td>\n",
       "    </tr>\n",
       "    <tr>\n",
       "      <th>1139762</th>\n",
       "      <td>Do these people really think the most powerful, far-reaching government on the planet doesnt hav...</td>\n",
       "      <td>0.002691</td>\n",
       "    </tr>\n",
       "    <tr>\n",
       "      <th>...</th>\n",
       "      <td>...</td>\n",
       "      <td>...</td>\n",
       "    </tr>\n",
       "    <tr>\n",
       "      <th>903668</th>\n",
       "      <td>Is your mum one of those mothers who loves to cook and stuff people with delicious food until th...</td>\n",
       "      <td>0.942110</td>\n",
       "    </tr>\n",
       "    <tr>\n",
       "      <th>74776</th>\n",
       "      <td>Does this apply to ANY potential pregnancy (even with a serious SO/wife) or just with casual sex...</td>\n",
       "      <td>0.945138</td>\n",
       "    </tr>\n",
       "    <tr>\n",
       "      <th>172946</th>\n",
       "      <td>Do you seriously think having 2 parents that no longer love each other but feel forced to stay t...</td>\n",
       "      <td>0.971977</td>\n",
       "    </tr>\n",
       "    <tr>\n",
       "      <th>402009</th>\n",
       "      <td>Did your dads have a special female friend or aunt for you to talk to about adolescence, fashion...</td>\n",
       "      <td>0.983818</td>\n",
       "    </tr>\n",
       "    <tr>\n",
       "      <th>1197670</th>\n",
       "      <td>Do you really expect this relationship to work out long-term if your partner - your best friend,...</td>\n",
       "      <td>0.986010</td>\n",
       "    </tr>\n",
       "  </tbody>\n",
       "</table>\n",
       "<p>64032 rows × 2 columns</p>\n",
       "</div>"
      ],
      "text/plain": [
       "                                                                                                          qy  \\\n",
       "945014   Do the Lakers really have a chance at winning a championship if they gave Kobe the big contract ...   \n",
       "1006080  Do you realize that by using TDs and ignoring the differences in the talent surrounding them.......   \n",
       "679834   Do you want to know how it works on a mechanical level (transistors, and so), how its built (the...   \n",
       "366908   Do you specifically mean internet acronyms, or does it bother you when someone talks about laser...   \n",
       "1139762  Do these people really think the most powerful, far-reaching government on the planet doesnt hav...   \n",
       "...                                                                                                      ...   \n",
       "903668   Is your mum one of those mothers who loves to cook and stuff people with delicious food until th...   \n",
       "74776    Does this apply to ANY potential pregnancy (even with a serious SO/wife) or just with casual sex...   \n",
       "172946   Do you seriously think having 2 parents that no longer love each other but feel forced to stay t...   \n",
       "402009   Did your dads have a special female friend or aunt for you to talk to about adolescence, fashion...   \n",
       "1197670  Do you really expect this relationship to work out long-term if your partner - your best friend,...   \n",
       "\n",
       "            score  \n",
       "945014   0.001539  \n",
       "1006080  0.001642  \n",
       "679834   0.001699  \n",
       "366908   0.001894  \n",
       "1139762  0.002691  \n",
       "...           ...  \n",
       "903668   0.942110  \n",
       "74776    0.945138  \n",
       "172946   0.971977  \n",
       "402009   0.983818  \n",
       "1197670  0.986010  \n",
       "\n",
       "[64032 rows x 2 columns]"
      ]
     },
     "execution_count": 97,
     "metadata": {},
     "output_type": "execute_result"
    }
   ],
   "source": [
    "reddit_qys.sort_values('score')[['qy', 'score']]"
   ]
  },
  {
   "cell_type": "markdown",
   "metadata": {},
   "source": [
    "### Save sets"
   ]
  },
  {
   "cell_type": "markdown",
   "metadata": {},
   "source": [
    "50% random male samples, 50% random female samples"
   ]
  },
  {
   "cell_type": "code",
   "execution_count": 121,
   "metadata": {},
   "outputs": [],
   "source": [
    "for i in range(1, 4):\n",
    "    trial1 = pd.concat([reddit_qys[reddit_qys.op_gender == 'W'].sample(3000), reddit_qys[reddit_qys.op_gender == 'M'].sample(3000)])\n",
    "    trial1[['op_gender', 'qy']].to_csv('random_equal_t%d.csv' % i, sep='\\t', header=False, index=False)"
   ]
  },
  {
   "cell_type": "markdown",
   "metadata": {},
   "source": [
    "50% high confidence male samples, 50% high confidence female samples"
   ]
  },
  {
   "cell_type": "code",
   "execution_count": 128,
   "metadata": {},
   "outputs": [],
   "source": [
    "df = pd.concat([reddit_qys[reddit_qys.op_gender == 'W'].sort_values('score', ascending=False).head(3000),\n",
    "           reddit_qys[reddit_qys.op_gender == 'M'].sort_values('score', ascending=True).head(3000)])\n",
    "df[['op_gender', 'qy']].to_csv('high_conf_equal.csv', sep='\\t', header=False, index=False)"
   ]
  },
  {
   "cell_type": "markdown",
   "metadata": {},
   "source": [
    "random male/female samples"
   ]
  },
  {
   "cell_type": "code",
   "execution_count": 129,
   "metadata": {},
   "outputs": [],
   "source": [
    "df = reddit_qys[reddit_qys.op_gender == 'W'].sample(6000)\n",
    "df[['score', 'qy']].to_csv('random_women.csv', sep='\\t', header=False, index=False)\n",
    "\n",
    "df = reddit_qys[reddit_qys.op_gender == 'M'].sample(6000)\n",
    "df[['score', 'qy']].to_csv('random_men.csv', sep='\\t', header=False, index=False)"
   ]
  }
 ],
 "metadata": {
  "kernelspec": {
   "display_name": "Python 3",
   "language": "python",
   "name": "python3"
  },
  "language_info": {
   "codemirror_mode": {
    "name": "ipython",
    "version": 3
   },
   "file_extension": ".py",
   "mimetype": "text/x-python",
   "name": "python",
   "nbconvert_exporter": "python",
   "pygments_lexer": "ipython3",
   "version": "3.7.7"
  }
 },
 "nbformat": 4,
 "nbformat_minor": 4
}
