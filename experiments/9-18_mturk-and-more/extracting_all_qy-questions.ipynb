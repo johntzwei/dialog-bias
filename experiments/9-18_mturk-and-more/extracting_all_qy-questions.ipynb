{
 "cells": [
  {
   "cell_type": "code",
   "execution_count": 1,
   "metadata": {},
   "outputs": [],
   "source": [
    "import pandas as pd\n",
    "pd.options.display.max_colwidth = 100\n",
    "import nltk\n",
    "import numpy as np"
   ]
  },
  {
   "cell_type": "markdown",
   "metadata": {},
   "source": [
    "### Data"
   ]
  },
  {
   "cell_type": "code",
   "execution_count": 2,
   "metadata": {},
   "outputs": [],
   "source": [
    "reddit_posts = pd.read_csv('/nas/home/jwei/biases/rtgender/reddit_posts.csv')\n",
    "facebook_public_figures = pd.read_csv('/nas/home/jwei/biases/rtgender/facebook_wiki_posts.csv')\n",
    "facebook_politicians = pd.read_csv('/nas/home/jwei/biases/rtgender/facebook_congress_posts.csv')\n",
    "fitocracy_posts = pd.read_csv('/nas/home/jwei/biases/rtgender/fitocracy_posts.csv')"
   ]
  },
  {
   "cell_type": "markdown",
   "metadata": {},
   "source": [
    "# All questions"
   ]
  },
  {
   "cell_type": "code",
   "execution_count": 14,
   "metadata": {},
   "outputs": [],
   "source": [
    "def q_rule(sentence):\n",
    "    return sentence.endswith('?')\n",
    "\n",
    "sent_detector = nltk.data.load('tokenizers/punkt/english.pickle')\n",
    "def first_satisfies_rule(x, rule):\n",
    "    if not type(x) == str:\n",
    "        return None\n",
    "    \n",
    "    for x in sent_detector.tokenize(x):\n",
    "        if rule(x):\n",
    "            return x\n",
    "    return None"
   ]
  },
  {
   "cell_type": "code",
   "execution_count": 15,
   "metadata": {},
   "outputs": [],
   "source": [
    "for dataset in [reddit_posts, facebook_public_figures, facebook_politicians, fitocracy_posts]:\n",
    "    dataset['q'] = dataset.post_text.apply(lambda x: first_satisfies_rule(x, q_rule))\n",
    "    dataset['has_q'] = ~dataset.q.isna()"
   ]
  },
  {
   "cell_type": "code",
   "execution_count": 23,
   "metadata": {},
   "outputs": [
    {
     "data": {
      "text/html": [
       "<div>\n",
       "<style scoped>\n",
       "    .dataframe tbody tr th:only-of-type {\n",
       "        vertical-align: middle;\n",
       "    }\n",
       "\n",
       "    .dataframe tbody tr th {\n",
       "        vertical-align: top;\n",
       "    }\n",
       "\n",
       "    .dataframe thead th {\n",
       "        text-align: right;\n",
       "    }\n",
       "</style>\n",
       "<table border=\"1\" class=\"dataframe\">\n",
       "  <thead>\n",
       "    <tr style=\"text-align: right;\">\n",
       "      <th></th>\n",
       "      <th>op_id</th>\n",
       "      <th>op_gender</th>\n",
       "      <th>post_id</th>\n",
       "      <th>post_text</th>\n",
       "      <th>post_type</th>\n",
       "      <th>q</th>\n",
       "      <th>has_q</th>\n",
       "    </tr>\n",
       "  </thead>\n",
       "  <tbody>\n",
       "    <tr>\n",
       "      <th>508102</th>\n",
       "      <td>52515090</td>\n",
       "      <td>W</td>\n",
       "      <td>508102</td>\n",
       "      <td>Thousands of Nebraskans continue to contact me with stories of higher premiums and lost coverage...</td>\n",
       "      <td>photo</td>\n",
       "      <td>What's your story?</td>\n",
       "      <td>True</td>\n",
       "    </tr>\n",
       "    <tr>\n",
       "      <th>508204</th>\n",
       "      <td>52515090</td>\n",
       "      <td>W</td>\n",
       "      <td>508204</td>\n",
       "      <td>ICYMI: Yesterday, I delivered remarks on the Senate floor outlining in detail my concerns with t...</td>\n",
       "      <td>video</td>\n",
       "      <td>Did you know that in 2006 and 2007, a biometric entry/exit system at all points of entry – air, ...</td>\n",
       "      <td>True</td>\n",
       "    </tr>\n",
       "    <tr>\n",
       "      <th>508235</th>\n",
       "      <td>52515090</td>\n",
       "      <td>W</td>\n",
       "      <td>508235</td>\n",
       "      <td>On top of the IRS' unfair, unconstitutional targeting of conservative groups, it's shocking to l...</td>\n",
       "      <td>link</td>\n",
       "      <td>How can the American people have confidence in this agency to carry out its basic responsibiliti...</td>\n",
       "      <td>True</td>\n",
       "    </tr>\n",
       "    <tr>\n",
       "      <th>508285</th>\n",
       "      <td>52515090</td>\n",
       "      <td>W</td>\n",
       "      <td>508285</td>\n",
       "      <td>Earth Day was first officially commemorated 43 years ago. Conservation is a priority of my famil...</td>\n",
       "      <td>status</td>\n",
       "      <td>What is your favorite place to go in our state to appreciate nature?</td>\n",
       "      <td>True</td>\n",
       "    </tr>\n",
       "    <tr>\n",
       "      <th>508315</th>\n",
       "      <td>52515090</td>\n",
       "      <td>W</td>\n",
       "      <td>508315</td>\n",
       "      <td>Have you submitted your ideas on how to cut the red tape of overregulation yet? I recently launc...</td>\n",
       "      <td>link</td>\n",
       "      <td>Have you submitted your ideas on how to cut the red tape of overregulation yet?</td>\n",
       "      <td>True</td>\n",
       "    </tr>\n",
       "    <tr>\n",
       "      <th>...</th>\n",
       "      <td>...</td>\n",
       "      <td>...</td>\n",
       "      <td>...</td>\n",
       "      <td>...</td>\n",
       "      <td>...</td>\n",
       "      <td>...</td>\n",
       "      <td>...</td>\n",
       "    </tr>\n",
       "    <tr>\n",
       "      <th>510265</th>\n",
       "      <td>6439709</td>\n",
       "      <td>M</td>\n",
       "      <td>510265</td>\n",
       "      <td>Can you imagine having to pay as much as $400 just to talk to your loved one for 15 minutes? For...</td>\n",
       "      <td>link</td>\n",
       "      <td>Can you imagine having to pay as much as $400 just to talk to your loved one for 15 minutes?</td>\n",
       "      <td>True</td>\n",
       "    </tr>\n",
       "    <tr>\n",
       "      <th>510290</th>\n",
       "      <td>6439709</td>\n",
       "      <td>M</td>\n",
       "      <td>510290</td>\n",
       "      <td>Republicans' first priority in 2016? Taking healthcare away from millions of Americans. Shocker.</td>\n",
       "      <td>link</td>\n",
       "      <td>Republicans' first priority in 2016?</td>\n",
       "      <td>True</td>\n",
       "    </tr>\n",
       "    <tr>\n",
       "      <th>510293</th>\n",
       "      <td>6439709</td>\n",
       "      <td>M</td>\n",
       "      <td>510293</td>\n",
       "      <td>A handful of the wealthiest Americans are spending millions of dollars on lobbying to save thems...</td>\n",
       "      <td>link</td>\n",
       "      <td>Now?</td>\n",
       "      <td>True</td>\n",
       "    </tr>\n",
       "    <tr>\n",
       "      <th>510306</th>\n",
       "      <td>6439709</td>\n",
       "      <td>M</td>\n",
       "      <td>510306</td>\n",
       "      <td>My response to Donald J. Trump calling for an end to Muslim immigration:  Most people know more ...</td>\n",
       "      <td>status</td>\n",
       "      <td>Do we really want someone who doesn't understand our values speaking to the world on our behalf?</td>\n",
       "      <td>True</td>\n",
       "    </tr>\n",
       "    <tr>\n",
       "      <th>510321</th>\n",
       "      <td>6439709</td>\n",
       "      <td>M</td>\n",
       "      <td>510321</td>\n",
       "      <td>I extend my deepest sympathies to the family and friends of Mr. Jamar Clark. My heart breaks for...</td>\n",
       "      <td>status</td>\n",
       "      <td>But how do we move forward to make things better in our community?</td>\n",
       "      <td>True</td>\n",
       "    </tr>\n",
       "  </tbody>\n",
       "</table>\n",
       "<p>100 rows × 7 columns</p>\n",
       "</div>"
      ],
      "text/plain": [
       "           op_id op_gender  post_id  \\\n",
       "508102  52515090         W   508102   \n",
       "508204  52515090         W   508204   \n",
       "508235  52515090         W   508235   \n",
       "508285  52515090         W   508285   \n",
       "508315  52515090         W   508315   \n",
       "...          ...       ...      ...   \n",
       "510265   6439709         M   510265   \n",
       "510290   6439709         M   510290   \n",
       "510293   6439709         M   510293   \n",
       "510306   6439709         M   510306   \n",
       "510321   6439709         M   510321   \n",
       "\n",
       "                                                                                                  post_text  \\\n",
       "508102  Thousands of Nebraskans continue to contact me with stories of higher premiums and lost coverage...   \n",
       "508204  ICYMI: Yesterday, I delivered remarks on the Senate floor outlining in detail my concerns with t...   \n",
       "508235  On top of the IRS' unfair, unconstitutional targeting of conservative groups, it's shocking to l...   \n",
       "508285  Earth Day was first officially commemorated 43 years ago. Conservation is a priority of my famil...   \n",
       "508315  Have you submitted your ideas on how to cut the red tape of overregulation yet? I recently launc...   \n",
       "...                                                                                                     ...   \n",
       "510265  Can you imagine having to pay as much as $400 just to talk to your loved one for 15 minutes? For...   \n",
       "510290     Republicans' first priority in 2016? Taking healthcare away from millions of Americans. Shocker.   \n",
       "510293  A handful of the wealthiest Americans are spending millions of dollars on lobbying to save thems...   \n",
       "510306  My response to Donald J. Trump calling for an end to Muslim immigration:  Most people know more ...   \n",
       "510321  I extend my deepest sympathies to the family and friends of Mr. Jamar Clark. My heart breaks for...   \n",
       "\n",
       "       post_type  \\\n",
       "508102     photo   \n",
       "508204     video   \n",
       "508235      link   \n",
       "508285    status   \n",
       "508315      link   \n",
       "...          ...   \n",
       "510265      link   \n",
       "510290      link   \n",
       "510293      link   \n",
       "510306    status   \n",
       "510321    status   \n",
       "\n",
       "                                                                                                          q  \\\n",
       "508102                                                                                   What's your story?   \n",
       "508204  Did you know that in 2006 and 2007, a biometric entry/exit system at all points of entry – air, ...   \n",
       "508235  How can the American people have confidence in this agency to carry out its basic responsibiliti...   \n",
       "508285                                 What is your favorite place to go in our state to appreciate nature?   \n",
       "508315                      Have you submitted your ideas on how to cut the red tape of overregulation yet?   \n",
       "...                                                                                                     ...   \n",
       "510265         Can you imagine having to pay as much as $400 just to talk to your loved one for 15 minutes?   \n",
       "510290                                                                 Republicans' first priority in 2016?   \n",
       "510293                                                                                                 Now?   \n",
       "510306     Do we really want someone who doesn't understand our values speaking to the world on our behalf?   \n",
       "510321                                   But how do we move forward to make things better in our community?   \n",
       "\n",
       "        has_q  \n",
       "508102   True  \n",
       "508204   True  \n",
       "508235   True  \n",
       "508285   True  \n",
       "508315   True  \n",
       "...       ...  \n",
       "510265   True  \n",
       "510290   True  \n",
       "510293   True  \n",
       "510306   True  \n",
       "510321   True  \n",
       "\n",
       "[100 rows x 7 columns]"
      ]
     },
     "execution_count": 23,
     "metadata": {},
     "output_type": "execute_result"
    }
   ],
   "source": [
    "facebook_politicians[facebook_politicians.has_q].tail(2000).head(100)"
   ]
  },
  {
   "cell_type": "markdown",
   "metadata": {},
   "source": [
    "### Precision qy"
   ]
  },
  {
   "cell_type": "code",
   "execution_count": 3,
   "metadata": {},
   "outputs": [],
   "source": [
    "def qy_rule(sentence):\n",
    "    keywords = ['do', 'does', 'did', 'are', 'is', 'was', 'should']\n",
    "    startswith = any(sentence.lower().startswith(i) for i in keywords)\n",
    "    return startswith and sentence.endswith('?')"
   ]
  },
  {
   "cell_type": "code",
   "execution_count": 3,
   "metadata": {},
   "outputs": [],
   "source": [
    "sent_detector = nltk.data.load('tokenizers/punkt/english.pickle')\n",
    "\n",
    "def first_satisfies_rule2(x):\n",
    "    for x in sent_detector.tokenize(x):\n",
    "        if rule_2(x):\n",
    "            return x\n",
    "    return None"
   ]
  },
  {
   "cell_type": "code",
   "execution_count": 5,
   "metadata": {},
   "outputs": [],
   "source": [
    "reddit_posts['qy'] = reddit_posts.post_text.apply(first_satisfies_rule2)\n",
    "reddit_posts['has_qy'] = ~reddit_posts.qy.isna()"
   ]
  },
  {
   "cell_type": "code",
   "execution_count": 6,
   "metadata": {},
   "outputs": [
    {
     "data": {
      "text/html": [
       "<div>\n",
       "<style scoped>\n",
       "    .dataframe tbody tr th:only-of-type {\n",
       "        vertical-align: middle;\n",
       "    }\n",
       "\n",
       "    .dataframe tbody tr th {\n",
       "        vertical-align: top;\n",
       "    }\n",
       "\n",
       "    .dataframe thead th {\n",
       "        text-align: right;\n",
       "    }\n",
       "</style>\n",
       "<table border=\"1\" class=\"dataframe\">\n",
       "  <thead>\n",
       "    <tr style=\"text-align: right;\">\n",
       "      <th></th>\n",
       "      <th>op_id</th>\n",
       "      <th>op_gender</th>\n",
       "      <th>post_id</th>\n",
       "      <th>post_text</th>\n",
       "      <th>subreddit</th>\n",
       "      <th>op_gender_visible</th>\n",
       "      <th>qy</th>\n",
       "      <th>has_qy</th>\n",
       "    </tr>\n",
       "  </thead>\n",
       "  <tbody>\n",
       "    <tr>\n",
       "      <th>5</th>\n",
       "      <td>SlayerMaster</td>\n",
       "      <td>M</td>\n",
       "      <td>5</td>\n",
       "      <td>Are they giving it to everyone for free at the events or are they just going to drop it the same...</td>\n",
       "      <td>2007scape</td>\n",
       "      <td>False</td>\n",
       "      <td>Are they giving it to everyone for free at the events or are they just going to drop it the same...</td>\n",
       "      <td>True</td>\n",
       "    </tr>\n",
       "    <tr>\n",
       "      <th>12</th>\n",
       "      <td>Kastoli</td>\n",
       "      <td>M</td>\n",
       "      <td>12</td>\n",
       "      <td>Are blues still the most expensive, or are purples more expensive, since there wasnt the dupe bu...</td>\n",
       "      <td>2007scape</td>\n",
       "      <td>False</td>\n",
       "      <td>Are blues still the most expensive, or are purples more expensive, since there wasnt the dupe bu...</td>\n",
       "      <td>True</td>\n",
       "    </tr>\n",
       "    <tr>\n",
       "      <th>31</th>\n",
       "      <td>SlayerMaster</td>\n",
       "      <td>M</td>\n",
       "      <td>31</td>\n",
       "      <td>Are steel drags pretty good money?</td>\n",
       "      <td>2007scape</td>\n",
       "      <td>False</td>\n",
       "      <td>Are steel drags pretty good money?</td>\n",
       "      <td>True</td>\n",
       "    </tr>\n",
       "  </tbody>\n",
       "</table>\n",
       "</div>"
      ],
      "text/plain": [
       "           op_id op_gender  post_id  \\\n",
       "5   SlayerMaster         M        5   \n",
       "12       Kastoli         M       12   \n",
       "31  SlayerMaster         M       31   \n",
       "\n",
       "                                                                                              post_text  \\\n",
       "5   Are they giving it to everyone for free at the events or are they just going to drop it the same...   \n",
       "12  Are blues still the most expensive, or are purples more expensive, since there wasnt the dupe bu...   \n",
       "31                                                                   Are steel drags pretty good money?   \n",
       "\n",
       "    subreddit  op_gender_visible  \\\n",
       "5   2007scape              False   \n",
       "12  2007scape              False   \n",
       "31  2007scape              False   \n",
       "\n",
       "                                                                                                     qy  \\\n",
       "5   Are they giving it to everyone for free at the events or are they just going to drop it the same...   \n",
       "12  Are blues still the most expensive, or are purples more expensive, since there wasnt the dupe bu...   \n",
       "31                                                                   Are steel drags pretty good money?   \n",
       "\n",
       "    has_qy  \n",
       "5     True  \n",
       "12    True  \n",
       "31    True  "
      ]
     },
     "execution_count": 6,
     "metadata": {},
     "output_type": "execute_result"
    }
   ],
   "source": [
    "reddit_posts[reddit_posts.has_qy].head(3)"
   ]
  },
  {
   "cell_type": "code",
   "execution_count": 7,
   "metadata": {},
   "outputs": [
    {
     "data": {
      "text/plain": [
       "M    0.771802\n",
       "W    0.228198\n",
       "Name: op_gender, dtype: float64"
      ]
     },
     "execution_count": 7,
     "metadata": {},
     "output_type": "execute_result"
    }
   ],
   "source": [
    "reddit_posts[reddit_posts.has_qy].op_gender.value_counts('op_gender')"
   ]
  },
  {
   "cell_type": "markdown",
   "metadata": {},
   "source": [
    "### Rank qy"
   ]
  },
  {
   "cell_type": "code",
   "execution_count": 8,
   "metadata": {},
   "outputs": [],
   "source": [
    "from sklearn.feature_extraction.text import CountVectorizer\n",
    "from sklearn.model_selection import train_test_split\n",
    "from sklearn.linear_model import LogisticRegression"
   ]
  },
  {
   "cell_type": "code",
   "execution_count": 9,
   "metadata": {},
   "outputs": [
    {
     "data": {
      "text/plain": [
       "0.7718015992003998"
      ]
     },
     "execution_count": 9,
     "metadata": {},
     "output_type": "execute_result"
    }
   ],
   "source": [
    "reddit_qys = reddit_posts[reddit_posts.has_qy].copy()\n",
    "text = reddit_qys['qy']\n",
    "genders = reddit_qys['op_gender'] == 'M'\n",
    "np.mean(genders)"
   ]
  },
  {
   "cell_type": "code",
   "execution_count": 21,
   "metadata": {},
   "outputs": [],
   "source": [
    "vectorizer = CountVectorizer(max_features=10000, min_df=10, binary=True)\n",
    "X = vectorizer.fit_transform(text)\n",
    "y = genders\n",
    "X_train, X_test, y_train, y_test = train_test_split(X, y, test_size=0.2, random_state=0)"
   ]
  },
  {
   "cell_type": "code",
   "execution_count": 22,
   "metadata": {},
   "outputs": [
    {
     "name": "stderr",
     "output_type": "stream",
     "text": [
      "/nas/home/jwei/anaconda3/envs/biases/lib/python3.7/site-packages/sklearn/linear_model/logistic.py:432: FutureWarning: Default solver will be changed to 'lbfgs' in 0.22. Specify a solver to silence this warning.\n",
      "  FutureWarning)\n"
     ]
    }
   ],
   "source": [
    "lr = LogisticRegression().fit(X_train, y_train)"
   ]
  },
  {
   "cell_type": "code",
   "execution_count": 23,
   "metadata": {},
   "outputs": [
    {
     "data": {
      "text/plain": [
       "0.758881861482002"
      ]
     },
     "execution_count": 23,
     "metadata": {},
     "output_type": "execute_result"
    }
   ],
   "source": [
    "# test set accuracy\n",
    "np.mean(lr.predict(X_test) == y_test)"
   ]
  },
  {
   "cell_type": "code",
   "execution_count": 24,
   "metadata": {},
   "outputs": [
    {
     "name": "stdout",
     "output_type": "stream",
     "text": [
      "Female:\n",
      "[(-1.7408111063838958, 'comfort'), (-1.5480281914473364, 'frequently'), (-1.53385533246326, 'apartment'), (-1.5311280043360171, 'penises'), (-1.51676075097512, 'therapy'), (-1.477753920661345, 'lips'), (-1.4395560917112706, 'volunteer'), (-1.431799697333022, 'wedding'), (-1.3640081851581358, 'orders'), (-1.3618311201093258, 'feeds'), (-1.3400268623421676, 'advice'), (-1.3044269933286, 'anal'), (-1.2960153947384943, 'turkey'), (-1.269356207459313, 'calls'), (-1.268732206171965, 'publicly'), (-1.2384475123897651, 'flowers'), (-1.2227580146389017, 'consequences'), (-1.2042028142595465, 'mothers'), (-1.1821604190781054, 'vagina'), (-1.1727750303359112, 'paul'), (-1.1485156017954192, 'healing'), (-1.147958251793627, 'jury'), (-1.1456843739950395, 'growing'), (-1.1220878546380995, 'alex'), (-1.1178403943579738, 'obviously'), (-1.115676009110142, 'shave'), (-1.1106386792249876, 'accepting'), (-1.1097000644004906, 'adults'), (-1.1043699500068593, 'depend'), (-1.09618336823463, 'treatment'), (-1.096173404904832, 'tested'), (-1.0860625795711516, 'actor'), (-1.079925382559263, 'compatible'), (-1.0696103058781887, 'pill'), (-1.0657985659823106, 'sleeping'), (-1.063269265879136, 'vegan'), (-1.0603363044781176, 'previously'), (-1.057691697728404, 'spouse'), (-1.045870027854121, 'scenarios'), (-1.04175516431481, 'oral')]\n",
      "Male:\n",
      "[(1.1539476850834731, 'gaming'), (1.157511960381868, 'trained'), (1.1584987443087682, 'tool'), (1.1596010801169487, 'homosexuality'), (1.1668720101238281, 'realistic'), (1.1675081578121138, 'bill'), (1.1690334014059378, 'negative'), (1.1741744351146308, 'draft'), (1.1786595133950446, 'engine'), (1.1794648472376994, 'effective'), (1.18080352707546, 'nba'), (1.1877288607779002, 'greece'), (1.1880245334512805, 'urban'), (1.1890725898454453, 'president'), (1.19153654272978, 'lights'), (1.2056107324253997, 'motherboard'), (1.2149150694758915, 'beer'), (1.2163312028647844, 'increase'), (1.2196490170282872, 'position'), (1.2369320605718919, 'crime'), (1.2400484815084851, 'citizen'), (1.2487812944082428, 'meal'), (1.2491706152225248, 'logical'), (1.2675785229232932, 'team'), (1.2721304102205777, 'rub'), (1.2828602954044828, 'killer'), (1.2927325961045428, 'lucky'), (1.2949014359309388, 'forgetting'), (1.341129971333667, 'bench'), (1.3782669575806241, 'winning'), (1.389799559068684, 'cpu'), (1.39794006562799, 'restaurant'), (1.4037396706673588, 'candidate'), (1.4114553041138245, 'agreed'), (1.4145713777589344, 'manage'), (1.4243350631130458, 'contract'), (1.433062564313994, 'deck'), (1.4387541640038148, 'battle'), (1.4424182231607854, 'troll'), (1.4427139351551361, 'convince')]\n"
     ]
    }
   ],
   "source": [
    "reddit_features = sorted(list(zip([i for i in lr.coef_[0]], vectorizer.get_feature_names())), key=lambda x: x[0])\n",
    "print('Female:')\n",
    "print(reddit_features[:40])\n",
    "print('Male:')\n",
    "print(reddit_features[-40:])"
   ]
  },
  {
   "cell_type": "code",
   "execution_count": 25,
   "metadata": {},
   "outputs": [
    {
     "ename": "ValueError",
     "evalue": "Wrong number of items passed 2, placement implies 1",
     "output_type": "error",
     "traceback": [
      "\u001b[0;31m---------------------------------------------------------------------------\u001b[0m",
      "\u001b[0;31mKeyError\u001b[0m                                  Traceback (most recent call last)",
      "\u001b[0;32m~/anaconda3/envs/biases/lib/python3.7/site-packages/pandas/core/indexes/base.py\u001b[0m in \u001b[0;36mget_loc\u001b[0;34m(self, key, method, tolerance)\u001b[0m\n\u001b[1;32m   2645\u001b[0m             \u001b[0;32mtry\u001b[0m\u001b[0;34m:\u001b[0m\u001b[0;34m\u001b[0m\u001b[0;34m\u001b[0m\u001b[0m\n\u001b[0;32m-> 2646\u001b[0;31m                 \u001b[0;32mreturn\u001b[0m \u001b[0mself\u001b[0m\u001b[0;34m.\u001b[0m\u001b[0m_engine\u001b[0m\u001b[0;34m.\u001b[0m\u001b[0mget_loc\u001b[0m\u001b[0;34m(\u001b[0m\u001b[0mkey\u001b[0m\u001b[0;34m)\u001b[0m\u001b[0;34m\u001b[0m\u001b[0;34m\u001b[0m\u001b[0m\n\u001b[0m\u001b[1;32m   2647\u001b[0m             \u001b[0;32mexcept\u001b[0m \u001b[0mKeyError\u001b[0m\u001b[0;34m:\u001b[0m\u001b[0;34m\u001b[0m\u001b[0;34m\u001b[0m\u001b[0m\n",
      "\u001b[0;32mpandas/_libs/index.pyx\u001b[0m in \u001b[0;36mpandas._libs.index.IndexEngine.get_loc\u001b[0;34m()\u001b[0m\n",
      "\u001b[0;32mpandas/_libs/index.pyx\u001b[0m in \u001b[0;36mpandas._libs.index.IndexEngine.get_loc\u001b[0;34m()\u001b[0m\n",
      "\u001b[0;32mpandas/_libs/hashtable_class_helper.pxi\u001b[0m in \u001b[0;36mpandas._libs.hashtable.PyObjectHashTable.get_item\u001b[0;34m()\u001b[0m\n",
      "\u001b[0;32mpandas/_libs/hashtable_class_helper.pxi\u001b[0m in \u001b[0;36mpandas._libs.hashtable.PyObjectHashTable.get_item\u001b[0;34m()\u001b[0m\n",
      "\u001b[0;31mKeyError\u001b[0m: 'score'",
      "\nDuring handling of the above exception, another exception occurred:\n",
      "\u001b[0;31mKeyError\u001b[0m                                  Traceback (most recent call last)",
      "\u001b[0;32m~/anaconda3/envs/biases/lib/python3.7/site-packages/pandas/core/internals/managers.py\u001b[0m in \u001b[0;36mset\u001b[0;34m(self, item, value)\u001b[0m\n\u001b[1;32m   1070\u001b[0m         \u001b[0;32mtry\u001b[0m\u001b[0;34m:\u001b[0m\u001b[0;34m\u001b[0m\u001b[0;34m\u001b[0m\u001b[0m\n\u001b[0;32m-> 1071\u001b[0;31m             \u001b[0mloc\u001b[0m \u001b[0;34m=\u001b[0m \u001b[0mself\u001b[0m\u001b[0;34m.\u001b[0m\u001b[0mitems\u001b[0m\u001b[0;34m.\u001b[0m\u001b[0mget_loc\u001b[0m\u001b[0;34m(\u001b[0m\u001b[0mitem\u001b[0m\u001b[0;34m)\u001b[0m\u001b[0;34m\u001b[0m\u001b[0;34m\u001b[0m\u001b[0m\n\u001b[0m\u001b[1;32m   1072\u001b[0m         \u001b[0;32mexcept\u001b[0m \u001b[0mKeyError\u001b[0m\u001b[0;34m:\u001b[0m\u001b[0;34m\u001b[0m\u001b[0;34m\u001b[0m\u001b[0m\n",
      "\u001b[0;32m~/anaconda3/envs/biases/lib/python3.7/site-packages/pandas/core/indexes/base.py\u001b[0m in \u001b[0;36mget_loc\u001b[0;34m(self, key, method, tolerance)\u001b[0m\n\u001b[1;32m   2647\u001b[0m             \u001b[0;32mexcept\u001b[0m \u001b[0mKeyError\u001b[0m\u001b[0;34m:\u001b[0m\u001b[0;34m\u001b[0m\u001b[0;34m\u001b[0m\u001b[0m\n\u001b[0;32m-> 2648\u001b[0;31m                 \u001b[0;32mreturn\u001b[0m \u001b[0mself\u001b[0m\u001b[0;34m.\u001b[0m\u001b[0m_engine\u001b[0m\u001b[0;34m.\u001b[0m\u001b[0mget_loc\u001b[0m\u001b[0;34m(\u001b[0m\u001b[0mself\u001b[0m\u001b[0;34m.\u001b[0m\u001b[0m_maybe_cast_indexer\u001b[0m\u001b[0;34m(\u001b[0m\u001b[0mkey\u001b[0m\u001b[0;34m)\u001b[0m\u001b[0;34m)\u001b[0m\u001b[0;34m\u001b[0m\u001b[0;34m\u001b[0m\u001b[0m\n\u001b[0m\u001b[1;32m   2649\u001b[0m         \u001b[0mindexer\u001b[0m \u001b[0;34m=\u001b[0m \u001b[0mself\u001b[0m\u001b[0;34m.\u001b[0m\u001b[0mget_indexer\u001b[0m\u001b[0;34m(\u001b[0m\u001b[0;34m[\u001b[0m\u001b[0mkey\u001b[0m\u001b[0;34m]\u001b[0m\u001b[0;34m,\u001b[0m \u001b[0mmethod\u001b[0m\u001b[0;34m=\u001b[0m\u001b[0mmethod\u001b[0m\u001b[0;34m,\u001b[0m \u001b[0mtolerance\u001b[0m\u001b[0;34m=\u001b[0m\u001b[0mtolerance\u001b[0m\u001b[0;34m)\u001b[0m\u001b[0;34m\u001b[0m\u001b[0;34m\u001b[0m\u001b[0m\n",
      "\u001b[0;32mpandas/_libs/index.pyx\u001b[0m in \u001b[0;36mpandas._libs.index.IndexEngine.get_loc\u001b[0;34m()\u001b[0m\n",
      "\u001b[0;32mpandas/_libs/index.pyx\u001b[0m in \u001b[0;36mpandas._libs.index.IndexEngine.get_loc\u001b[0;34m()\u001b[0m\n",
      "\u001b[0;32mpandas/_libs/hashtable_class_helper.pxi\u001b[0m in \u001b[0;36mpandas._libs.hashtable.PyObjectHashTable.get_item\u001b[0;34m()\u001b[0m\n",
      "\u001b[0;32mpandas/_libs/hashtable_class_helper.pxi\u001b[0m in \u001b[0;36mpandas._libs.hashtable.PyObjectHashTable.get_item\u001b[0;34m()\u001b[0m\n",
      "\u001b[0;31mKeyError\u001b[0m: 'score'",
      "\nDuring handling of the above exception, another exception occurred:\n",
      "\u001b[0;31mValueError\u001b[0m                                Traceback (most recent call last)",
      "\u001b[0;32m<ipython-input-25-d920335da4bf>\u001b[0m in \u001b[0;36m<module>\u001b[0;34m\u001b[0m\n\u001b[1;32m      1\u001b[0m \u001b[0mX\u001b[0m \u001b[0;34m=\u001b[0m \u001b[0mvectorizer\u001b[0m\u001b[0;34m.\u001b[0m\u001b[0mtransform\u001b[0m\u001b[0;34m(\u001b[0m\u001b[0mreddit_qys\u001b[0m\u001b[0;34m.\u001b[0m\u001b[0mqy\u001b[0m\u001b[0;34m)\u001b[0m\u001b[0;34m\u001b[0m\u001b[0;34m\u001b[0m\u001b[0m\n\u001b[1;32m      2\u001b[0m \u001b[0my\u001b[0m \u001b[0;34m=\u001b[0m \u001b[0mlr\u001b[0m\u001b[0;34m.\u001b[0m\u001b[0mpredict_proba\u001b[0m\u001b[0;34m(\u001b[0m\u001b[0mX\u001b[0m\u001b[0;34m)\u001b[0m\u001b[0;34m\u001b[0m\u001b[0;34m\u001b[0m\u001b[0m\n\u001b[0;32m----> 3\u001b[0;31m \u001b[0mreddit_qys\u001b[0m\u001b[0;34m[\u001b[0m\u001b[0;34m'score'\u001b[0m\u001b[0;34m]\u001b[0m \u001b[0;34m=\u001b[0m \u001b[0my\u001b[0m\u001b[0;34m\u001b[0m\u001b[0;34m\u001b[0m\u001b[0m\n\u001b[0m",
      "\u001b[0;32m~/anaconda3/envs/biases/lib/python3.7/site-packages/pandas/core/frame.py\u001b[0m in \u001b[0;36m__setitem__\u001b[0;34m(self, key, value)\u001b[0m\n\u001b[1;32m   2936\u001b[0m         \u001b[0;32melse\u001b[0m\u001b[0;34m:\u001b[0m\u001b[0;34m\u001b[0m\u001b[0;34m\u001b[0m\u001b[0m\n\u001b[1;32m   2937\u001b[0m             \u001b[0;31m# set column\u001b[0m\u001b[0;34m\u001b[0m\u001b[0;34m\u001b[0m\u001b[0;34m\u001b[0m\u001b[0m\n\u001b[0;32m-> 2938\u001b[0;31m             \u001b[0mself\u001b[0m\u001b[0;34m.\u001b[0m\u001b[0m_set_item\u001b[0m\u001b[0;34m(\u001b[0m\u001b[0mkey\u001b[0m\u001b[0;34m,\u001b[0m \u001b[0mvalue\u001b[0m\u001b[0;34m)\u001b[0m\u001b[0;34m\u001b[0m\u001b[0;34m\u001b[0m\u001b[0m\n\u001b[0m\u001b[1;32m   2939\u001b[0m \u001b[0;34m\u001b[0m\u001b[0m\n\u001b[1;32m   2940\u001b[0m     \u001b[0;32mdef\u001b[0m \u001b[0m_setitem_slice\u001b[0m\u001b[0;34m(\u001b[0m\u001b[0mself\u001b[0m\u001b[0;34m,\u001b[0m \u001b[0mkey\u001b[0m\u001b[0;34m,\u001b[0m \u001b[0mvalue\u001b[0m\u001b[0;34m)\u001b[0m\u001b[0;34m:\u001b[0m\u001b[0;34m\u001b[0m\u001b[0;34m\u001b[0m\u001b[0m\n",
      "\u001b[0;32m~/anaconda3/envs/biases/lib/python3.7/site-packages/pandas/core/frame.py\u001b[0m in \u001b[0;36m_set_item\u001b[0;34m(self, key, value)\u001b[0m\n\u001b[1;32m   2999\u001b[0m         \u001b[0mself\u001b[0m\u001b[0;34m.\u001b[0m\u001b[0m_ensure_valid_index\u001b[0m\u001b[0;34m(\u001b[0m\u001b[0mvalue\u001b[0m\u001b[0;34m)\u001b[0m\u001b[0;34m\u001b[0m\u001b[0;34m\u001b[0m\u001b[0m\n\u001b[1;32m   3000\u001b[0m         \u001b[0mvalue\u001b[0m \u001b[0;34m=\u001b[0m \u001b[0mself\u001b[0m\u001b[0;34m.\u001b[0m\u001b[0m_sanitize_column\u001b[0m\u001b[0;34m(\u001b[0m\u001b[0mkey\u001b[0m\u001b[0;34m,\u001b[0m \u001b[0mvalue\u001b[0m\u001b[0;34m)\u001b[0m\u001b[0;34m\u001b[0m\u001b[0;34m\u001b[0m\u001b[0m\n\u001b[0;32m-> 3001\u001b[0;31m         \u001b[0mNDFrame\u001b[0m\u001b[0;34m.\u001b[0m\u001b[0m_set_item\u001b[0m\u001b[0;34m(\u001b[0m\u001b[0mself\u001b[0m\u001b[0;34m,\u001b[0m \u001b[0mkey\u001b[0m\u001b[0;34m,\u001b[0m \u001b[0mvalue\u001b[0m\u001b[0;34m)\u001b[0m\u001b[0;34m\u001b[0m\u001b[0;34m\u001b[0m\u001b[0m\n\u001b[0m\u001b[1;32m   3002\u001b[0m \u001b[0;34m\u001b[0m\u001b[0m\n\u001b[1;32m   3003\u001b[0m         \u001b[0;31m# check if we are modifying a copy\u001b[0m\u001b[0;34m\u001b[0m\u001b[0;34m\u001b[0m\u001b[0;34m\u001b[0m\u001b[0m\n",
      "\u001b[0;32m~/anaconda3/envs/biases/lib/python3.7/site-packages/pandas/core/generic.py\u001b[0m in \u001b[0;36m_set_item\u001b[0;34m(self, key, value)\u001b[0m\n\u001b[1;32m   3622\u001b[0m \u001b[0;34m\u001b[0m\u001b[0m\n\u001b[1;32m   3623\u001b[0m     \u001b[0;32mdef\u001b[0m \u001b[0m_set_item\u001b[0m\u001b[0;34m(\u001b[0m\u001b[0mself\u001b[0m\u001b[0;34m,\u001b[0m \u001b[0mkey\u001b[0m\u001b[0;34m,\u001b[0m \u001b[0mvalue\u001b[0m\u001b[0;34m)\u001b[0m \u001b[0;34m->\u001b[0m \u001b[0;32mNone\u001b[0m\u001b[0;34m:\u001b[0m\u001b[0;34m\u001b[0m\u001b[0;34m\u001b[0m\u001b[0m\n\u001b[0;32m-> 3624\u001b[0;31m         \u001b[0mself\u001b[0m\u001b[0;34m.\u001b[0m\u001b[0m_data\u001b[0m\u001b[0;34m.\u001b[0m\u001b[0mset\u001b[0m\u001b[0;34m(\u001b[0m\u001b[0mkey\u001b[0m\u001b[0;34m,\u001b[0m \u001b[0mvalue\u001b[0m\u001b[0;34m)\u001b[0m\u001b[0;34m\u001b[0m\u001b[0;34m\u001b[0m\u001b[0m\n\u001b[0m\u001b[1;32m   3625\u001b[0m         \u001b[0mself\u001b[0m\u001b[0;34m.\u001b[0m\u001b[0m_clear_item_cache\u001b[0m\u001b[0;34m(\u001b[0m\u001b[0;34m)\u001b[0m\u001b[0;34m\u001b[0m\u001b[0;34m\u001b[0m\u001b[0m\n\u001b[1;32m   3626\u001b[0m \u001b[0;34m\u001b[0m\u001b[0m\n",
      "\u001b[0;32m~/anaconda3/envs/biases/lib/python3.7/site-packages/pandas/core/internals/managers.py\u001b[0m in \u001b[0;36mset\u001b[0;34m(self, item, value)\u001b[0m\n\u001b[1;32m   1072\u001b[0m         \u001b[0;32mexcept\u001b[0m \u001b[0mKeyError\u001b[0m\u001b[0;34m:\u001b[0m\u001b[0;34m\u001b[0m\u001b[0;34m\u001b[0m\u001b[0m\n\u001b[1;32m   1073\u001b[0m             \u001b[0;31m# This item wasn't present, just insert at end\u001b[0m\u001b[0;34m\u001b[0m\u001b[0;34m\u001b[0m\u001b[0;34m\u001b[0m\u001b[0m\n\u001b[0;32m-> 1074\u001b[0;31m             \u001b[0mself\u001b[0m\u001b[0;34m.\u001b[0m\u001b[0minsert\u001b[0m\u001b[0;34m(\u001b[0m\u001b[0mlen\u001b[0m\u001b[0;34m(\u001b[0m\u001b[0mself\u001b[0m\u001b[0;34m.\u001b[0m\u001b[0mitems\u001b[0m\u001b[0;34m)\u001b[0m\u001b[0;34m,\u001b[0m \u001b[0mitem\u001b[0m\u001b[0;34m,\u001b[0m \u001b[0mvalue\u001b[0m\u001b[0;34m)\u001b[0m\u001b[0;34m\u001b[0m\u001b[0;34m\u001b[0m\u001b[0m\n\u001b[0m\u001b[1;32m   1075\u001b[0m             \u001b[0;32mreturn\u001b[0m\u001b[0;34m\u001b[0m\u001b[0;34m\u001b[0m\u001b[0m\n\u001b[1;32m   1076\u001b[0m \u001b[0;34m\u001b[0m\u001b[0m\n",
      "\u001b[0;32m~/anaconda3/envs/biases/lib/python3.7/site-packages/pandas/core/internals/managers.py\u001b[0m in \u001b[0;36minsert\u001b[0;34m(self, loc, item, value, allow_duplicates)\u001b[0m\n\u001b[1;32m   1179\u001b[0m         \u001b[0mnew_axis\u001b[0m \u001b[0;34m=\u001b[0m \u001b[0mself\u001b[0m\u001b[0;34m.\u001b[0m\u001b[0mitems\u001b[0m\u001b[0;34m.\u001b[0m\u001b[0minsert\u001b[0m\u001b[0;34m(\u001b[0m\u001b[0mloc\u001b[0m\u001b[0;34m,\u001b[0m \u001b[0mitem\u001b[0m\u001b[0;34m)\u001b[0m\u001b[0;34m\u001b[0m\u001b[0;34m\u001b[0m\u001b[0m\n\u001b[1;32m   1180\u001b[0m \u001b[0;34m\u001b[0m\u001b[0m\n\u001b[0;32m-> 1181\u001b[0;31m         \u001b[0mblock\u001b[0m \u001b[0;34m=\u001b[0m \u001b[0mmake_block\u001b[0m\u001b[0;34m(\u001b[0m\u001b[0mvalues\u001b[0m\u001b[0;34m=\u001b[0m\u001b[0mvalue\u001b[0m\u001b[0;34m,\u001b[0m \u001b[0mndim\u001b[0m\u001b[0;34m=\u001b[0m\u001b[0mself\u001b[0m\u001b[0;34m.\u001b[0m\u001b[0mndim\u001b[0m\u001b[0;34m,\u001b[0m \u001b[0mplacement\u001b[0m\u001b[0;34m=\u001b[0m\u001b[0mslice\u001b[0m\u001b[0;34m(\u001b[0m\u001b[0mloc\u001b[0m\u001b[0;34m,\u001b[0m \u001b[0mloc\u001b[0m \u001b[0;34m+\u001b[0m \u001b[0;36m1\u001b[0m\u001b[0;34m)\u001b[0m\u001b[0;34m)\u001b[0m\u001b[0;34m\u001b[0m\u001b[0;34m\u001b[0m\u001b[0m\n\u001b[0m\u001b[1;32m   1182\u001b[0m \u001b[0;34m\u001b[0m\u001b[0m\n\u001b[1;32m   1183\u001b[0m         \u001b[0;32mfor\u001b[0m \u001b[0mblkno\u001b[0m\u001b[0;34m,\u001b[0m \u001b[0mcount\u001b[0m \u001b[0;32min\u001b[0m \u001b[0m_fast_count_smallints\u001b[0m\u001b[0;34m(\u001b[0m\u001b[0mself\u001b[0m\u001b[0;34m.\u001b[0m\u001b[0m_blknos\u001b[0m\u001b[0;34m[\u001b[0m\u001b[0mloc\u001b[0m\u001b[0;34m:\u001b[0m\u001b[0;34m]\u001b[0m\u001b[0;34m)\u001b[0m\u001b[0;34m:\u001b[0m\u001b[0;34m\u001b[0m\u001b[0;34m\u001b[0m\u001b[0m\n",
      "\u001b[0;32m~/anaconda3/envs/biases/lib/python3.7/site-packages/pandas/core/internals/blocks.py\u001b[0m in \u001b[0;36mmake_block\u001b[0;34m(values, placement, klass, ndim, dtype)\u001b[0m\n\u001b[1;32m   3051\u001b[0m         \u001b[0mvalues\u001b[0m \u001b[0;34m=\u001b[0m \u001b[0mDatetimeArray\u001b[0m\u001b[0;34m.\u001b[0m\u001b[0m_simple_new\u001b[0m\u001b[0;34m(\u001b[0m\u001b[0mvalues\u001b[0m\u001b[0;34m,\u001b[0m \u001b[0mdtype\u001b[0m\u001b[0;34m=\u001b[0m\u001b[0mdtype\u001b[0m\u001b[0;34m)\u001b[0m\u001b[0;34m\u001b[0m\u001b[0;34m\u001b[0m\u001b[0m\n\u001b[1;32m   3052\u001b[0m \u001b[0;34m\u001b[0m\u001b[0m\n\u001b[0;32m-> 3053\u001b[0;31m     \u001b[0;32mreturn\u001b[0m \u001b[0mklass\u001b[0m\u001b[0;34m(\u001b[0m\u001b[0mvalues\u001b[0m\u001b[0;34m,\u001b[0m \u001b[0mndim\u001b[0m\u001b[0;34m=\u001b[0m\u001b[0mndim\u001b[0m\u001b[0;34m,\u001b[0m \u001b[0mplacement\u001b[0m\u001b[0;34m=\u001b[0m\u001b[0mplacement\u001b[0m\u001b[0;34m)\u001b[0m\u001b[0;34m\u001b[0m\u001b[0;34m\u001b[0m\u001b[0m\n\u001b[0m\u001b[1;32m   3054\u001b[0m \u001b[0;34m\u001b[0m\u001b[0m\n\u001b[1;32m   3055\u001b[0m \u001b[0;34m\u001b[0m\u001b[0m\n",
      "\u001b[0;32m~/anaconda3/envs/biases/lib/python3.7/site-packages/pandas/core/internals/blocks.py\u001b[0m in \u001b[0;36m__init__\u001b[0;34m(self, values, placement, ndim)\u001b[0m\n\u001b[1;32m    123\u001b[0m         \u001b[0;32mif\u001b[0m \u001b[0mself\u001b[0m\u001b[0;34m.\u001b[0m\u001b[0m_validate_ndim\u001b[0m \u001b[0;32mand\u001b[0m \u001b[0mself\u001b[0m\u001b[0;34m.\u001b[0m\u001b[0mndim\u001b[0m \u001b[0;32mand\u001b[0m \u001b[0mlen\u001b[0m\u001b[0;34m(\u001b[0m\u001b[0mself\u001b[0m\u001b[0;34m.\u001b[0m\u001b[0mmgr_locs\u001b[0m\u001b[0;34m)\u001b[0m \u001b[0;34m!=\u001b[0m \u001b[0mlen\u001b[0m\u001b[0;34m(\u001b[0m\u001b[0mself\u001b[0m\u001b[0;34m.\u001b[0m\u001b[0mvalues\u001b[0m\u001b[0;34m)\u001b[0m\u001b[0;34m:\u001b[0m\u001b[0;34m\u001b[0m\u001b[0;34m\u001b[0m\u001b[0m\n\u001b[1;32m    124\u001b[0m             raise ValueError(\n\u001b[0;32m--> 125\u001b[0;31m                 \u001b[0;34mf\"Wrong number of items passed {len(self.values)}, \"\u001b[0m\u001b[0;34m\u001b[0m\u001b[0;34m\u001b[0m\u001b[0m\n\u001b[0m\u001b[1;32m    126\u001b[0m                 \u001b[0;34mf\"placement implies {len(self.mgr_locs)}\"\u001b[0m\u001b[0;34m\u001b[0m\u001b[0;34m\u001b[0m\u001b[0m\n\u001b[1;32m    127\u001b[0m             )\n",
      "\u001b[0;31mValueError\u001b[0m: Wrong number of items passed 2, placement implies 1"
     ]
    }
   ],
   "source": [
    "X = vectorizer.transform(reddit_qys.qy)\n",
    "y = lr.predict_proba(X)\n",
    "reddit_qys['score'] = y"
   ]
  },
  {
   "cell_type": "code",
   "execution_count": null,
   "metadata": {},
   "outputs": [],
   "source": [
    "reddit_qys.sort_values('score')[['qy', 'gender', 'score']]"
   ]
  },
  {
   "cell_type": "markdown",
   "metadata": {},
   "source": [
    "### Most predictive"
   ]
  },
  {
   "cell_type": "code",
   "execution_count": 29,
   "metadata": {},
   "outputs": [
    {
     "data": {
      "text/plain": [
       "M    143\n",
       "W     21\n",
       "Name: op_gender, dtype: int64"
      ]
     },
     "execution_count": 29,
     "metadata": {},
     "output_type": "execute_result"
    }
   ],
   "source": [
    "reddit_qys[reddit_qys.post_text.str.contains('gaming')].op_gender.value_counts()"
   ]
  },
  {
   "cell_type": "markdown",
   "metadata": {},
   "source": [
    "### Save sets"
   ]
  },
  {
   "cell_type": "markdown",
   "metadata": {},
   "source": [
    "50% random male samples, 50% random female samples"
   ]
  },
  {
   "cell_type": "code",
   "execution_count": 121,
   "metadata": {},
   "outputs": [],
   "source": [
    "for i in range(1, 4):\n",
    "    trial1 = pd.concat([reddit_qys[reddit_qys.op_gender == 'W'].sample(3000), reddit_qys[reddit_qys.op_gender == 'M'].sample(3000)])\n",
    "    trial1[['op_gender', 'qy']].to_csv('random_equal_t%d.csv' % i, sep='\\t', header=False, index=False)"
   ]
  },
  {
   "cell_type": "markdown",
   "metadata": {},
   "source": [
    "50% high confidence male samples, 50% high confidence female samples"
   ]
  },
  {
   "cell_type": "code",
   "execution_count": 128,
   "metadata": {},
   "outputs": [],
   "source": [
    "df = pd.concat([reddit_qys[reddit_qys.op_gender == 'W'].sort_values('score', ascending=False).head(3000),\n",
    "           reddit_qys[reddit_qys.op_gender == 'M'].sort_values('score', ascending=True).head(3000)])\n",
    "df[['op_gender', 'qy']].to_csv('high_conf_equal.csv', sep='\\t', header=False, index=False)"
   ]
  },
  {
   "cell_type": "markdown",
   "metadata": {},
   "source": [
    "random male/female samples"
   ]
  },
  {
   "cell_type": "code",
   "execution_count": 129,
   "metadata": {},
   "outputs": [],
   "source": [
    "df = reddit_qys[reddit_qys.op_gender == 'W'].sample(6000)\n",
    "df[['score', 'qy']].to_csv('random_women.csv', sep='\\t', header=False, index=False)\n",
    "\n",
    "df = reddit_qys[reddit_qys.op_gender == 'M'].sample(6000)\n",
    "df[['score', 'qy']].to_csv('random_men.csv', sep='\\t', header=False, index=False)"
   ]
  }
 ],
 "metadata": {
  "kernelspec": {
   "display_name": "Python 3",
   "language": "python",
   "name": "python3"
  },
  "language_info": {
   "codemirror_mode": {
    "name": "ipython",
    "version": 3
   },
   "file_extension": ".py",
   "mimetype": "text/x-python",
   "name": "python",
   "nbconvert_exporter": "python",
   "pygments_lexer": "ipython3",
   "version": "3.7.7"
  }
 },
 "nbformat": 4,
 "nbformat_minor": 4
}
