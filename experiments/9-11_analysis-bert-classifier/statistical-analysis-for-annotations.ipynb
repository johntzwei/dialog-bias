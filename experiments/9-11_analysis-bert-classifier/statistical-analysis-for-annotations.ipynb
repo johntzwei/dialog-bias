{
 "cells": [
  {
   "cell_type": "code",
   "execution_count": 8,
   "metadata": {},
   "outputs": [],
   "source": [
    "import pandas as pd\n",
    "import numpy as np\n",
    "import seaborn as sns\n",
    "sns.set()\n",
    "import matplotlib.pyplot as plt"
   ]
  },
  {
   "cell_type": "code",
   "execution_count": 18,
   "metadata": {
    "scrolled": true
   },
   "outputs": [
    {
     "data": {
      "text/html": [
       "<div>\n",
       "<style scoped>\n",
       "    .dataframe tbody tr th:only-of-type {\n",
       "        vertical-align: middle;\n",
       "    }\n",
       "\n",
       "    .dataframe tbody tr th {\n",
       "        vertical-align: top;\n",
       "    }\n",
       "\n",
       "    .dataframe thead th {\n",
       "        text-align: right;\n",
       "    }\n",
       "</style>\n",
       "<table border=\"1\" class=\"dataframe\">\n",
       "  <thead>\n",
       "    <tr style=\"text-align: right;\">\n",
       "      <th></th>\n",
       "      <th>question</th>\n",
       "      <th>dialoGPT response</th>\n",
       "      <th>gender</th>\n",
       "      <th>predictions</th>\n",
       "      <th>my judgment</th>\n",
       "    </tr>\n",
       "  </thead>\n",
       "  <tbody>\n",
       "    <tr>\n",
       "      <th>0</th>\n",
       "      <td>Is playing with Hai actually helping to develo...</td>\n",
       "      <td>Lol I never even think about that, Hai has don...</td>\n",
       "      <td>M</td>\n",
       "      <td>f</td>\n",
       "      <td>p</td>\n",
       "    </tr>\n",
       "  </tbody>\n",
       "</table>\n",
       "</div>"
      ],
      "text/plain": [
       "                                            question  \\\n",
       "0  Is playing with Hai actually helping to develo...   \n",
       "\n",
       "                                   dialoGPT response gender predictions  \\\n",
       "0  Lol I never even think about that, Hai has don...      M           f   \n",
       "\n",
       "  my judgment  \n",
       "0           p  "
      ]
     },
     "execution_count": 18,
     "metadata": {},
     "output_type": "execute_result"
    }
   ],
   "source": [
    "df = pd.read_csv('./highly_conf_annotations.tsv', delimiter='\\t')\n",
    "df.columns = ['question', 'dialoGPT response', 'gender', 'predictions', 'my judgment']\n",
    "df.head(1)"
   ]
  },
  {
   "cell_type": "code",
   "execution_count": 19,
   "metadata": {
    "scrolled": true
   },
   "outputs": [
    {
     "data": {
      "text/html": [
       "<div>\n",
       "<style scoped>\n",
       "    .dataframe tbody tr th:only-of-type {\n",
       "        vertical-align: middle;\n",
       "    }\n",
       "\n",
       "    .dataframe tbody tr th {\n",
       "        vertical-align: top;\n",
       "    }\n",
       "\n",
       "    .dataframe thead th {\n",
       "        text-align: right;\n",
       "    }\n",
       "</style>\n",
       "<table border=\"1\" class=\"dataframe\">\n",
       "  <thead>\n",
       "    <tr style=\"text-align: right;\">\n",
       "      <th></th>\n",
       "      <th>question</th>\n",
       "      <th>dialoGPT response</th>\n",
       "      <th>predictions</th>\n",
       "      <th>my judgment</th>\n",
       "    </tr>\n",
       "    <tr>\n",
       "      <th>gender</th>\n",
       "      <th></th>\n",
       "      <th></th>\n",
       "      <th></th>\n",
       "      <th></th>\n",
       "    </tr>\n",
       "  </thead>\n",
       "  <tbody>\n",
       "    <tr>\n",
       "      <th>M</th>\n",
       "      <td>250</td>\n",
       "      <td>250</td>\n",
       "      <td>250</td>\n",
       "      <td>250</td>\n",
       "    </tr>\n",
       "    <tr>\n",
       "      <th>W</th>\n",
       "      <td>250</td>\n",
       "      <td>250</td>\n",
       "      <td>250</td>\n",
       "      <td>250</td>\n",
       "    </tr>\n",
       "  </tbody>\n",
       "</table>\n",
       "</div>"
      ],
      "text/plain": [
       "        question  dialoGPT response  predictions  my judgment\n",
       "gender                                                       \n",
       "M            250                250          250          250\n",
       "W            250                250          250          250"
      ]
     },
     "execution_count": 19,
     "metadata": {},
     "output_type": "execute_result"
    }
   ],
   "source": [
    "df = df[~df['my judgment'].isna()]\n",
    "balanced = pd.concat([df[df.gender == 'M'], df[df.gender == 'W']])\n",
    "balanced.groupby('gender').count()"
   ]
  },
  {
   "cell_type": "markdown",
   "metadata": {},
   "source": [
    "### Precision and recall"
   ]
  },
  {
   "cell_type": "code",
   "execution_count": 20,
   "metadata": {},
   "outputs": [],
   "source": [
    "def precision_full_response(x):\n",
    "    keywords = ['yes', 'ok', 'sure', 'no', 'nope', 'nah']\n",
    "    return any(i in str(x).lower() for i in keywords)"
   ]
  },
  {
   "cell_type": "code",
   "execution_count": 21,
   "metadata": {},
   "outputs": [
    {
     "data": {
      "text/html": [
       "<div>\n",
       "<style scoped>\n",
       "    .dataframe tbody tr th:only-of-type {\n",
       "        vertical-align: middle;\n",
       "    }\n",
       "\n",
       "    .dataframe tbody tr th {\n",
       "        vertical-align: top;\n",
       "    }\n",
       "\n",
       "    .dataframe thead th {\n",
       "        text-align: right;\n",
       "    }\n",
       "</style>\n",
       "<table border=\"1\" class=\"dataframe\">\n",
       "  <thead>\n",
       "    <tr style=\"text-align: right;\">\n",
       "      <th></th>\n",
       "      <th>question</th>\n",
       "      <th>dialoGPT response</th>\n",
       "      <th>gender</th>\n",
       "      <th>predictions</th>\n",
       "      <th>my judgment</th>\n",
       "      <th>response</th>\n",
       "    </tr>\n",
       "  </thead>\n",
       "  <tbody>\n",
       "    <tr>\n",
       "      <th>0</th>\n",
       "      <td>Is playing with Hai actually helping to develo...</td>\n",
       "      <td>Lol I never even think about that, Hai has don...</td>\n",
       "      <td>M</td>\n",
       "      <td>f</td>\n",
       "      <td>p</td>\n",
       "      <td>False</td>\n",
       "    </tr>\n",
       "  </tbody>\n",
       "</table>\n",
       "</div>"
      ],
      "text/plain": [
       "                                            question  \\\n",
       "0  Is playing with Hai actually helping to develo...   \n",
       "\n",
       "                                   dialoGPT response gender predictions  \\\n",
       "0  Lol I never even think about that, Hai has don...      M           f   \n",
       "\n",
       "  my judgment  response  \n",
       "0           p     False  "
      ]
     },
     "execution_count": 21,
     "metadata": {},
     "output_type": "execute_result"
    }
   ],
   "source": [
    "balanced['response'] = balanced['dialoGPT response'].apply(precision_full_response)\n",
    "balanced.head(1)"
   ]
  },
  {
   "cell_type": "code",
   "execution_count": 22,
   "metadata": {},
   "outputs": [
    {
     "data": {
      "text/plain": [
       "0.5371900826446281"
      ]
     },
     "execution_count": 22,
     "metadata": {},
     "output_type": "execute_result"
    }
   ],
   "source": [
    "# precision\n",
    "classified_true = balanced[balanced['response']]\n",
    "np.mean(classified_true['my judgment'] == 'f')"
   ]
  },
  {
   "cell_type": "code",
   "execution_count": 23,
   "metadata": {},
   "outputs": [
    {
     "data": {
      "text/plain": [
       "0.6878306878306878"
      ]
     },
     "execution_count": 23,
     "metadata": {},
     "output_type": "execute_result"
    }
   ],
   "source": [
    "# recall\n",
    "true_f = balanced[balanced['my judgment'] == 'f']\n",
    "np.mean(true_f['response'])"
   ]
  },
  {
   "cell_type": "markdown",
   "metadata": {},
   "source": [
    "### Statistical test"
   ]
  },
  {
   "cell_type": "code",
   "execution_count": 24,
   "metadata": {
    "scrolled": true
   },
   "outputs": [
    {
     "name": "stdout",
     "output_type": "stream",
     "text": [
      "M\n",
      "n    121\n",
      "f     93\n",
      "p     36\n",
      "Name: my judgment, dtype: int64\n",
      "W\n",
      "n    112\n",
      "f     96\n",
      "p     42\n",
      "Name: my judgment, dtype: int64\n"
     ]
    }
   ],
   "source": [
    "for i, group in balanced.groupby('gender'):\n",
    "    print(i)\n",
    "    print(group['my judgment'].value_counts())"
   ]
  },
  {
   "cell_type": "code",
   "execution_count": 25,
   "metadata": {
    "scrolled": true
   },
   "outputs": [
    {
     "name": "stdout",
     "output_type": "stream",
     "text": [
      "9\n"
     ]
    },
    {
     "data": {
      "text/plain": [
       "<matplotlib.collections.LineCollection at 0x7f076bf8c950>"
      ]
     },
     "execution_count": 25,
     "metadata": {},
     "output_type": "execute_result"
    },
    {
     "data": {
      "image/png": "[encoded data removed]",
      "text/plain": [
       "<Figure size 432x288 with 1 Axes>"
      ]
     },
     "metadata": {},
     "output_type": "display_data"
    }
   ],
   "source": [
    "trials = 1000\n",
    "\n",
    "test_statistic = len(balanced[(balanced.gender == 'M') & (balanced['my judgment'] == 'n')]) - len(balanced[(balanced.gender == 'W') & (balanced['my judgment'] == 'n')])\n",
    "print(test_statistic)\n",
    "\n",
    "v = []\n",
    "for i in range(0, trials):\n",
    "    balanced['label'] = np.random.permutation(balanced['gender'].tolist())\n",
    "    statistic = len(balanced[(balanced.label == 'M') & (balanced['my judgment'] == 'n')]) - len(balanced[(balanced.label == 'W') & (balanced['my judgment'] == 'n')])\n",
    "    v.append(statistic)\n",
    "    \n",
    "diffs = np.array(v)\n",
    "p_value = sum(np.abs(diffs) > test_statistic) / trials\n",
    "    \n",
    "plt.figure()\n",
    "plt.title('Difference in full responses, p:%f' % (p_value))\n",
    "ax = sns.distplot(diffs)\n",
    "ymin, ymax = ax.get_ylim()\n",
    "ax.vlines(test_statistic, ymin, ymax, linestyle='--')"
   ]
  },
  {
   "cell_type": "code",
   "execution_count": null,
   "metadata": {},
   "outputs": [],
   "source": []
  }
 ],
 "metadata": {
  "kernelspec": {
   "display_name": "Python 3",
   "language": "python",
   "name": "python3"
  },
  "language_info": {
   "codemirror_mode": {
    "name": "ipython",
    "version": 3
   },
   "file_extension": ".py",
   "mimetype": "text/x-python",
   "name": "python",
   "nbconvert_exporter": "python",
   "pygments_lexer": "ipython3",
   "version": "3.7.7"
  }
 },
 "nbformat": 4,
 "nbformat_minor": 4
}
