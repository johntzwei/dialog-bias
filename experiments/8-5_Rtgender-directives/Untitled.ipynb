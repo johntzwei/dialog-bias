{
 "cells": [
  {
   "cell_type": "code",
   "execution_count": 64,
   "metadata": {},
   "outputs": [
    {
     "name": "stderr",
     "output_type": "stream",
     "text": [
      "/nas/home/jwei/anaconda3/envs/biases/lib/python3.7/site-packages/ipykernel_launcher.py:3: FutureWarning: Passing a negative integer is deprecated in version 1.0 and will not be supported in future version. Instead, use None to not limit the column width.\n",
      "  This is separate from the ipykernel package so we can avoid doing imports until\n"
     ]
    }
   ],
   "source": [
    "import pickle\n",
    "import pandas as pd\n",
    "pd.set_option('display.max_colwidth', -1)\n",
    "import nltk.data"
   ]
  },
  {
   "cell_type": "code",
   "execution_count": 65,
   "metadata": {},
   "outputs": [],
   "source": [
    "balanced_reddit = pickle.load(open('/nas/home/jwei/biases/dialog-bias/experiments/7-27_Rtgender-qy/balanced_reddit.pkl', 'rb'))\n",
    "reddit_features = pickle.load(open('/nas/home/jwei/biases/dialog-bias/experiments/7-27_Rtgender-qy/reddit_features.pkl', 'rb'))"
   ]
  },
  {
   "cell_type": "code",
   "execution_count": 66,
   "metadata": {},
   "outputs": [
    {
     "data": {
      "text/html": [
       "<div>\n",
       "<style scoped>\n",
       "    .dataframe tbody tr th:only-of-type {\n",
       "        vertical-align: middle;\n",
       "    }\n",
       "\n",
       "    .dataframe tbody tr th {\n",
       "        vertical-align: top;\n",
       "    }\n",
       "\n",
       "    .dataframe thead th {\n",
       "        text-align: right;\n",
       "    }\n",
       "</style>\n",
       "<table border=\"1\" class=\"dataframe\">\n",
       "  <thead>\n",
       "    <tr style=\"text-align: right;\">\n",
       "      <th></th>\n",
       "      <th>op_id</th>\n",
       "      <th>op_gender</th>\n",
       "      <th>post_id</th>\n",
       "      <th>post_text</th>\n",
       "      <th>subreddit</th>\n",
       "      <th>op_gender_visible</th>\n",
       "      <th>score</th>\n",
       "    </tr>\n",
       "  </thead>\n",
       "  <tbody>\n",
       "    <tr>\n",
       "      <th>539699</th>\n",
       "      <td>lynn</td>\n",
       "      <td>W</td>\n",
       "      <td>539699</td>\n",
       "      <td>Do you see a lot of sleeping flamingos?</td>\n",
       "      <td>aww</td>\n",
       "      <td>False</td>\n",
       "      <td>0.341849</td>\n",
       "    </tr>\n",
       "    <tr>\n",
       "      <th>539700</th>\n",
       "      <td>civildefense</td>\n",
       "      <td>M</td>\n",
       "      <td>539700</td>\n",
       "      <td>aww my Bichons name is Muffin!</td>\n",
       "      <td>aww</td>\n",
       "      <td>False</td>\n",
       "      <td>0.621827</td>\n",
       "    </tr>\n",
       "    <tr>\n",
       "      <th>539701</th>\n",
       "      <td>civildefense</td>\n",
       "      <td>M</td>\n",
       "      <td>539701</td>\n",
       "      <td>Isnt the reddit alien trademarked at this point?</td>\n",
       "      <td>aww</td>\n",
       "      <td>False</td>\n",
       "      <td>0.361136</td>\n",
       "    </tr>\n",
       "    <tr>\n",
       "      <th>539702</th>\n",
       "      <td>aenea</td>\n",
       "      <td>W</td>\n",
       "      <td>539702</td>\n",
       "      <td>If it is, hes definitely got permission to use it.  The admins have been very supportive of him.</td>\n",
       "      <td>aww</td>\n",
       "      <td>False</td>\n",
       "      <td>0.841686</td>\n",
       "    </tr>\n",
       "    <tr>\n",
       "      <th>539703</th>\n",
       "      <td>yeahThatJustHappend</td>\n",
       "      <td>M</td>\n",
       "      <td>539703</td>\n",
       "      <td>Rabbits are awesome pets - especially the babies! As a kid, my neighbor used to have a bunch that would have babies and we could come over to play with them. They would escape their pen and wed have to catch them. My neighbors didnt seem to be as excited about playing with them though. I guess they had SO many of them tha.... fuck. I think they used to eat them. I cant believe I didnt realize that until now.</td>\n",
       "      <td>aww</td>\n",
       "      <td>False</td>\n",
       "      <td>0.906734</td>\n",
       "    </tr>\n",
       "    <tr>\n",
       "      <th>...</th>\n",
       "      <td>...</td>\n",
       "      <td>...</td>\n",
       "      <td>...</td>\n",
       "      <td>...</td>\n",
       "      <td>...</td>\n",
       "      <td>...</td>\n",
       "      <td>...</td>\n",
       "    </tr>\n",
       "    <tr>\n",
       "      <th>696768</th>\n",
       "      <td>Vanetia</td>\n",
       "      <td>W</td>\n",
       "      <td>696768</td>\n",
       "      <td>&gt; +Spd/-Def  That one. If anything because -spd is brutal.  Blade tome is recommended, I think. Especially if youre doing flier emblem with those buffs.</td>\n",
       "      <td>FireEmblemHeroes</td>\n",
       "      <td>False</td>\n",
       "      <td>0.738486</td>\n",
       "    </tr>\n",
       "    <tr>\n",
       "      <th>696769</th>\n",
       "      <td>Vanetia</td>\n",
       "      <td>W</td>\n",
       "      <td>696769</td>\n",
       "      <td>Dont they drop to mages?</td>\n",
       "      <td>FireEmblemHeroes</td>\n",
       "      <td>False</td>\n",
       "      <td>0.270007</td>\n",
       "    </tr>\n",
       "    <tr>\n",
       "      <th>696770</th>\n",
       "      <td>Ignoth</td>\n",
       "      <td>M</td>\n",
       "      <td>696770</td>\n",
       "      <td>Caeda?   Hmm, not sure why. But I feel like Im being deceived somehow...</td>\n",
       "      <td>FireEmblemHeroes</td>\n",
       "      <td>False</td>\n",
       "      <td>0.533282</td>\n",
       "    </tr>\n",
       "    <tr>\n",
       "      <th>696771</th>\n",
       "      <td>cjm7287</td>\n",
       "      <td>M</td>\n",
       "      <td>696771</td>\n",
       "      <td>While Im not F2P btw, Im far from a whale in this game and dont currently have the resources to make a marginally better unit to fulfill a similar role.  Shes also neutral IV, if I remember correctly.  Edit:  -HP/+Def actually, so might as well be neutral.</td>\n",
       "      <td>FireEmblemHeroes</td>\n",
       "      <td>False</td>\n",
       "      <td>0.023487</td>\n",
       "    </tr>\n",
       "    <tr>\n",
       "      <th>696772</th>\n",
       "      <td>Raichubrony</td>\n",
       "      <td>W</td>\n",
       "      <td>696772</td>\n",
       "      <td>/u/geckolion /u/trxpsyche you both clearly never played the third path in fates</td>\n",
       "      <td>FireEmblemHeroes</td>\n",
       "      <td>False</td>\n",
       "      <td>0.134481</td>\n",
       "    </tr>\n",
       "  </tbody>\n",
       "</table>\n",
       "<p>39410 rows × 7 columns</p>\n",
       "</div>"
      ],
      "text/plain": [
       "                      op_id op_gender  post_id  \\\n",
       "539699  lynn                 W         539699    \n",
       "539700  civildefense         M         539700    \n",
       "539701  civildefense         M         539701    \n",
       "539702  aenea                W         539702    \n",
       "539703  yeahThatJustHappend  M         539703    \n",
       "...                     ... ..            ...    \n",
       "696768  Vanetia              W         696768    \n",
       "696769  Vanetia              W         696769    \n",
       "696770  Ignoth               M         696770    \n",
       "696771  cjm7287              M         696771    \n",
       "696772  Raichubrony          W         696772    \n",
       "\n",
       "                                                                                                                                                                                                                                                                                                                                                                                                                          post_text  \\\n",
       "539699  Do you see a lot of sleeping flamingos?                                                                                                                                                                                                                                                                                                                                                                                       \n",
       "539700  aww my Bichons name is Muffin!                                                                                                                                                                                                                                                                                                                                                                                                \n",
       "539701  Isnt the reddit alien trademarked at this point?                                                                                                                                                                                                                                                                                                                                                                              \n",
       "539702  If it is, hes definitely got permission to use it.  The admins have been very supportive of him.                                                                                                                                                                                                                                                                                                                              \n",
       "539703  Rabbits are awesome pets - especially the babies! As a kid, my neighbor used to have a bunch that would have babies and we could come over to play with them. They would escape their pen and wed have to catch them. My neighbors didnt seem to be as excited about playing with them though. I guess they had SO many of them tha.... fuck. I think they used to eat them. I cant believe I didnt realize that until now.   \n",
       "...                                                                                                                                                                                                                                                                                                                                                                                                                             ...   \n",
       "696768  > +Spd/-Def  That one. If anything because -spd is brutal.  Blade tome is recommended, I think. Especially if youre doing flier emblem with those buffs.                                                                                                                                                                                                                                                                      \n",
       "696769  Dont they drop to mages?                                                                                                                                                                                                                                                                                                                                                                                                      \n",
       "696770  Caeda?   Hmm, not sure why. But I feel like Im being deceived somehow...                                                                                                                                                                                                                                                                                                                                                      \n",
       "696771  While Im not F2P btw, Im far from a whale in this game and dont currently have the resources to make a marginally better unit to fulfill a similar role.  Shes also neutral IV, if I remember correctly.  Edit:  -HP/+Def actually, so might as well be neutral.                                                                                                                                                              \n",
       "696772  /u/geckolion /u/trxpsyche you both clearly never played the third path in fates                                                                                                                                                                                                                                                                                                                                               \n",
       "\n",
       "               subreddit  op_gender_visible     score  \n",
       "539699  aww               False              0.341849  \n",
       "539700  aww               False              0.621827  \n",
       "539701  aww               False              0.361136  \n",
       "539702  aww               False              0.841686  \n",
       "539703  aww               False              0.906734  \n",
       "...     ...                 ...                   ...  \n",
       "696768  FireEmblemHeroes  False              0.738486  \n",
       "696769  FireEmblemHeroes  False              0.270007  \n",
       "696770  FireEmblemHeroes  False              0.533282  \n",
       "696771  FireEmblemHeroes  False              0.023487  \n",
       "696772  FireEmblemHeroes  False              0.134481  \n",
       "\n",
       "[39410 rows x 7 columns]"
      ]
     },
     "execution_count": 66,
     "metadata": {},
     "output_type": "execute_result"
    }
   ],
   "source": [
    "balanced_reddit"
   ]
  },
  {
   "cell_type": "code",
   "execution_count": 83,
   "metadata": {},
   "outputs": [
    {
     "data": {
      "text/plain": [
       "array(['aww', 'BigBrother', 'CasualConversation', 'FireEmblemHeroes'],\n",
       "      dtype=object)"
      ]
     },
     "execution_count": 83,
     "metadata": {},
     "output_type": "execute_result"
    }
   ],
   "source": [
    "balanced_reddit.subreddit.unique()"
   ]
  },
  {
   "cell_type": "code",
   "execution_count": 86,
   "metadata": {},
   "outputs": [
    {
     "name": "stdout",
     "output_type": "stream",
     "text": [
      "Female:\n",
      "[(-2.5549717908231457, 'tiff'), (-2.1699673030496176, 'accounting'), (-1.813619665985787, 'behaviour'), (-1.802988138114478, 'hahah'), (-1.7965707576393026, 'afternoon'), (-1.794535071380404, 'boys'), (-1.6480417011662425, 'lemon'), (-1.6110787123161356, 'plastic'), (-1.5562517715090045, 'stephen'), (-1.4982892097252096, 'vancouver'), (-1.4933823786199054, 'confident'), (-1.4899613633357782, 'showmances'), (-1.4876972280568086, 'cuteness'), (-1.4691017909671564, 'nat'), (-1.4582542694284963, 'jeez'), (-1.4332323844310002, 'removed'), (-1.4276670012780082, 'hubby'), (-1.4256149209243347, 'unicorn'), (-1.4203542107420337, 'pinterest'), (-1.4174269175337033, 'boyfriend')]\n",
      "Male:\n",
      "[(1.397995802472274, 'beard'), (1.4004780170623503, 'dates'), (1.4220930614170975, 'dinners'), (1.4801541210324538, 'ginamarie'), (1.4966896891825756, 'race'), (1.4969641530473543, 'intro'), (1.5171810547726792, 'beer'), (1.5587637858265555, 'pinball'), (1.5826514358597328, 'da'), (1.6190214021500755, 'surprising'), (1.6284501498265238, 'davonne'), (1.6563179846718743, 'denmark'), (1.7026410768576463, 'homecoming'), (1.710160068367374, 'danish'), (1.751813017593254, 'cam'), (1.7754601621575843, 'sweden'), (1.7837901491753314, 'detail'), (1.7967041299882278, 'souls'), (1.8269011913763757, 'pleasant'), (1.9197130160421882, 'riding')]\n"
     ]
    }
   ],
   "source": [
    "print('Female:')\n",
    "print(reddit_features[:20])\n",
    "print('Male:')\n",
    "print(reddit_features[-20:])"
   ]
  },
  {
   "cell_type": "markdown",
   "metadata": {},
   "source": [
    "# Polar questions"
   ]
  },
  {
   "cell_type": "code",
   "execution_count": 68,
   "metadata": {},
   "outputs": [],
   "source": [
    "def rule_2(sentence):\n",
    "    keywords = ['do', 'does', 'did', 'are', 'is', 'was', 'should']\n",
    "    startswith = any(sentence.lower().startswith(i) for i in keywords)\n",
    "    return startswith and sentence.endswith('?')"
   ]
  },
  {
   "cell_type": "code",
   "execution_count": 69,
   "metadata": {},
   "outputs": [],
   "source": [
    "sent_detector = nltk.data.load('tokenizers/punkt/english.pickle')"
   ]
  },
  {
   "cell_type": "code",
   "execution_count": 70,
   "metadata": {},
   "outputs": [],
   "source": [
    "any_satisfies_rule2 = lambda x: any(rule_2(i) for i in sent_detector.tokenize(x))\n",
    "balanced_reddit['qy'] = balanced_reddit.post_text.apply(any_satisfies_rule2)"
   ]
  },
  {
   "cell_type": "code",
   "execution_count": 75,
   "metadata": {},
   "outputs": [],
   "source": [
    "first_polar_question = lambda x: [ i for i in sent_detector.tokenize(x) if rule_2(i) ][0]\n",
    "polar_questions = balanced_reddit[balanced_reddit['qy']].copy()\n",
    "polar_questions['qy_text'] = polar_questions.post_text.apply(first_polar_question)"
   ]
  },
  {
   "cell_type": "code",
   "execution_count": 93,
   "metadata": {},
   "outputs": [
    {
     "data": {
      "text/html": [
       "<div>\n",
       "<style scoped>\n",
       "    .dataframe tbody tr th:only-of-type {\n",
       "        vertical-align: middle;\n",
       "    }\n",
       "\n",
       "    .dataframe tbody tr th {\n",
       "        vertical-align: top;\n",
       "    }\n",
       "\n",
       "    .dataframe thead th {\n",
       "        text-align: right;\n",
       "    }\n",
       "</style>\n",
       "<table border=\"1\" class=\"dataframe\">\n",
       "  <thead>\n",
       "    <tr style=\"text-align: right;\">\n",
       "      <th></th>\n",
       "      <th>op_id</th>\n",
       "      <th>op_gender</th>\n",
       "      <th>post_id</th>\n",
       "      <th>post_text</th>\n",
       "      <th>subreddit</th>\n",
       "      <th>op_gender_visible</th>\n",
       "      <th>score</th>\n",
       "      <th>qy</th>\n",
       "      <th>qy_text</th>\n",
       "    </tr>\n",
       "  </thead>\n",
       "  <tbody>\n",
       "    <tr>\n",
       "      <th>540883</th>\n",
       "      <td>kitanne</td>\n",
       "      <td>W</td>\n",
       "      <td>540883</td>\n",
       "      <td>I will except this baby quail as a viable (and fluffy) kitty alternative. Did it make cute peeping sounds?</td>\n",
       "      <td>aww</td>\n",
       "      <td>False</td>\n",
       "      <td>0.896457</td>\n",
       "      <td>True</td>\n",
       "      <td>Did it make cute peeping sounds?</td>\n",
       "    </tr>\n",
       "    <tr>\n",
       "      <th>544617</th>\n",
       "      <td>RileyTrodd</td>\n",
       "      <td>M</td>\n",
       "      <td>544617</td>\n",
       "      <td>Is it weird I dont find kittens cute until theyre a bit older?</td>\n",
       "      <td>aww</td>\n",
       "      <td>False</td>\n",
       "      <td>0.517757</td>\n",
       "      <td>True</td>\n",
       "      <td>Is it weird I dont find kittens cute until theyre a bit older?</td>\n",
       "    </tr>\n",
       "    <tr>\n",
       "      <th>545313</th>\n",
       "      <td>Cinnabar-Chan</td>\n",
       "      <td>W</td>\n",
       "      <td>545313</td>\n",
       "      <td>Is there a word in English for that feeling of seeing something so cute that the sight of you makes you want to jump up and down and melt into a puddle at the same time?</td>\n",
       "      <td>aww</td>\n",
       "      <td>False</td>\n",
       "      <td>0.459692</td>\n",
       "      <td>True</td>\n",
       "      <td>Is there a word in English for that feeling of seeing something so cute that the sight of you makes you want to jump up and down and melt into a puddle at the same time?</td>\n",
       "    </tr>\n",
       "  </tbody>\n",
       "</table>\n",
       "</div>"
      ],
      "text/plain": [
       "                op_id op_gender  post_id  \\\n",
       "540883  kitanne        W         540883    \n",
       "544617  RileyTrodd     M         544617    \n",
       "545313  Cinnabar-Chan  W         545313    \n",
       "\n",
       "                                                                                                                                                                        post_text  \\\n",
       "540883  I will except this baby quail as a viable (and fluffy) kitty alternative. Did it make cute peeping sounds?                                                                  \n",
       "544617  Is it weird I dont find kittens cute until theyre a bit older?                                                                                                              \n",
       "545313  Is there a word in English for that feeling of seeing something so cute that the sight of you makes you want to jump up and down and melt into a puddle at the same time?   \n",
       "\n",
       "       subreddit  op_gender_visible     score    qy  \\\n",
       "540883  aww       False              0.896457  True   \n",
       "544617  aww       False              0.517757  True   \n",
       "545313  aww       False              0.459692  True   \n",
       "\n",
       "                                                                                                                                                                          qy_text  \n",
       "540883  Did it make cute peeping sounds?                                                                                                                                           \n",
       "544617  Is it weird I dont find kittens cute until theyre a bit older?                                                                                                             \n",
       "545313  Is there a word in English for that feeling of seeing something so cute that the sight of you makes you want to jump up and down and melt into a puddle at the same time?  "
      ]
     },
     "execution_count": 93,
     "metadata": {},
     "output_type": "execute_result"
    }
   ],
   "source": [
    "polar_questions[polar_questions['qy_text'].str.contains('cute')]"
   ]
  }
 ],
 "metadata": {
  "kernelspec": {
   "display_name": "Python 3",
   "language": "python",
   "name": "python3"
  },
  "language_info": {
   "codemirror_mode": {
    "name": "ipython",
    "version": 3
   },
   "file_extension": ".py",
   "mimetype": "text/x-python",
   "name": "python",
   "nbconvert_exporter": "python",
   "pygments_lexer": "ipython3",
   "version": "3.7.7"
  }
 },
 "nbformat": 4,
 "nbformat_minor": 4
}
