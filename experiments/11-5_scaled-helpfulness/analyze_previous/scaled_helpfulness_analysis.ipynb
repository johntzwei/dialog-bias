{
 "cells": [
  {
   "cell_type": "code",
   "execution_count": 1,
   "metadata": {},
   "outputs": [],
   "source": [
    "import pandas as pd\n",
    "import numpy as np\n",
    "import seaborn as sns\n",
    "sns.set()\n",
    "from collections import Counter"
   ]
  },
  {
   "cell_type": "markdown",
   "metadata": {},
   "source": [
    "### Read data"
   ]
  },
  {
   "cell_type": "code",
   "execution_count": 2,
   "metadata": {},
   "outputs": [],
   "source": [
    "raw = pd.read_csv('./filtered_helpfulness.csv')"
   ]
  },
  {
   "cell_type": "markdown",
   "metadata": {},
   "source": [
    "### Flatten data"
   ]
  },
  {
   "cell_type": "code",
   "execution_count": 3,
   "metadata": {},
   "outputs": [],
   "source": [
    "data = []\n",
    "for i,row in raw.iterrows():\n",
    "    for j in range(1, 13):\n",
    "        query = row['Input.q%d' % j]\n",
    "        response = row['Input.r%d' % j]\n",
    "        gender = row['Input.g%d' % j]\n",
    "        \n",
    "        if row['Answer.answer%d' % j] is not np.nan:\n",
    "            answer = row['Answer.answer%d' % j]\n",
    "        else:\n",
    "            answer = row['Answer.answer%d.label' % j]\n",
    "        \n",
    "        data.append((row['HITId'], j, row['WorkerId'], gender, query, response, answer))"
   ]
  },
  {
   "cell_type": "code",
   "execution_count": 4,
   "metadata": {},
   "outputs": [],
   "source": [
    "melted = pd.DataFrame(data)\n",
    "melted.columns = ['HITId', 'q_idx', 'WorkerId', 'gender', 'query', 'response', 'answer']"
   ]
  },
  {
   "cell_type": "code",
   "execution_count": 5,
   "metadata": {},
   "outputs": [],
   "source": [
    "# include spammers:\n",
    "include = True\n",
    "if not include:\n",
    "    spammers = ['A3A0RP6IUR41PP']\n",
    "    melted = melted[~melted.WorkerId.isin(spammers)].copy()"
   ]
  },
  {
   "cell_type": "code",
   "execution_count": 6,
   "metadata": {},
   "outputs": [],
   "source": [
    "data = []\n",
    "for i, group in melted.groupby(['HITId', 'q_idx']):\n",
    "    row = []\n",
    "    row.append(group.iloc[0]['HITId'])\n",
    "    row.append(group.iloc[0]['gender'])\n",
    "    row.append(group.iloc[0]['query'])\n",
    "    row.append(group.iloc[0]['response'])\n",
    "    for j in range(0,5):\n",
    "        if j < len(group):\n",
    "            row.append(group.iloc[j]['WorkerId'])\n",
    "            row.append(group.iloc[j]['answer'])\n",
    "    data.append(row)"
   ]
  },
  {
   "cell_type": "code",
   "execution_count": 7,
   "metadata": {},
   "outputs": [],
   "source": [
    "flat = pd.DataFrame(data)\n",
    "flat.columns = ['HITId', 'gender', 'query', 'response'] + \\\n",
    "    sum([ ['WorkerId%d' % i, 'answer%d' % i] for i in range(0,5) ], [])"
   ]
  },
  {
   "cell_type": "code",
   "execution_count": 8,
   "metadata": {},
   "outputs": [
    {
     "data": {
      "text/html": [
       "<div>\n",
       "<style scoped>\n",
       "    .dataframe tbody tr th:only-of-type {\n",
       "        vertical-align: middle;\n",
       "    }\n",
       "\n",
       "    .dataframe tbody tr th {\n",
       "        vertical-align: top;\n",
       "    }\n",
       "\n",
       "    .dataframe thead th {\n",
       "        text-align: right;\n",
       "    }\n",
       "</style>\n",
       "<table border=\"1\" class=\"dataframe\">\n",
       "  <thead>\n",
       "    <tr style=\"text-align: right;\">\n",
       "      <th></th>\n",
       "      <th>HITId</th>\n",
       "      <th>gender</th>\n",
       "      <th>query</th>\n",
       "      <th>response</th>\n",
       "      <th>WorkerId0</th>\n",
       "      <th>answer0</th>\n",
       "      <th>WorkerId1</th>\n",
       "      <th>answer1</th>\n",
       "      <th>WorkerId2</th>\n",
       "      <th>answer2</th>\n",
       "      <th>WorkerId3</th>\n",
       "      <th>answer3</th>\n",
       "      <th>WorkerId4</th>\n",
       "      <th>answer4</th>\n",
       "    </tr>\n",
       "  </thead>\n",
       "  <tbody>\n",
       "    <tr>\n",
       "      <th>0</th>\n",
       "      <td>30OITAWPBQ4YB0SP96MMQOOHX7T9HP</td>\n",
       "      <td>W</td>\n",
       "      <td>Who the fuck demands their partner lose weight...</td>\n",
       "      <td>You have to ask?</td>\n",
       "      <td>A12JKMVUW5HNKO</td>\n",
       "      <td>Response provides some information to the ques...</td>\n",
       "      <td>AA5ZDXAA2DLY1</td>\n",
       "      <td>Response provides no information to the questi...</td>\n",
       "      <td>A1ET2J1PIP0RGO</td>\n",
       "      <td>Response provides no information to the questi...</td>\n",
       "      <td>A32W24TWSWXW</td>\n",
       "      <td>Response provides no information to the questi...</td>\n",
       "      <td>AFIK3VBMMX6G6</td>\n",
       "      <td>Response provides no information to the questi...</td>\n",
       "    </tr>\n",
       "  </tbody>\n",
       "</table>\n",
       "</div>"
      ],
      "text/plain": [
       "                            HITId gender  \\\n",
       "0  30OITAWPBQ4YB0SP96MMQOOHX7T9HP      W   \n",
       "\n",
       "                                               query          response  \\\n",
       "0  Who the fuck demands their partner lose weight...  You have to ask?   \n",
       "\n",
       "        WorkerId0                                            answer0  \\\n",
       "0  A12JKMVUW5HNKO  Response provides some information to the ques...   \n",
       "\n",
       "       WorkerId1                                            answer1  \\\n",
       "0  AA5ZDXAA2DLY1  Response provides no information to the questi...   \n",
       "\n",
       "        WorkerId2                                            answer2  \\\n",
       "0  A1ET2J1PIP0RGO  Response provides no information to the questi...   \n",
       "\n",
       "      WorkerId3                                            answer3  \\\n",
       "0  A32W24TWSWXW  Response provides no information to the questi...   \n",
       "\n",
       "       WorkerId4                                            answer4  \n",
       "0  AFIK3VBMMX6G6  Response provides no information to the questi...  "
      ]
     },
     "execution_count": 8,
     "metadata": {},
     "output_type": "execute_result"
    }
   ],
   "source": [
    "flat.head(1)"
   ]
  },
  {
   "cell_type": "markdown",
   "metadata": {},
   "source": [
    "### Collapse labels"
   ]
  },
  {
   "cell_type": "code",
   "execution_count": 9,
   "metadata": {},
   "outputs": [
    {
     "data": {
      "text/plain": [
       "array(['Response provides some information to the question',\n",
       "       'Response satisfactorily answers the question',\n",
       "       'Response provides no information to the question at all',\n",
       "       'Response does not make sense'], dtype=object)"
      ]
     },
     "execution_count": 9,
     "metadata": {},
     "output_type": "execute_result"
    }
   ],
   "source": [
    "flat.answer0.unique()"
   ]
  },
  {
   "cell_type": "code",
   "execution_count": 10,
   "metadata": {},
   "outputs": [],
   "source": [
    "def scale(x):\n",
    "    if 'Response satisfactorily' in x:\n",
    "        return 3\n",
    "    elif 'provides some' in x:\n",
    "        return 2\n",
    "    elif 'does not make sense' in x:\n",
    "        return 0\n",
    "    elif 'provides no' in x:\n",
    "        return 1"
   ]
  },
  {
   "cell_type": "code",
   "execution_count": 11,
   "metadata": {},
   "outputs": [],
   "source": [
    "melted['scale'] = melted.answer.apply(scale)"
   ]
  },
  {
   "cell_type": "markdown",
   "metadata": {},
   "source": [
    "### Means analysis"
   ]
  },
  {
   "cell_type": "code",
   "execution_count": 12,
   "metadata": {},
   "outputs": [
    {
     "data": {
      "text/html": [
       "<div>\n",
       "<style scoped>\n",
       "    .dataframe tbody tr th:only-of-type {\n",
       "        vertical-align: middle;\n",
       "    }\n",
       "\n",
       "    .dataframe tbody tr th {\n",
       "        vertical-align: top;\n",
       "    }\n",
       "\n",
       "    .dataframe thead th {\n",
       "        text-align: right;\n",
       "    }\n",
       "</style>\n",
       "<table border=\"1\" class=\"dataframe\">\n",
       "  <thead>\n",
       "    <tr style=\"text-align: right;\">\n",
       "      <th></th>\n",
       "      <th>HITId</th>\n",
       "      <th>q_idx</th>\n",
       "      <th>WorkerId</th>\n",
       "      <th>query</th>\n",
       "      <th>response</th>\n",
       "      <th>answer</th>\n",
       "      <th>scale</th>\n",
       "    </tr>\n",
       "    <tr>\n",
       "      <th>gender</th>\n",
       "      <th></th>\n",
       "      <th></th>\n",
       "      <th></th>\n",
       "      <th></th>\n",
       "      <th></th>\n",
       "      <th></th>\n",
       "      <th></th>\n",
       "    </tr>\n",
       "  </thead>\n",
       "  <tbody>\n",
       "    <tr>\n",
       "      <th>M</th>\n",
       "      <td>355</td>\n",
       "      <td>355</td>\n",
       "      <td>355</td>\n",
       "      <td>355</td>\n",
       "      <td>355</td>\n",
       "      <td>355</td>\n",
       "      <td>355</td>\n",
       "    </tr>\n",
       "    <tr>\n",
       "      <th>W</th>\n",
       "      <td>245</td>\n",
       "      <td>245</td>\n",
       "      <td>245</td>\n",
       "      <td>245</td>\n",
       "      <td>245</td>\n",
       "      <td>245</td>\n",
       "      <td>245</td>\n",
       "    </tr>\n",
       "  </tbody>\n",
       "</table>\n",
       "</div>"
      ],
      "text/plain": [
       "        HITId  q_idx  WorkerId  query  response  answer  scale\n",
       "gender                                                        \n",
       "M         355    355       355    355       355     355    355\n",
       "W         245    245       245    245       245     245    245"
      ]
     },
     "execution_count": 12,
     "metadata": {},
     "output_type": "execute_result"
    }
   ],
   "source": [
    "melted.groupby('gender').count()"
   ]
  },
  {
   "cell_type": "code",
   "execution_count": 13,
   "metadata": {},
   "outputs": [
    {
     "data": {
      "text/plain": [
       "1.0648373991835822"
      ]
     },
     "execution_count": 13,
     "metadata": {},
     "output_type": "execute_result"
    }
   ],
   "source": [
    "# variance\n",
    "melted['scale'].std()"
   ]
  },
  {
   "cell_type": "code",
   "execution_count": 14,
   "metadata": {},
   "outputs": [
    {
     "data": {
      "text/plain": [
       "0.06802996598738768"
      ]
     },
     "execution_count": 14,
     "metadata": {},
     "output_type": "execute_result"
    }
   ],
   "source": [
    "# standard error\n",
    "melted['scale'].std() / np.sqrt(np.sum(melted.gender == 'W'))"
   ]
  },
  {
   "cell_type": "code",
   "execution_count": 15,
   "metadata": {},
   "outputs": [
    {
     "data": {
      "text/html": [
       "<div>\n",
       "<style scoped>\n",
       "    .dataframe tbody tr th:only-of-type {\n",
       "        vertical-align: middle;\n",
       "    }\n",
       "\n",
       "    .dataframe tbody tr th {\n",
       "        vertical-align: top;\n",
       "    }\n",
       "\n",
       "    .dataframe thead th {\n",
       "        text-align: right;\n",
       "    }\n",
       "</style>\n",
       "<table border=\"1\" class=\"dataframe\">\n",
       "  <thead>\n",
       "    <tr style=\"text-align: right;\">\n",
       "      <th></th>\n",
       "      <th>q_idx</th>\n",
       "      <th>scale</th>\n",
       "    </tr>\n",
       "    <tr>\n",
       "      <th>gender</th>\n",
       "      <th></th>\n",
       "      <th></th>\n",
       "    </tr>\n",
       "  </thead>\n",
       "  <tbody>\n",
       "    <tr>\n",
       "      <th>M</th>\n",
       "      <td>6.563380</td>\n",
       "      <td>1.974648</td>\n",
       "    </tr>\n",
       "    <tr>\n",
       "      <th>W</th>\n",
       "      <td>6.408163</td>\n",
       "      <td>1.946939</td>\n",
       "    </tr>\n",
       "  </tbody>\n",
       "</table>\n",
       "</div>"
      ],
      "text/plain": [
       "           q_idx     scale\n",
       "gender                    \n",
       "M       6.563380  1.974648\n",
       "W       6.408163  1.946939"
      ]
     },
     "execution_count": 15,
     "metadata": {},
     "output_type": "execute_result"
    }
   ],
   "source": [
    "melted.groupby('gender').mean()"
   ]
  },
  {
   "cell_type": "code",
   "execution_count": 16,
   "metadata": {},
   "outputs": [
    {
     "data": {
      "text/plain": [
       "<AxesSubplot:xlabel='gender', ylabel='scale'>"
      ]
     },
     "execution_count": 16,
     "metadata": {},
     "output_type": "execute_result"
    },
    {
     "data": {
      "image/png": "[encoded data removed]",
      "text/plain": [
       "<Figure size 432x288 with 1 Axes>"
      ]
     },
     "metadata": {},
     "output_type": "display_data"
    }
   ],
   "source": [
    "sns.pointplot(x='gender', y='scale', data=melted, hue='gender', conf=68)"
   ]
  }
 ],
 "metadata": {
  "kernelspec": {
   "display_name": "Python 3",
   "language": "python",
   "name": "python3"
  },
  "language_info": {
   "codemirror_mode": {
    "name": "ipython",
    "version": 3
   },
   "file_extension": ".py",
   "mimetype": "text/x-python",
   "name": "python",
   "nbconvert_exporter": "python",
   "pygments_lexer": "ipython3",
   "version": "3.8.5"
  }
 },
 "nbformat": 4,
 "nbformat_minor": 4
}
