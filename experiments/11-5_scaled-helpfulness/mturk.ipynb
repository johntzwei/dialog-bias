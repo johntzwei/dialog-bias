{
 "cells": [
  {
   "cell_type": "code",
   "execution_count": 44,
   "metadata": {},
   "outputs": [],
   "source": [
    "import pandas as pd\n",
    "pd.set_option('max_colwidth', 300)\n",
    "import seaborn as sns\n",
    "import numpy as np\n",
    "import random\n",
    "import csv\n",
    "sns.set()"
   ]
  },
  {
   "cell_type": "code",
   "execution_count": 45,
   "metadata": {},
   "outputs": [],
   "source": [
    "fh = list(open('./pairs_top_k_10_temp_0.7.txt', 'rt'))\n",
    "random.Random(119).shuffle(fh)\n",
    "\n",
    "data = []\n",
    "for line in fh:\n",
    "    line = line.split('\\t')\n",
    "    \n",
    "    gender = line[0]\n",
    "    q = line[1].split('<|endoftext|>')[0].strip().strip('!')\n",
    "    response = line[1].split('<|endoftext|>')[1].strip()\n",
    "    \n",
    "    # checks \n",
    "    if len(response) < 2:\n",
    "        continue\n",
    "    if len(q) < 20:\n",
    "        continue\n",
    "    \n",
    "    data.append((gender, q, response))"
   ]
  },
  {
   "cell_type": "code",
   "execution_count": 46,
   "metadata": {},
   "outputs": [],
   "source": [
    "data = data[1020:1380]"
   ]
  },
  {
   "cell_type": "code",
   "execution_count": 47,
   "metadata": {},
   "outputs": [],
   "source": [
    "# split into twelves\n",
    "header = [ ['g%d' %i, 'q%d' %i, 'r%d' %i] for i in range(1,13)]\n",
    "header = sum(header, [])\n",
    "\n",
    "flat_data = []\n",
    "for i in range(0, len(data), 12):\n",
    "    chunk = data[i:i+12]\n",
    "    row = sum(chunk, (),)\n",
    "    flat_data.append(row)"
   ]
  },
  {
   "cell_type": "code",
   "execution_count": 48,
   "metadata": {},
   "outputs": [
    {
     "name": "stdout",
     "output_type": "stream",
     "text": [
      "Done.\n"
     ]
    }
   ],
   "source": [
    "# write to file\n",
    "with open('./mturk_input_round-3_1020-1380.csv', 'wt') as f:\n",
    "    fh = csv.writer(f)\n",
    "    fh.writerow(header)\n",
    "    for line in flat_data:\n",
    "        fh.writerow(line)\n",
    "print('Done.')"
   ]
  },
  {
   "cell_type": "code",
   "execution_count": null,
   "metadata": {},
   "outputs": [],
   "source": []
  }
 ],
 "metadata": {
  "kernelspec": {
   "display_name": "Python 3",
   "language": "python",
   "name": "python3"
  },
  "language_info": {
   "codemirror_mode": {
    "name": "ipython",
    "version": 3
   },
   "file_extension": ".py",
   "mimetype": "text/x-python",
   "name": "python",
   "nbconvert_exporter": "python",
   "pygments_lexer": "ipython3",
   "version": "3.8.5"
  }
 },
 "nbformat": 4,
 "nbformat_minor": 4
}
