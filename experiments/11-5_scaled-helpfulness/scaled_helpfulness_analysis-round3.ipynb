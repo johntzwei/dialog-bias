{
 "cells": [
  {
   "cell_type": "code",
   "execution_count": 1,
   "metadata": {},
   "outputs": [],
   "source": [
    "import pandas as pd\n",
    "import numpy as np\n",
    "import seaborn as sns\n",
    "sns.set()\n",
    "from collections import Counter"
   ]
  },
  {
   "cell_type": "markdown",
   "metadata": {},
   "source": [
    "### Read data"
   ]
  },
  {
   "cell_type": "code",
   "execution_count": 2,
   "metadata": {},
   "outputs": [],
   "source": [
    "raw = pd.read_csv('./5-scalar_mturk_results_round-3.csv')"
   ]
  },
  {
   "cell_type": "markdown",
   "metadata": {},
   "source": [
    "### Flatten data"
   ]
  },
  {
   "cell_type": "code",
   "execution_count": 3,
   "metadata": {},
   "outputs": [],
   "source": [
    "data = []\n",
    "for i,row in raw.iterrows():\n",
    "    for j in range(1, 13):\n",
    "        query = row['Input.q%d' % j]\n",
    "        response = row['Input.r%d' % j]\n",
    "        gender = row['Input.g%d' % j]\n",
    "        \n",
    "        if row['Answer.answer%d' % j] is not np.nan:\n",
    "            answer = row['Answer.answer%d' % j]\n",
    "        else:\n",
    "            answer = row['Answer.answer%d.label' % j]\n",
    "        \n",
    "        data.append((row['HITId'], j, row['WorkerId'], gender, query, response, answer))"
   ]
  },
  {
   "cell_type": "code",
   "execution_count": 4,
   "metadata": {},
   "outputs": [
    {
     "data": {
      "text/html": [
       "<div>\n",
       "<style scoped>\n",
       "    .dataframe tbody tr th:only-of-type {\n",
       "        vertical-align: middle;\n",
       "    }\n",
       "\n",
       "    .dataframe tbody tr th {\n",
       "        vertical-align: top;\n",
       "    }\n",
       "\n",
       "    .dataframe thead th {\n",
       "        text-align: right;\n",
       "    }\n",
       "</style>\n",
       "<table border=\"1\" class=\"dataframe\">\n",
       "  <thead>\n",
       "    <tr style=\"text-align: right;\">\n",
       "      <th></th>\n",
       "      <th>HITId</th>\n",
       "      <th>q_idx</th>\n",
       "      <th>WorkerId</th>\n",
       "      <th>gender</th>\n",
       "      <th>query</th>\n",
       "      <th>response</th>\n",
       "      <th>answer</th>\n",
       "    </tr>\n",
       "  </thead>\n",
       "  <tbody>\n",
       "    <tr>\n",
       "      <th>0</th>\n",
       "      <td>3511RHPADVF61W71U81691HIKLPRL4</td>\n",
       "      <td>1</td>\n",
       "      <td>A1I66SKK9RFQSA</td>\n",
       "      <td>W</td>\n",
       "      <td>What are your eating habits like?</td>\n",
       "      <td>I eat a lot of chicken.</td>\n",
       "      <td>Very helpful</td>\n",
       "    </tr>\n",
       "  </tbody>\n",
       "</table>\n",
       "</div>"
      ],
      "text/plain": [
       "                            HITId  q_idx        WorkerId gender  \\\n",
       "0  3511RHPADVF61W71U81691HIKLPRL4      1  A1I66SKK9RFQSA      W   \n",
       "\n",
       "                               query                 response        answer  \n",
       "0  What are your eating habits like?  I eat a lot of chicken.  Very helpful  "
      ]
     },
     "execution_count": 4,
     "metadata": {},
     "output_type": "execute_result"
    }
   ],
   "source": [
    "melted = pd.DataFrame(data)\n",
    "melted.columns = ['HITId', 'q_idx', 'WorkerId', 'gender', 'query', 'response', 'answer']\n",
    "melted.head(1)"
   ]
  },
  {
   "cell_type": "code",
   "execution_count": 5,
   "metadata": {},
   "outputs": [],
   "source": [
    "# include spammers:\n",
    "include = True\n",
    "if not include:\n",
    "    spammers = ['A3A0RP6IUR41PP']\n",
    "    melted = melted[melted.WorkerId.isin(spammers)].copy()"
   ]
  },
  {
   "cell_type": "code",
   "execution_count": 6,
   "metadata": {},
   "outputs": [],
   "source": [
    "data = []\n",
    "for i, group in melted.groupby(['HITId', 'q_idx']):\n",
    "    row = []\n",
    "    row.append(group.iloc[0]['HITId'])\n",
    "    row.append(group.iloc[0]['gender'])\n",
    "    row.append(group.iloc[0]['query'])\n",
    "    row.append(group.iloc[0]['response'])\n",
    "    for j in range(0,2):\n",
    "        if j < len(group):\n",
    "            row.append(group.iloc[j]['WorkerId'])\n",
    "            row.append(group.iloc[j]['answer'])\n",
    "    data.append(row)"
   ]
  },
  {
   "cell_type": "code",
   "execution_count": 7,
   "metadata": {},
   "outputs": [],
   "source": [
    "flat = pd.DataFrame(data)\n",
    "flat.columns = ['HITId', 'gender', 'query', 'response'] + \\\n",
    "    sum([ ['WorkerId%d' % i, 'answer%d' % i] for i in range(0,2) ], [])"
   ]
  },
  {
   "cell_type": "code",
   "execution_count": 8,
   "metadata": {},
   "outputs": [
    {
     "data": {
      "text/html": [
       "<div>\n",
       "<style scoped>\n",
       "    .dataframe tbody tr th:only-of-type {\n",
       "        vertical-align: middle;\n",
       "    }\n",
       "\n",
       "    .dataframe tbody tr th {\n",
       "        vertical-align: top;\n",
       "    }\n",
       "\n",
       "    .dataframe thead th {\n",
       "        text-align: right;\n",
       "    }\n",
       "</style>\n",
       "<table border=\"1\" class=\"dataframe\">\n",
       "  <thead>\n",
       "    <tr style=\"text-align: right;\">\n",
       "      <th></th>\n",
       "      <th>HITId</th>\n",
       "      <th>gender</th>\n",
       "      <th>query</th>\n",
       "      <th>response</th>\n",
       "      <th>WorkerId0</th>\n",
       "      <th>answer0</th>\n",
       "      <th>WorkerId1</th>\n",
       "      <th>answer1</th>\n",
       "    </tr>\n",
       "  </thead>\n",
       "  <tbody>\n",
       "    <tr>\n",
       "      <th>0</th>\n",
       "      <td>307L9TDWJYT46UPKVVGP4VIRJ29N3Y</td>\n",
       "      <td>W</td>\n",
       "      <td>What are you willing to risk?</td>\n",
       "      <td>I'm not sure. I think that I will be able to a...</td>\n",
       "      <td>A30NGIKN7761QK</td>\n",
       "      <td>Unhelpful</td>\n",
       "      <td>A3A0RP6IUR41PP</td>\n",
       "      <td>Helpful</td>\n",
       "    </tr>\n",
       "  </tbody>\n",
       "</table>\n",
       "</div>"
      ],
      "text/plain": [
       "                            HITId gender                          query  \\\n",
       "0  307L9TDWJYT46UPKVVGP4VIRJ29N3Y      W  What are you willing to risk?   \n",
       "\n",
       "                                            response       WorkerId0  \\\n",
       "0  I'm not sure. I think that I will be able to a...  A30NGIKN7761QK   \n",
       "\n",
       "     answer0       WorkerId1  answer1  \n",
       "0  Unhelpful  A3A0RP6IUR41PP  Helpful  "
      ]
     },
     "execution_count": 8,
     "metadata": {},
     "output_type": "execute_result"
    }
   ],
   "source": [
    "flat.head(1)"
   ]
  },
  {
   "cell_type": "markdown",
   "metadata": {},
   "source": [
    "### Collapse labels"
   ]
  },
  {
   "cell_type": "code",
   "execution_count": 9,
   "metadata": {},
   "outputs": [
    {
     "data": {
      "text/plain": [
       "array(['Unhelpful', 'Very helpful', 'Helpful', 'Neutral',\n",
       "       'Very Unhelpful'], dtype=object)"
      ]
     },
     "execution_count": 9,
     "metadata": {},
     "output_type": "execute_result"
    }
   ],
   "source": [
    "flat.answer0.unique()"
   ]
  },
  {
   "cell_type": "code",
   "execution_count": 10,
   "metadata": {},
   "outputs": [],
   "source": [
    "def mapping(x):\n",
    "    if type(x) == str:\n",
    "        x = x.lower()\n",
    "        l = ['very helpful', 'helpful', 'neutral', 'unhelpful', 'very unhelpful']\n",
    "        return 4 - l.index(x)\n",
    "    else:\n",
    "        print('error')\n",
    "        return 2"
   ]
  },
  {
   "cell_type": "code",
   "execution_count": 11,
   "metadata": {},
   "outputs": [],
   "source": [
    "melted['scale'] = melted.answer.apply(lambda x: mapping(x))"
   ]
  },
  {
   "cell_type": "markdown",
   "metadata": {},
   "source": [
    "### Analysis"
   ]
  },
  {
   "cell_type": "code",
   "execution_count": 12,
   "metadata": {},
   "outputs": [
    {
     "name": "stdout",
     "output_type": "stream",
     "text": [
      "gender\n",
      "M    2.876374\n",
      "W    3.030899\n",
      "Name: scale, dtype: float64\n",
      "0.15452525003086803\n"
     ]
    }
   ],
   "source": [
    "groups = melted.groupby('gender').scale.mean()\n",
    "print(groups)\n",
    "difference = groups['W'] - groups['M']\n",
    "print(difference)"
   ]
  },
  {
   "cell_type": "code",
   "execution_count": 13,
   "metadata": {},
   "outputs": [
    {
     "data": {
      "text/plain": [
       "1.0913711657728782"
      ]
     },
     "execution_count": 13,
     "metadata": {},
     "output_type": "execute_result"
    }
   ],
   "source": [
    "melted.std()['scale']"
   ]
  },
  {
   "cell_type": "markdown",
   "metadata": {},
   "source": [
    "##### Plot"
   ]
  },
  {
   "cell_type": "code",
   "execution_count": 14,
   "metadata": {},
   "outputs": [
    {
     "data": {
      "text/plain": [
       "<AxesSubplot:xlabel='gender', ylabel='scale'>"
      ]
     },
     "execution_count": 14,
     "metadata": {},
     "output_type": "execute_result"
    },
    {
     "data": {
      "image/png": "[encoded data removed]",
      "text/plain": [
       "<Figure size 432x288 with 1 Axes>"
      ]
     },
     "metadata": {},
     "output_type": "display_data"
    }
   ],
   "source": [
    "sns.pointplot(x='gender', y='scale', data=melted, hue='gender')"
   ]
  },
  {
   "cell_type": "markdown",
   "metadata": {},
   "source": [
    "##### t-test"
   ]
  },
  {
   "cell_type": "code",
   "execution_count": 15,
   "metadata": {},
   "outputs": [
    {
     "data": {
      "text/plain": [
       "Ttest_indResult(statistic=-1.9029466838319553, pvalue=0.0574472289257883)"
      ]
     },
     "execution_count": 15,
     "metadata": {},
     "output_type": "execute_result"
    }
   ],
   "source": [
    "from scipy.stats import ttest_ind\n",
    "groups = list(melted.groupby('gender'))\n",
    "m_group, w_group = groups[0], groups[1]\n",
    "ttest_ind(m_group[1]['scale'], w_group[1]['scale'])"
   ]
  },
  {
   "cell_type": "markdown",
   "metadata": {},
   "source": [
    "##### Number of workers"
   ]
  },
  {
   "cell_type": "code",
   "execution_count": 16,
   "metadata": {},
   "outputs": [
    {
     "name": "stderr",
     "output_type": "stream",
     "text": [
      "/nas/home/jwei/anaconda3/envs/notebook/lib/python3.8/site-packages/seaborn/_decorators.py:36: FutureWarning: Pass the following variable as a keyword arg: x. From version 0.12, the only valid positional argument will be `data`, and passing other arguments without an explicit keyword will result in an error or misinterpretation.\n",
      "  warnings.warn(\n"
     ]
    },
    {
     "name": "stdout",
     "output_type": "stream",
     "text": [
      "8\n"
     ]
    },
    {
     "data": {
      "image/png": "[encoded data removed]",
      "text/plain": [
       "<Figure size 432x288 with 1 Axes>"
      ]
     },
     "metadata": {},
     "output_type": "display_data"
    }
   ],
   "source": [
    "sns.countplot(melted['WorkerId'], orient='v')\n",
    "print(len(melted['WorkerId'].value_counts()))"
   ]
  },
  {
   "cell_type": "code",
   "execution_count": 17,
   "metadata": {},
   "outputs": [
    {
     "data": {
      "text/plain": [
       "A3A0RP6IUR41PP    276\n",
       "A1I66SKK9RFQSA    204\n",
       "A12TSLY8GXWHB4    180\n",
       "A208AKSAQ31CUJ     12\n",
       "A30NGIKN7761QK     12\n",
       "A3ENQKD0V9VHBF     12\n",
       "A2XK59FYAFO9EX     12\n",
       "A1SC3CR9BN0HZW     12\n",
       "Name: WorkerId, dtype: int64"
      ]
     },
     "execution_count": 17,
     "metadata": {},
     "output_type": "execute_result"
    }
   ],
   "source": [
    "melted['WorkerId'].value_counts()"
   ]
  },
  {
   "cell_type": "markdown",
   "metadata": {},
   "source": [
    "##### pooled variance"
   ]
  },
  {
   "cell_type": "code",
   "execution_count": 18,
   "metadata": {},
   "outputs": [
    {
     "data": {
      "text/html": [
       "<div>\n",
       "<style scoped>\n",
       "    .dataframe tbody tr th:only-of-type {\n",
       "        vertical-align: middle;\n",
       "    }\n",
       "\n",
       "    .dataframe tbody tr th {\n",
       "        vertical-align: top;\n",
       "    }\n",
       "\n",
       "    .dataframe thead th {\n",
       "        text-align: right;\n",
       "    }\n",
       "</style>\n",
       "<table border=\"1\" class=\"dataframe\">\n",
       "  <thead>\n",
       "    <tr style=\"text-align: right;\">\n",
       "      <th></th>\n",
       "      <th>HITId</th>\n",
       "      <th>gender</th>\n",
       "      <th>query</th>\n",
       "      <th>response</th>\n",
       "      <th>WorkerId0</th>\n",
       "      <th>answer0</th>\n",
       "      <th>WorkerId1</th>\n",
       "      <th>answer1</th>\n",
       "      <th>scale0</th>\n",
       "      <th>scale1</th>\n",
       "    </tr>\n",
       "  </thead>\n",
       "  <tbody>\n",
       "    <tr>\n",
       "      <th>0</th>\n",
       "      <td>307L9TDWJYT46UPKVVGP4VIRJ29N3Y</td>\n",
       "      <td>W</td>\n",
       "      <td>What are you willing to risk?</td>\n",
       "      <td>I'm not sure. I think that I will be able to a...</td>\n",
       "      <td>A30NGIKN7761QK</td>\n",
       "      <td>Unhelpful</td>\n",
       "      <td>A3A0RP6IUR41PP</td>\n",
       "      <td>Helpful</td>\n",
       "      <td>1</td>\n",
       "      <td>3.369176</td>\n",
       "    </tr>\n",
       "  </tbody>\n",
       "</table>\n",
       "</div>"
      ],
      "text/plain": [
       "                            HITId gender                          query  \\\n",
       "0  307L9TDWJYT46UPKVVGP4VIRJ29N3Y      W  What are you willing to risk?   \n",
       "\n",
       "                                            response       WorkerId0  \\\n",
       "0  I'm not sure. I think that I will be able to a...  A30NGIKN7761QK   \n",
       "\n",
       "     answer0       WorkerId1  answer1  scale0    scale1  \n",
       "0  Unhelpful  A3A0RP6IUR41PP  Helpful       1  3.369176  "
      ]
     },
     "execution_count": 18,
     "metadata": {},
     "output_type": "execute_result"
    }
   ],
   "source": [
    "import random\n",
    "flat['scale0'] = flat.answer0.apply(lambda x: mapping(x))\n",
    "flat['scale1'] = flat.answer1.apply(lambda x: mapping(x) + random.uniform(0,0.4))\n",
    "flat.head(1)"
   ]
  },
  {
   "cell_type": "code",
   "execution_count": 19,
   "metadata": {},
   "outputs": [
    {
     "data": {
      "text/plain": [
       "<AxesSubplot:xlabel='scale0', ylabel='scale1'>"
      ]
     },
     "execution_count": 19,
     "metadata": {},
     "output_type": "execute_result"
    },
    {
     "data": {
      "image/png": "[encoded data removed]",
      "text/plain": [
       "<Figure size 432x288 with 1 Axes>"
      ]
     },
     "metadata": {},
     "output_type": "display_data"
    }
   ],
   "source": [
    "sns.stripplot(data=flat, x='scale0', y='scale1')"
   ]
  },
  {
   "cell_type": "code",
   "execution_count": 122,
   "metadata": {},
   "outputs": [
    {
     "name": "stderr",
     "output_type": "stream",
     "text": [
      "/nas/home/jwei/anaconda3/envs/notebook/lib/python3.8/site-packages/pandas/core/series.py:726: RuntimeWarning: invalid value encountered in sqrt\n",
      "  result = getattr(ufunc, method)(*inputs, **kwargs)\n"
     ]
    },
    {
     "data": {
      "text/plain": [
       "1.025940147693396"
      ]
     },
     "execution_count": 122,
     "metadata": {},
     "output_type": "execute_result"
    }
   ],
   "source": [
    "pooled_var = np.mean(np.sqrt(flat['scale0'] - flat['scale1']))\n",
    "np.sqrt(pooled_var)"
   ]
  }
 ],
 "metadata": {
  "kernelspec": {
   "display_name": "Python 3",
   "language": "python",
   "name": "python3"
  },
  "language_info": {
   "codemirror_mode": {
    "name": "ipython",
    "version": 3
   },
   "file_extension": ".py",
   "mimetype": "text/x-python",
   "name": "python",
   "nbconvert_exporter": "python",
   "pygments_lexer": "ipython3",
   "version": "3.8.5"
  }
 },
 "nbformat": 4,
 "nbformat_minor": 4
}
