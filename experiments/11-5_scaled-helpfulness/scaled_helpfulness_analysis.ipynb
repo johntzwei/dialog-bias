{
 "cells": [
  {
   "cell_type": "code",
   "execution_count": 152,
   "metadata": {},
   "outputs": [],
   "source": [
    "import pandas as pd\n",
    "import numpy as np\n",
    "import seaborn as sns\n",
    "sns.set()\n",
    "from collections import Counter"
   ]
  },
  {
   "cell_type": "markdown",
   "metadata": {},
   "source": [
    "### Read data"
   ]
  },
  {
   "cell_type": "code",
   "execution_count": 153,
   "metadata": {},
   "outputs": [],
   "source": [
    "raw = pd.read_csv('./5-scalar-helpfulness-mturk-results.csv')"
   ]
  },
  {
   "cell_type": "markdown",
   "metadata": {},
   "source": [
    "### Flatten data"
   ]
  },
  {
   "cell_type": "code",
   "execution_count": 154,
   "metadata": {},
   "outputs": [],
   "source": [
    "data = []\n",
    "for i,row in raw.iterrows():\n",
    "    for j in range(1, 13):\n",
    "        query = row['Input.q%d' % j]\n",
    "        response = row['Input.r%d' % j]\n",
    "        gender = row['Input.g%d' % j]\n",
    "        \n",
    "        if row['Answer.answer%d' % j] is not np.nan:\n",
    "            answer = row['Answer.answer%d' % j]\n",
    "        else:\n",
    "            answer = row['Answer.answer%d.label' % j]\n",
    "        \n",
    "        data.append((row['HITId'], j, row['WorkerId'], gender, query, response, answer))"
   ]
  },
  {
   "cell_type": "code",
   "execution_count": 155,
   "metadata": {},
   "outputs": [
    {
     "data": {
      "text/html": [
       "<div>\n",
       "<style scoped>\n",
       "    .dataframe tbody tr th:only-of-type {\n",
       "        vertical-align: middle;\n",
       "    }\n",
       "\n",
       "    .dataframe tbody tr th {\n",
       "        vertical-align: top;\n",
       "    }\n",
       "\n",
       "    .dataframe thead th {\n",
       "        text-align: right;\n",
       "    }\n",
       "</style>\n",
       "<table border=\"1\" class=\"dataframe\">\n",
       "  <thead>\n",
       "    <tr style=\"text-align: right;\">\n",
       "      <th></th>\n",
       "      <th>HITId</th>\n",
       "      <th>q_idx</th>\n",
       "      <th>WorkerId</th>\n",
       "      <th>gender</th>\n",
       "      <th>query</th>\n",
       "      <th>response</th>\n",
       "      <th>answer</th>\n",
       "    </tr>\n",
       "  </thead>\n",
       "  <tbody>\n",
       "    <tr>\n",
       "      <th>0</th>\n",
       "      <td>3NZ1E5QA6Z25J0NR6OZ9SXGHG515BO</td>\n",
       "      <td>1</td>\n",
       "      <td>ARPBDM5QZ4XQC</td>\n",
       "      <td>W</td>\n",
       "      <td>How did you get to swim with them!?</td>\n",
       "      <td>I've never been to a swimming pool.</td>\n",
       "      <td>Unhelpful</td>\n",
       "    </tr>\n",
       "  </tbody>\n",
       "</table>\n",
       "</div>"
      ],
      "text/plain": [
       "                            HITId  q_idx       WorkerId gender  \\\n",
       "0  3NZ1E5QA6Z25J0NR6OZ9SXGHG515BO      1  ARPBDM5QZ4XQC      W   \n",
       "\n",
       "                                 query                             response  \\\n",
       "0  How did you get to swim with them!?  I've never been to a swimming pool.   \n",
       "\n",
       "      answer  \n",
       "0  Unhelpful  "
      ]
     },
     "execution_count": 155,
     "metadata": {},
     "output_type": "execute_result"
    }
   ],
   "source": [
    "melted = pd.DataFrame(data)\n",
    "melted.columns = ['HITId', 'q_idx', 'WorkerId', 'gender', 'query', 'response', 'answer']\n",
    "melted.head(1)"
   ]
  },
  {
   "cell_type": "code",
   "execution_count": 156,
   "metadata": {},
   "outputs": [],
   "source": [
    "# include spammers:\n",
    "include = True\n",
    "if not include:\n",
    "    spammers = ['A304UJAE051J89']\n",
    "    melted = melted[~melted.WorkerId.isin(spammers)].copy()"
   ]
  },
  {
   "cell_type": "code",
   "execution_count": 157,
   "metadata": {},
   "outputs": [],
   "source": [
    "data = []\n",
    "for i, group in melted.groupby(['HITId', 'q_idx']):\n",
    "    row = []\n",
    "    row.append(group.iloc[0]['HITId'])\n",
    "    row.append(group.iloc[0]['gender'])\n",
    "    row.append(group.iloc[0]['query'])\n",
    "    row.append(group.iloc[0]['response'])\n",
    "    for j in range(0,2):\n",
    "        if j < len(group):\n",
    "            row.append(group.iloc[j]['WorkerId'])\n",
    "            row.append(group.iloc[j]['answer'])\n",
    "    data.append(row)"
   ]
  },
  {
   "cell_type": "code",
   "execution_count": 158,
   "metadata": {},
   "outputs": [],
   "source": [
    "flat = pd.DataFrame(data)\n",
    "flat.columns = ['HITId', 'gender', 'query', 'response'] + \\\n",
    "    sum([ ['WorkerId%d' % i, 'answer%d' % i] for i in range(0,2) ], [])"
   ]
  },
  {
   "cell_type": "code",
   "execution_count": 159,
   "metadata": {},
   "outputs": [
    {
     "data": {
      "text/html": [
       "<div>\n",
       "<style scoped>\n",
       "    .dataframe tbody tr th:only-of-type {\n",
       "        vertical-align: middle;\n",
       "    }\n",
       "\n",
       "    .dataframe tbody tr th {\n",
       "        vertical-align: top;\n",
       "    }\n",
       "\n",
       "    .dataframe thead th {\n",
       "        text-align: right;\n",
       "    }\n",
       "</style>\n",
       "<table border=\"1\" class=\"dataframe\">\n",
       "  <thead>\n",
       "    <tr style=\"text-align: right;\">\n",
       "      <th></th>\n",
       "      <th>HITId</th>\n",
       "      <th>gender</th>\n",
       "      <th>query</th>\n",
       "      <th>response</th>\n",
       "      <th>WorkerId0</th>\n",
       "      <th>answer0</th>\n",
       "      <th>WorkerId1</th>\n",
       "      <th>answer1</th>\n",
       "    </tr>\n",
       "  </thead>\n",
       "  <tbody>\n",
       "    <tr>\n",
       "      <th>0</th>\n",
       "      <td>33P2GD6NRNTISWBGD3DBGX2X881HK1</td>\n",
       "      <td>W</td>\n",
       "      <td>how do you put a dollar amount on sleep depriv...</td>\n",
       "      <td>Buy a pillow, make sure it doesn't fall asleep...</td>\n",
       "      <td>A304UJAE051J89</td>\n",
       "      <td>Unhelpful</td>\n",
       "      <td>A2488KXHWJTJR7</td>\n",
       "      <td>Helpful</td>\n",
       "    </tr>\n",
       "  </tbody>\n",
       "</table>\n",
       "</div>"
      ],
      "text/plain": [
       "                            HITId gender  \\\n",
       "0  33P2GD6NRNTISWBGD3DBGX2X881HK1      W   \n",
       "\n",
       "                                               query  \\\n",
       "0  how do you put a dollar amount on sleep depriv...   \n",
       "\n",
       "                                            response       WorkerId0  \\\n",
       "0  Buy a pillow, make sure it doesn't fall asleep...  A304UJAE051J89   \n",
       "\n",
       "     answer0       WorkerId1  answer1  \n",
       "0  Unhelpful  A2488KXHWJTJR7  Helpful  "
      ]
     },
     "execution_count": 159,
     "metadata": {},
     "output_type": "execute_result"
    }
   ],
   "source": [
    "flat.head(1)"
   ]
  },
  {
   "cell_type": "markdown",
   "metadata": {},
   "source": [
    "### Collapse labels"
   ]
  },
  {
   "cell_type": "code",
   "execution_count": 160,
   "metadata": {},
   "outputs": [
    {
     "data": {
      "text/plain": [
       "array(['Unhelpful', 'Very helpful', 'Helpful', 'Very Unhelpful',\n",
       "       'Neutral', nan], dtype=object)"
      ]
     },
     "execution_count": 160,
     "metadata": {},
     "output_type": "execute_result"
    }
   ],
   "source": [
    "flat.answer0.unique()"
   ]
  },
  {
   "cell_type": "code",
   "execution_count": 161,
   "metadata": {},
   "outputs": [],
   "source": [
    "def mapping(x):\n",
    "    if type(x) == str:\n",
    "        x = x.lower()\n",
    "        l = ['very helpful', 'helpful', 'neutral', 'unhelpful', 'very unhelpful']\n",
    "        return 4 - l.index(x)\n",
    "    else:\n",
    "        print('error')\n",
    "        return 2"
   ]
  },
  {
   "cell_type": "code",
   "execution_count": 162,
   "metadata": {},
   "outputs": [
    {
     "name": "stdout",
     "output_type": "stream",
     "text": [
      "error\n"
     ]
    }
   ],
   "source": [
    "melted['scale'] = melted.answer.apply(lambda x: mapping(x))"
   ]
  },
  {
   "cell_type": "markdown",
   "metadata": {},
   "source": [
    "### Analysis"
   ]
  },
  {
   "cell_type": "code",
   "execution_count": 163,
   "metadata": {},
   "outputs": [
    {
     "name": "stdout",
     "output_type": "stream",
     "text": [
      "gender\n",
      "M    2.137725\n",
      "W    2.313472\n",
      "Name: scale, dtype: float64\n",
      "0.1757469516924699\n"
     ]
    }
   ],
   "source": [
    "groups = melted.groupby('gender').scale.mean()\n",
    "print(groups)\n",
    "difference = groups['W'] - groups['M']\n",
    "print(difference)"
   ]
  },
  {
   "cell_type": "code",
   "execution_count": 164,
   "metadata": {},
   "outputs": [
    {
     "data": {
      "text/plain": [
       "1.2692277928856384"
      ]
     },
     "execution_count": 164,
     "metadata": {},
     "output_type": "execute_result"
    }
   ],
   "source": [
    "melted.std()['scale']"
   ]
  },
  {
   "cell_type": "markdown",
   "metadata": {},
   "source": [
    "##### Plot"
   ]
  },
  {
   "cell_type": "code",
   "execution_count": 165,
   "metadata": {},
   "outputs": [
    {
     "data": {
      "text/plain": [
       "<AxesSubplot:xlabel='gender', ylabel='scale'>"
      ]
     },
     "execution_count": 165,
     "metadata": {},
     "output_type": "execute_result"
    },
    {
     "data": {
      "image/png": "[encoded data removed]",
      "text/plain": [
       "<Figure size 432x288 with 1 Axes>"
      ]
     },
     "metadata": {},
     "output_type": "display_data"
    }
   ],
   "source": [
    "sns.pointplot(x='gender', y='scale', data=melted, hue='gender')"
   ]
  },
  {
   "cell_type": "markdown",
   "metadata": {},
   "source": [
    "##### t-test"
   ]
  },
  {
   "cell_type": "code",
   "execution_count": 166,
   "metadata": {},
   "outputs": [
    {
     "data": {
      "text/plain": [
       "Ttest_indResult(statistic=-1.8560342776183485, pvalue=0.06385818408263078)"
      ]
     },
     "execution_count": 166,
     "metadata": {},
     "output_type": "execute_result"
    }
   ],
   "source": [
    "from scipy.stats import ttest_ind\n",
    "groups = list(melted.groupby('gender'))\n",
    "m_group, w_group = groups[0], groups[1]\n",
    "ttest_ind(m_group[1]['scale'], w_group[1]['scale'])"
   ]
  },
  {
   "cell_type": "markdown",
   "metadata": {},
   "source": [
    "##### Number of workers"
   ]
  },
  {
   "cell_type": "code",
   "execution_count": 167,
   "metadata": {},
   "outputs": [
    {
     "name": "stderr",
     "output_type": "stream",
     "text": [
      "/nas/home/jwei/anaconda3/envs/notebook/lib/python3.8/site-packages/seaborn/_decorators.py:36: FutureWarning: Pass the following variable as a keyword arg: x. From version 0.12, the only valid positional argument will be `data`, and passing other arguments without an explicit keyword will result in an error or misinterpretation.\n",
      "  warnings.warn(\n"
     ]
    },
    {
     "name": "stdout",
     "output_type": "stream",
     "text": [
      "30\n"
     ]
    },
    {
     "data": {
      "image/png": "[encoded data removed]",
      "text/plain": [
       "<Figure size 432x288 with 1 Axes>"
      ]
     },
     "metadata": {},
     "output_type": "display_data"
    }
   ],
   "source": [
    "sns.countplot(melted['WorkerId'], orient='v')\n",
    "print(len(melted['WorkerId'].value_counts()))"
   ]
  },
  {
   "cell_type": "markdown",
   "metadata": {},
   "source": [
    "##### pooled variance"
   ]
  },
  {
   "cell_type": "code",
   "execution_count": 182,
   "metadata": {},
   "outputs": [
    {
     "name": "stdout",
     "output_type": "stream",
     "text": [
      "error\n"
     ]
    },
    {
     "data": {
      "text/html": [
       "<div>\n",
       "<style scoped>\n",
       "    .dataframe tbody tr th:only-of-type {\n",
       "        vertical-align: middle;\n",
       "    }\n",
       "\n",
       "    .dataframe tbody tr th {\n",
       "        vertical-align: top;\n",
       "    }\n",
       "\n",
       "    .dataframe thead th {\n",
       "        text-align: right;\n",
       "    }\n",
       "</style>\n",
       "<table border=\"1\" class=\"dataframe\">\n",
       "  <thead>\n",
       "    <tr style=\"text-align: right;\">\n",
       "      <th></th>\n",
       "      <th>HITId</th>\n",
       "      <th>gender</th>\n",
       "      <th>query</th>\n",
       "      <th>response</th>\n",
       "      <th>WorkerId0</th>\n",
       "      <th>answer0</th>\n",
       "      <th>WorkerId1</th>\n",
       "      <th>answer1</th>\n",
       "      <th>scale0</th>\n",
       "      <th>scale1</th>\n",
       "    </tr>\n",
       "  </thead>\n",
       "  <tbody>\n",
       "    <tr>\n",
       "      <th>0</th>\n",
       "      <td>33P2GD6NRNTISWBGD3DBGX2X881HK1</td>\n",
       "      <td>W</td>\n",
       "      <td>how do you put a dollar amount on sleep depriv...</td>\n",
       "      <td>Buy a pillow, make sure it doesn't fall asleep...</td>\n",
       "      <td>A304UJAE051J89</td>\n",
       "      <td>Unhelpful</td>\n",
       "      <td>A2488KXHWJTJR7</td>\n",
       "      <td>Helpful</td>\n",
       "      <td>1</td>\n",
       "      <td>3.082048</td>\n",
       "    </tr>\n",
       "  </tbody>\n",
       "</table>\n",
       "</div>"
      ],
      "text/plain": [
       "                            HITId gender  \\\n",
       "0  33P2GD6NRNTISWBGD3DBGX2X881HK1      W   \n",
       "\n",
       "                                               query  \\\n",
       "0  how do you put a dollar amount on sleep depriv...   \n",
       "\n",
       "                                            response       WorkerId0  \\\n",
       "0  Buy a pillow, make sure it doesn't fall asleep...  A304UJAE051J89   \n",
       "\n",
       "     answer0       WorkerId1  answer1  scale0    scale1  \n",
       "0  Unhelpful  A2488KXHWJTJR7  Helpful       1  3.082048  "
      ]
     },
     "execution_count": 182,
     "metadata": {},
     "output_type": "execute_result"
    }
   ],
   "source": [
    "import random\n",
    "flat['scale0'] = flat.answer0.apply(lambda x: mapping(x))\n",
    "flat['scale1'] = flat.answer1.apply(lambda x: mapping(x) + random.uniform(0,0.4))\n",
    "flat.head(1)"
   ]
  },
  {
   "cell_type": "code",
   "execution_count": 183,
   "metadata": {},
   "outputs": [
    {
     "data": {
      "text/plain": [
       "<AxesSubplot:xlabel='scale0', ylabel='scale1'>"
      ]
     },
     "execution_count": 183,
     "metadata": {},
     "output_type": "execute_result"
    },
    {
     "data": {
      "image/png": "[encoded data removed]",
      "text/plain": [
       "<Figure size 432x288 with 1 Axes>"
      ]
     },
     "metadata": {},
     "output_type": "display_data"
    }
   ],
   "source": [
    "sns.stripplot(data=flat, x='scale0', y='scale1')"
   ]
  },
  {
   "cell_type": "code",
   "execution_count": 187,
   "metadata": {},
   "outputs": [
    {
     "data": {
      "text/plain": [
       "1.094757871512066"
      ]
     },
     "execution_count": 187,
     "metadata": {},
     "output_type": "execute_result"
    }
   ],
   "source": [
    "pooled_var = np.mean(np.sqrt(flat['scale0'] - flat['scale1']))\n",
    "np.sqrt(pooled_var)"
   ]
  }
 ],
 "metadata": {
  "kernelspec": {
   "display_name": "Python 3",
   "language": "python",
   "name": "python3"
  },
  "language_info": {
   "codemirror_mode": {
    "name": "ipython",
    "version": 3
   },
   "file_extension": ".py",
   "mimetype": "text/x-python",
   "name": "python",
   "nbconvert_exporter": "python",
   "pygments_lexer": "ipython3",
   "version": "3.8.5"
  }
 },
 "nbformat": 4,
 "nbformat_minor": 4
}
