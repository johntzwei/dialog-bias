{
 "cells": [
  {
   "cell_type": "code",
   "execution_count": 54,
   "metadata": {},
   "outputs": [],
   "source": [
    "import pandas as pd\n",
    "import numpy as np\n",
    "import seaborn as sns\n",
    "sns.set()\n",
    "from collections import Counter"
   ]
  },
  {
   "cell_type": "markdown",
   "metadata": {},
   "source": [
    "### Read data"
   ]
  },
  {
   "cell_type": "code",
   "execution_count": 55,
   "metadata": {},
   "outputs": [],
   "source": [
    "raw1 = pd.read_csv('./5-scalar_mturk_results_round-1.csv')\n",
    "raw2 = pd.read_csv('./5-scalar_mturk_results_round-2.csv')\n",
    "raw3 = pd.read_csv('./5-scalar_mturk_results_round-3.csv')\n",
    "raw = pd.concat([raw1, raw2, raw3])"
   ]
  },
  {
   "cell_type": "markdown",
   "metadata": {},
   "source": [
    "### Flatten data"
   ]
  },
  {
   "cell_type": "code",
   "execution_count": 56,
   "metadata": {},
   "outputs": [],
   "source": [
    "data = []\n",
    "for i,row in raw.iterrows():\n",
    "    for j in range(1, 13):\n",
    "        query = row['Input.q%d' % j]\n",
    "        response = row['Input.r%d' % j]\n",
    "        gender = row['Input.g%d' % j]\n",
    "        \n",
    "        if row['Answer.answer%d' % j] is not np.nan:\n",
    "            answer = row['Answer.answer%d' % j]\n",
    "        else:\n",
    "            answer = row['Answer.answer%d.label' % j]\n",
    "        \n",
    "        data.append((row['HITId'], j, row['WorkerId'], gender, query, response, answer))"
   ]
  },
  {
   "cell_type": "code",
   "execution_count": 57,
   "metadata": {},
   "outputs": [
    {
     "data": {
      "text/html": [
       "<div>\n",
       "<style scoped>\n",
       "    .dataframe tbody tr th:only-of-type {\n",
       "        vertical-align: middle;\n",
       "    }\n",
       "\n",
       "    .dataframe tbody tr th {\n",
       "        vertical-align: top;\n",
       "    }\n",
       "\n",
       "    .dataframe thead th {\n",
       "        text-align: right;\n",
       "    }\n",
       "</style>\n",
       "<table border=\"1\" class=\"dataframe\">\n",
       "  <thead>\n",
       "    <tr style=\"text-align: right;\">\n",
       "      <th></th>\n",
       "      <th>HITId</th>\n",
       "      <th>q_idx</th>\n",
       "      <th>WorkerId</th>\n",
       "      <th>gender</th>\n",
       "      <th>query</th>\n",
       "      <th>response</th>\n",
       "      <th>answer</th>\n",
       "    </tr>\n",
       "  </thead>\n",
       "  <tbody>\n",
       "    <tr>\n",
       "      <th>0</th>\n",
       "      <td>3NZ1E5QA6Z25J0NR6OZ9SXGHG515BO</td>\n",
       "      <td>1</td>\n",
       "      <td>ARPBDM5QZ4XQC</td>\n",
       "      <td>W</td>\n",
       "      <td>How did you get to swim with them!?</td>\n",
       "      <td>I've never been to a swimming pool.</td>\n",
       "      <td>Unhelpful</td>\n",
       "    </tr>\n",
       "  </tbody>\n",
       "</table>\n",
       "</div>"
      ],
      "text/plain": [
       "                            HITId  q_idx       WorkerId gender  \\\n",
       "0  3NZ1E5QA6Z25J0NR6OZ9SXGHG515BO      1  ARPBDM5QZ4XQC      W   \n",
       "\n",
       "                                 query                             response  \\\n",
       "0  How did you get to swim with them!?  I've never been to a swimming pool.   \n",
       "\n",
       "      answer  \n",
       "0  Unhelpful  "
      ]
     },
     "execution_count": 57,
     "metadata": {},
     "output_type": "execute_result"
    }
   ],
   "source": [
    "melted = pd.DataFrame(data)\n",
    "melted.columns = ['HITId', 'q_idx', 'WorkerId', 'gender', 'query', 'response', 'answer']\n",
    "melted.head(1)"
   ]
  },
  {
   "cell_type": "code",
   "execution_count": 35,
   "metadata": {},
   "outputs": [],
   "source": [
    "# include spammers:\n",
    "include = True\n",
    "if not include:\n",
    "    spammers = ['A3A0RP6IUR41PP']\n",
    "    melted = melted[melted.WorkerId.isin(spammers)].copy()"
   ]
  },
  {
   "cell_type": "code",
   "execution_count": 36,
   "metadata": {},
   "outputs": [],
   "source": [
    "data = []\n",
    "for i, group in melted.groupby(['HITId', 'q_idx']):\n",
    "    row = []\n",
    "    row.append(group.iloc[0]['HITId'])\n",
    "    row.append(group.iloc[0]['gender'])\n",
    "    row.append(group.iloc[0]['query'])\n",
    "    row.append(group.iloc[0]['response'])\n",
    "    for j in range(0,2):\n",
    "        if j < len(group):\n",
    "            row.append(group.iloc[j]['WorkerId'])\n",
    "            row.append(group.iloc[j]['answer'])\n",
    "    data.append(row)"
   ]
  },
  {
   "cell_type": "code",
   "execution_count": 37,
   "metadata": {},
   "outputs": [],
   "source": [
    "flat = pd.DataFrame(data)\n",
    "flat.columns = ['HITId', 'gender', 'query', 'response'] + \\\n",
    "    sum([ ['WorkerId%d' % i, 'answer%d' % i] for i in range(0,2) ], [])"
   ]
  },
  {
   "cell_type": "code",
   "execution_count": 38,
   "metadata": {},
   "outputs": [
    {
     "data": {
      "text/html": [
       "<div>\n",
       "<style scoped>\n",
       "    .dataframe tbody tr th:only-of-type {\n",
       "        vertical-align: middle;\n",
       "    }\n",
       "\n",
       "    .dataframe tbody tr th {\n",
       "        vertical-align: top;\n",
       "    }\n",
       "\n",
       "    .dataframe thead th {\n",
       "        text-align: right;\n",
       "    }\n",
       "</style>\n",
       "<table border=\"1\" class=\"dataframe\">\n",
       "  <thead>\n",
       "    <tr style=\"text-align: right;\">\n",
       "      <th></th>\n",
       "      <th>HITId</th>\n",
       "      <th>gender</th>\n",
       "      <th>query</th>\n",
       "      <th>response</th>\n",
       "      <th>WorkerId0</th>\n",
       "      <th>answer0</th>\n",
       "      <th>WorkerId1</th>\n",
       "      <th>answer1</th>\n",
       "    </tr>\n",
       "  </thead>\n",
       "  <tbody>\n",
       "    <tr>\n",
       "      <th>0</th>\n",
       "      <td>307L9TDWJYT46UPKVVGP4VIRJ29N3Y</td>\n",
       "      <td>W</td>\n",
       "      <td>What are you willing to risk?</td>\n",
       "      <td>I'm not sure. I think that I will be able to a...</td>\n",
       "      <td>A30NGIKN7761QK</td>\n",
       "      <td>Unhelpful</td>\n",
       "      <td>A3A0RP6IUR41PP</td>\n",
       "      <td>Helpful</td>\n",
       "    </tr>\n",
       "  </tbody>\n",
       "</table>\n",
       "</div>"
      ],
      "text/plain": [
       "                            HITId gender                          query  \\\n",
       "0  307L9TDWJYT46UPKVVGP4VIRJ29N3Y      W  What are you willing to risk?   \n",
       "\n",
       "                                            response       WorkerId0  \\\n",
       "0  I'm not sure. I think that I will be able to a...  A30NGIKN7761QK   \n",
       "\n",
       "     answer0       WorkerId1  answer1  \n",
       "0  Unhelpful  A3A0RP6IUR41PP  Helpful  "
      ]
     },
     "execution_count": 38,
     "metadata": {},
     "output_type": "execute_result"
    }
   ],
   "source": [
    "flat.head(1)"
   ]
  },
  {
   "cell_type": "markdown",
   "metadata": {},
   "source": [
    "### Collapse labels"
   ]
  },
  {
   "cell_type": "code",
   "execution_count": 39,
   "metadata": {},
   "outputs": [
    {
     "data": {
      "text/plain": [
       "array(['Unhelpful', 'Very helpful', 'Helpful', 'Neutral',\n",
       "       'Very Unhelpful', nan], dtype=object)"
      ]
     },
     "execution_count": 39,
     "metadata": {},
     "output_type": "execute_result"
    }
   ],
   "source": [
    "flat.answer0.unique()"
   ]
  },
  {
   "cell_type": "code",
   "execution_count": 58,
   "metadata": {},
   "outputs": [],
   "source": [
    "def mapping(x):\n",
    "    if type(x) == str:\n",
    "        x = x.lower()\n",
    "        l = ['very helpful', 'helpful', 'neutral', 'unhelpful', 'very unhelpful']\n",
    "        return 4 - l.index(x)\n",
    "    else:\n",
    "        print('error')\n",
    "        return 2"
   ]
  },
  {
   "cell_type": "code",
   "execution_count": 59,
   "metadata": {},
   "outputs": [
    {
     "name": "stdout",
     "output_type": "stream",
     "text": [
      "error\n",
      "error\n",
      "error\n"
     ]
    }
   ],
   "source": [
    "melted['scale'] = melted.answer.apply(lambda x: mapping(x))"
   ]
  },
  {
   "cell_type": "markdown",
   "metadata": {},
   "source": [
    "### z-scores"
   ]
  },
  {
   "cell_type": "code",
   "execution_count": 85,
   "metadata": {},
   "outputs": [],
   "source": [
    "d = {}\n",
    "for i, g in melted.groupby('WorkerId'):\n",
    "    d[i] = (g.mean()['scale'], g.std()['scale'])\n",
    "    \n",
    "    \n",
    "def f(x):\n",
    "    mean, std = d[x['WorkerId']]\n",
    "    if std > 0:\n",
    "        return (x['scale'] - mean) / std\n",
    "    else:\n",
    "        return 0\n",
    "    \n",
    "melted['norm_score'] = melted.apply(f, axis=1)"
   ]
  },
  {
   "cell_type": "code",
   "execution_count": 86,
   "metadata": {},
   "outputs": [
    {
     "data": {
      "text/plain": [
       "<AxesSubplot:xlabel='WorkerId', ylabel='norm_score'>"
      ]
     },
     "execution_count": 86,
     "metadata": {},
     "output_type": "execute_result"
    },
    {
     "data": {
      "image/png": "[encoded data removed]",
      "text/plain": [
       "<Figure size 432x288 with 1 Axes>"
      ]
     },
     "metadata": {},
     "output_type": "display_data"
    }
   ],
   "source": [
    "sns.violinplot(x='WorkerId', y='norm_score', data=melted)"
   ]
  },
  {
   "cell_type": "markdown",
   "metadata": {},
   "source": [
    "### Analysis"
   ]
  },
  {
   "cell_type": "code",
   "execution_count": 87,
   "metadata": {},
   "outputs": [
    {
     "name": "stdout",
     "output_type": "stream",
     "text": [
      "gender\n",
      "M   -0.051245\n",
      "W    0.049749\n",
      "Name: norm_score, dtype: float64\n",
      "0.10099360482609997\n"
     ]
    }
   ],
   "source": [
    "groups = melted.groupby('gender').norm_score.mean()\n",
    "print(groups)\n",
    "difference = groups['W'] - groups['M']\n",
    "print(difference)"
   ]
  },
  {
   "cell_type": "code",
   "execution_count": 88,
   "metadata": {},
   "outputs": [
    {
     "data": {
      "text/plain": [
       "1.1385561119554102"
      ]
     },
     "execution_count": 88,
     "metadata": {},
     "output_type": "execute_result"
    }
   ],
   "source": [
    "melted.std()['scale']"
   ]
  },
  {
   "cell_type": "markdown",
   "metadata": {},
   "source": [
    "##### Plot"
   ]
  },
  {
   "cell_type": "code",
   "execution_count": 89,
   "metadata": {},
   "outputs": [
    {
     "data": {
      "text/plain": [
       "<AxesSubplot:xlabel='gender', ylabel='norm_score'>"
      ]
     },
     "execution_count": 89,
     "metadata": {},
     "output_type": "execute_result"
    },
    {
     "data": {
      "image/png": "[encoded data removed]",
      "text/plain": [
       "<Figure size 432x288 with 1 Axes>"
      ]
     },
     "metadata": {},
     "output_type": "display_data"
    }
   ],
   "source": [
    "sns.pointplot(x='gender', y='norm_score', data=melted, hue='gender')"
   ]
  },
  {
   "cell_type": "markdown",
   "metadata": {},
   "source": [
    "##### t-test"
   ]
  },
  {
   "cell_type": "code",
   "execution_count": 90,
   "metadata": {},
   "outputs": [
    {
     "data": {
      "text/plain": [
       "Ttest_indResult(statistic=-2.393386210162351, pvalue=0.01677862340363326)"
      ]
     },
     "execution_count": 90,
     "metadata": {},
     "output_type": "execute_result"
    }
   ],
   "source": [
    "from scipy.stats import ttest_ind\n",
    "groups = list(melted.groupby('gender'))\n",
    "m_group, w_group = groups[0], groups[1]\n",
    "ttest_ind(m_group[1]['norm_score'], w_group[1]['norm_score'])"
   ]
  },
  {
   "cell_type": "markdown",
   "metadata": {},
   "source": [
    "##### Number of workers"
   ]
  },
  {
   "cell_type": "code",
   "execution_count": 91,
   "metadata": {},
   "outputs": [
    {
     "name": "stderr",
     "output_type": "stream",
     "text": [
      "/nas/home/jwei/anaconda3/envs/notebook/lib/python3.8/site-packages/seaborn/_decorators.py:36: FutureWarning: Pass the following variable as a keyword arg: x. From version 0.12, the only valid positional argument will be `data`, and passing other arguments without an explicit keyword will result in an error or misinterpretation.\n",
      "  warnings.warn(\n"
     ]
    },
    {
     "name": "stdout",
     "output_type": "stream",
     "text": [
      "47\n"
     ]
    },
    {
     "data": {
      "image/png": "[encoded data removed]",
      "text/plain": [
       "<Figure size 432x288 with 1 Axes>"
      ]
     },
     "metadata": {},
     "output_type": "display_data"
    }
   ],
   "source": [
    "sns.countplot(melted['WorkerId'], orient='v')\n",
    "print(len(melted['WorkerId'].value_counts()))"
   ]
  },
  {
   "cell_type": "code",
   "execution_count": 92,
   "metadata": {},
   "outputs": [
    {
     "data": {
      "text/plain": [
       "A3A0RP6IUR41PP    576\n",
       "A1I66SKK9RFQSA    360\n",
       "A304UJAE051J89    252\n",
       "A12TSLY8GXWHB4    180\n",
       "A358FO4TSP07H      72\n",
       "A16MUTJUTF8VBF     60\n",
       "A6ECCFRGJYRQ7      60\n",
       "ARPBDM5QZ4XQC      48\n",
       "AOADA34ZQHEUB      48\n",
       "ARQR5NIFA1AJ       48\n",
       "A39SK1E6IMQBD5     24\n",
       "A7TYKQXWAIV7C      12\n",
       "AR5AV0OMG1SJU      12\n",
       "A1KN048KGEJ6I0     12\n",
       "A208AKSAQ31CUJ     12\n",
       "A1ZDR2UN7M92LI     12\n",
       "A3ENQKD0V9VHBF     12\n",
       "A12ATVBE1I4567     12\n",
       "A1E8UHTVL7X3IT     12\n",
       "AEQAECZ7YG5LO      12\n",
       "A2XK59FYAFO9EX     12\n",
       "AKDT74PI2WSIG      12\n",
       "A280UKMMBLRURU     12\n",
       "AZEGZ5ZVM6P5A      12\n",
       "A2L6M8DR6VF9P1     12\n",
       "A2OZKKX2O0YTLD     12\n",
       "A3DCUBN7J9IIHU     12\n",
       "A39VVWV1GHLMFD     12\n",
       "A2Y8CYVC3O2H62     12\n",
       "A1SC3CR9BN0HZW     12\n",
       "ACY3ZOOZMVS7Y      12\n",
       "A18T7E73TNGOKP     12\n",
       "A35GVG1B0TGRXA     12\n",
       "A25DFKT5NQWY68     12\n",
       "A18LAR2IV3FHF9     12\n",
       "A1CEO8RFPXMO5W     12\n",
       "AKGUW9H0O6CDA      12\n",
       "A2IOCO3T2KO1WI     12\n",
       "A12NNJKHIZP1TY     12\n",
       "A23KAJRDVCVGOE     12\n",
       "A2UEZYH0AI7X4T     12\n",
       "A30NGIKN7761QK     12\n",
       "AFO9MCOXXSYY7      12\n",
       "A2488KXHWJTJR7     12\n",
       "A10ADU1SXTDGS7     12\n",
       "A1CCQK9OJ7ZICK     12\n",
       "A2XRCSTVK8UR06     12\n",
       "Name: WorkerId, dtype: int64"
      ]
     },
     "execution_count": 92,
     "metadata": {},
     "output_type": "execute_result"
    }
   ],
   "source": [
    "melted['WorkerId'].value_counts()"
   ]
  },
  {
   "cell_type": "markdown",
   "metadata": {},
   "source": [
    "##### pooled variance"
   ]
  },
  {
   "cell_type": "code",
   "execution_count": 95,
   "metadata": {},
   "outputs": [
    {
     "name": "stdout",
     "output_type": "stream",
     "text": [
      "error\n",
      "error\n",
      "error\n"
     ]
    },
    {
     "data": {
      "text/html": [
       "<div>\n",
       "<style scoped>\n",
       "    .dataframe tbody tr th:only-of-type {\n",
       "        vertical-align: middle;\n",
       "    }\n",
       "\n",
       "    .dataframe tbody tr th {\n",
       "        vertical-align: top;\n",
       "    }\n",
       "\n",
       "    .dataframe thead th {\n",
       "        text-align: right;\n",
       "    }\n",
       "</style>\n",
       "<table border=\"1\" class=\"dataframe\">\n",
       "  <thead>\n",
       "    <tr style=\"text-align: right;\">\n",
       "      <th></th>\n",
       "      <th>HITId</th>\n",
       "      <th>gender</th>\n",
       "      <th>query</th>\n",
       "      <th>response</th>\n",
       "      <th>WorkerId0</th>\n",
       "      <th>answer0</th>\n",
       "      <th>WorkerId1</th>\n",
       "      <th>answer1</th>\n",
       "      <th>scale0</th>\n",
       "      <th>scale1</th>\n",
       "    </tr>\n",
       "  </thead>\n",
       "  <tbody>\n",
       "    <tr>\n",
       "      <th>0</th>\n",
       "      <td>307L9TDWJYT46UPKVVGP4VIRJ29N3Y</td>\n",
       "      <td>W</td>\n",
       "      <td>What are you willing to risk?</td>\n",
       "      <td>I'm not sure. I think that I will be able to a...</td>\n",
       "      <td>A30NGIKN7761QK</td>\n",
       "      <td>Unhelpful</td>\n",
       "      <td>A3A0RP6IUR41PP</td>\n",
       "      <td>Helpful</td>\n",
       "      <td>1</td>\n",
       "      <td>3.318159</td>\n",
       "    </tr>\n",
       "  </tbody>\n",
       "</table>\n",
       "</div>"
      ],
      "text/plain": [
       "                            HITId gender                          query  \\\n",
       "0  307L9TDWJYT46UPKVVGP4VIRJ29N3Y      W  What are you willing to risk?   \n",
       "\n",
       "                                            response       WorkerId0  \\\n",
       "0  I'm not sure. I think that I will be able to a...  A30NGIKN7761QK   \n",
       "\n",
       "     answer0       WorkerId1  answer1  scale0    scale1  \n",
       "0  Unhelpful  A3A0RP6IUR41PP  Helpful       1  3.318159  "
      ]
     },
     "execution_count": 95,
     "metadata": {},
     "output_type": "execute_result"
    }
   ],
   "source": [
    "import random\n",
    "flat['scale0'] = flat.answer0.apply(lambda x: mapping(x))\n",
    "flat['scale1'] = flat.answer1.apply(lambda x: mapping(x) + random.uniform(0,0.4))\n",
    "flat.head(1)"
   ]
  },
  {
   "cell_type": "code",
   "execution_count": 96,
   "metadata": {},
   "outputs": [
    {
     "data": {
      "text/plain": [
       "<AxesSubplot:xlabel='scale0', ylabel='scale1'>"
      ]
     },
     "execution_count": 96,
     "metadata": {},
     "output_type": "execute_result"
    },
    {
     "data": {
      "image/png": "[encoded data removed]",
      "text/plain": [
       "<Figure size 432x288 with 1 Axes>"
      ]
     },
     "metadata": {},
     "output_type": "display_data"
    }
   ],
   "source": [
    "sns.stripplot(data=flat, x='scale0', y='scale1')"
   ]
  },
  {
   "cell_type": "code",
   "execution_count": 83,
   "metadata": {
    "scrolled": true
   },
   "outputs": [
    {
     "name": "stderr",
     "output_type": "stream",
     "text": [
      "/nas/home/jwei/anaconda3/envs/notebook/lib/python3.8/site-packages/pandas/core/series.py:726: RuntimeWarning: invalid value encountered in sqrt\n",
      "  result = getattr(ufunc, method)(*inputs, **kwargs)\n"
     ]
    },
    {
     "data": {
      "text/plain": [
       "1.0641310783515534"
      ]
     },
     "execution_count": 83,
     "metadata": {},
     "output_type": "execute_result"
    }
   ],
   "source": [
    "pooled_var = np.mean(np.sqrt(flat['scale0'] - flat['scale1']))\n",
    "np.sqrt(pooled_var)"
   ]
  }
 ],
 "metadata": {
  "kernelspec": {
   "display_name": "Python 3",
   "language": "python",
   "name": "python3"
  },
  "language_info": {
   "codemirror_mode": {
    "name": "ipython",
    "version": 3
   },
   "file_extension": ".py",
   "mimetype": "text/x-python",
   "name": "python",
   "nbconvert_exporter": "python",
   "pygments_lexer": "ipython3",
   "version": "3.8.5"
  }
 },
 "nbformat": 4,
 "nbformat_minor": 4
}
